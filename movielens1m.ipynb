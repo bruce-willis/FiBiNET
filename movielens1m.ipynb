{
  "nbformat": 4,
  "nbformat_minor": 0,
  "metadata": {
    "colab": {
      "name": "FiBiNet.ipynb",
      "provenance": [],
      "collapsed_sections": [],
      "mount_file_id": "1UmZ9htyktr1qUwwwmsr6FKiNVS0FvpOe",
      "authorship_tag": "ABX9TyMlSxO0sKD9RvnoeP4jMPK4"
    },
    "kernelspec": {
      "name": "python3",
      "display_name": "Python 3"
    },
    "accelerator": "GPU"
  },
  "cells": [
    {
      "cell_type": "code",
      "metadata": {
        "id": "MmiMqIC35jsy"
      },
      "source": [
        "!pip install -U deepctr-torch\n",
        "# !pip install reco-utils==9.9.0"
      ],
      "execution_count": null,
      "outputs": []
    },
    {
      "cell_type": "code",
      "metadata": {
        "id": "9Gz7XmT9fk8H"
      },
      "source": [
        "!wget http://files.grouplens.org/datasets/movielens/ml-1m.zip\n",
        "!unzip ml-1m.zip"
      ],
      "execution_count": null,
      "outputs": []
    },
    {
      "cell_type": "code",
      "metadata": {
        "id": "LKr1_CS3FhhD"
      },
      "source": [
        "from tensorflow.python.keras.preprocessing.sequence import pad_sequences\n",
        "from sklearn.preprocessing import LabelEncoder, MinMaxScaler\n",
        "from sklearn.model_selection import train_test_split\n",
        "import pandas as pd\n",
        "import numpy as np"
      ],
      "execution_count": null,
      "outputs": []
    },
    {
      "cell_type": "code",
      "metadata": {
        "id": "ThkLSJx3pBfk"
      },
      "source": [
        "import torch"
      ],
      "execution_count": null,
      "outputs": []
    },
    {
      "cell_type": "code",
      "metadata": {
        "id": "TaBdBkqapYQh"
      },
      "source": [
        "from deepctr_torch.inputs import SparseFeat, DenseFeat, get_feature_names, VarLenSparseFeat\n",
        "from deepctr_torch.models import *"
      ],
      "execution_count": null,
      "outputs": []
    },
    {
      "cell_type": "code",
      "metadata": {
        "id": "q8jkQTiLseXi"
      },
      "source": [
        "def split(x):\n",
        "    key_ans = x.split('|')\n",
        "    for key in key_ans:\n",
        "        if key not in key2index:\n",
        "            key2index[key] = len(key2index) + 1\n",
        "    return list(map(lambda x: key2index[x], key_ans))"
      ],
      "execution_count": null,
      "outputs": []
    },
    {
      "cell_type": "code",
      "metadata": {
        "id": "Zw25fDwRnouT"
      },
      "source": [
        "COL_NAME = ['uid','mid','rating','timestamp']\n",
        "ratings = pd.read_csv('ml-1m/ratings.dat',sep='::', header=None, engine='python', names=COL_NAME)\n",
        "\n",
        "COL_NAME = ['mid','movie_name','movie_genre'] \n",
        "items = pd.read_csv('ml-1m/movies.dat',sep='::', header=None, engine='python', names=COL_NAME)\n",
        "\n",
        "COL_NAME = ['uid','user_fea1','user_fea2','user_fea3','user_fea4']\n",
        "users = pd.read_csv('ml-1m/users.dat',sep='::', header=None, engine='python', names=COL_NAME)\n",
        "\n",
        "ratings = ratings.join(items.set_index('mid'), on = 'mid', how = 'left')\n",
        "ratings = ratings.join(users.set_index('uid'), on = 'uid', how = 'left')"
      ],
      "execution_count": null,
      "outputs": []
    },
    {
      "cell_type": "code",
      "metadata": {
        "id": "zPloz2ehqght"
      },
      "source": [
        "sparse_features = ['uid', 'mid', 'movie_name', 'user_fea1', 'user_fea2', 'user_fea3', 'user_fea4']"
      ],
      "execution_count": null,
      "outputs": []
    },
    {
      "cell_type": "code",
      "metadata": {
        "id": "QTxwB2uxqYgj"
      },
      "source": [
        "for feat in sparse_features:\n",
        "    lbe = LabelEncoder()\n",
        "    ratings[feat] = lbe.fit_transform(ratings[feat])"
      ],
      "execution_count": null,
      "outputs": []
    },
    {
      "cell_type": "code",
      "metadata": {
        "id": "JjGhz0Zus3wy"
      },
      "source": [
        "key2index = {}"
      ],
      "execution_count": null,
      "outputs": []
    },
    {
      "cell_type": "code",
      "metadata": {
        "id": "X0cI3eXns1WT"
      },
      "source": [
        "genres_list = list(map(split, ratings['movie_genre'].values))\n",
        "genres_length = np.array(list(map(len, genres_list)))\n",
        "max_len = max(genres_length)\n",
        "\n",
        "genres_list = pad_sequences(genres_list, maxlen=max_len, padding='post', )"
      ],
      "execution_count": null,
      "outputs": []
    },
    {
      "cell_type": "code",
      "metadata": {
        "id": "RaYGSM9ltV9x"
      },
      "source": [
        "fixlen_feature_columns = [SparseFeat(feat, ratings[feat].nunique(), embedding_dim=4) for feat in sparse_features]\n",
        "\n",
        "varlen_feature_columns = [VarLenSparseFeat(SparseFeat('movie_genre', vocabulary_size=len(key2index) + 1, embedding_dim=4), maxlen=max_len, combiner='mean')] \n",
        "\n",
        "linear_feature_columns = fixlen_feature_columns + varlen_feature_columns\n",
        "dnn_feature_columns = fixlen_feature_columns + varlen_feature_columns\n",
        "\n",
        "feature_names = get_feature_names(linear_feature_columns + dnn_feature_columns)"
      ],
      "execution_count": null,
      "outputs": []
    },
    {
      "cell_type": "code",
      "metadata": {
        "id": "cKH0Ui44FPTh"
      },
      "source": [
        "target = ratings.pop('rating')\n",
        "y = np.zeros_like(target)\n",
        "y[target>3] = 1\n",
        "X = ratings"
      ],
      "execution_count": null,
      "outputs": []
    },
    {
      "cell_type": "code",
      "metadata": {
        "id": "US8RXa9mur3j"
      },
      "source": [
        "X_train, X_test, y_train, y_test, g_train, g_test = train_test_split(X, y, genres_list, test_size=0.2, random_state=42)"
      ],
      "execution_count": null,
      "outputs": []
    },
    {
      "cell_type": "code",
      "metadata": {
        "id": "C0zTC4ezqG6w"
      },
      "source": [
        "train_model_input = {name: X_train[name] for name in sparse_features}\n",
        "train_model_input['movie_genre'] = g_train\n",
        "\n",
        "test_model_input = {name: X_test[name] for name in sparse_features}\n",
        "test_model_input['movie_genre'] = g_test"
      ],
      "execution_count": null,
      "outputs": []
    },
    {
      "cell_type": "code",
      "metadata": {
        "id": "X3zpUZHRsBDa"
      },
      "source": [
        "device = torch.device(\"cuda\" if torch.cuda.is_available() else \"cpu\")"
      ],
      "execution_count": null,
      "outputs": []
    },
    {
      "cell_type": "code",
      "metadata": {
        "id": "gwnn4RptwNwH"
      },
      "source": [
        "models = [FiBiNET, AFM, DeepFM, \n",
        "          xDeepFM, WDL, PNN, \n",
        "          CCPM, NFM, DCN, ONN]"
      ],
      "execution_count": null,
      "outputs": []
    },
    {
      "cell_type": "code",
      "metadata": {
        "id": "aqqeod30yh3-"
      },
      "source": [
        "res = {}"
      ],
      "execution_count": null,
      "outputs": []
    },
    {
      "cell_type": "code",
      "metadata": {
        "id": "wuZ2IM-Fw2tJ"
      },
      "source": [
        "for model_name in models:\n",
        "    # print('-' * 10 + f\"Started model {model_name.__name__}\" + '-' * 10)\n",
        "    if model_name.__name__ in ['PNN', 'DIN', 'DIEN']:\n",
        "        model = model_name(dnn_feature_columns=dnn_feature_columns, \n",
        "                           task='binary',\n",
        "                           l2_reg_embedding=1e-5, device=device)\n",
        "    else:   \n",
        "        model = model_name(linear_feature_columns=linear_feature_columns, \n",
        "                           dnn_feature_columns=dnn_feature_columns, \n",
        "                           task='binary', \n",
        "                           l2_reg_embedding=1e-5, device=device)\n",
        "\n",
        "    model.compile(\"adam\", \"binary_crossentropy\",\n",
        "                    metrics=[\"logloss\", \"auc\"], )\n",
        "    model.fit(train_model_input, y_train, batch_size=256,epochs=20,verbose=0,validation_split=0.0)\n",
        "\n",
        "    res[model_name.__name__] = model.evaluate(test_model_input, y_test)\n",
        "    # print(f\"logloss={res[model_name.__name__]['logloss']:.4f}   auc={res[model_name.__name__]['auc']:.4f}\")"
      ],
      "execution_count": null,
      "outputs": []
    },
    {
      "cell_type": "code",
      "metadata": {
        "colab": {
          "base_uri": "https://localhost:8080/"
        },
        "id": "37RO5vyb1fZi",
        "outputId": "cf9b0c3a-275e-440c-f2fa-30fb59870d0e"
      },
      "source": [
        "res"
      ],
      "execution_count": null,
      "outputs": [
        {
          "output_type": "execute_result",
          "data": {
            "text/plain": [
              "{'AFM': {'auc': 0.7946905449616923, 'logloss': 0.5370212439945969},\n",
              " 'CCPM': {'auc': 0.8019150553637175, 'logloss': 0.5306061214845735},\n",
              " 'DCN': {'auc': 0.8031605356273024, 'logloss': 0.5272173049426052},\n",
              " 'DeepFM': {'auc': 0.804853262910007, 'logloss': 0.5253414205088675},\n",
              " 'FiBiNET': {'auc': 0.8097533435504148, 'logloss': 0.5264089652203264},\n",
              " 'NFM': {'auc': 0.7947001640896278, 'logloss': 0.5371351416460893},\n",
              " 'ONN': {'auc': 0.775800398728564, 'logloss': 0.5772175185230914},\n",
              " 'PNN': {'auc': 0.8118524787710026, 'logloss': 0.5217028688360951},\n",
              " 'WDL': {'auc': 0.7999925197064117, 'logloss': 0.5302618263096803},\n",
              " 'xDeepFM': {'auc': 0.8077183401631445, 'logloss': 0.5235092325863476}}"
            ]
          },
          "metadata": {
            "tags": []
          },
          "execution_count": 42
        }
      ]
    },
    {
      "cell_type": "code",
      "metadata": {
        "id": "335G3K659nD9"
      },
      "source": [
        "def get_metrics(groups):\n",
        "    metrics =  pd.DataFrame.from_records(groups, columns=groups.keys(), index=list(groups.values())[0].keys())\n",
        "    metrics.index.name = 'metric'\n",
        "    return metrics\n",
        "\n",
        "def get_ate(groups, control_name):\n",
        "    \"\"\"Get Average Treatment Effect\n",
        "    groups - dictionary where keys - names of models, values - dicts of pairs <metric_name>, <metric_value>\n",
        "    control_name - name of baseline model\n",
        "    \n",
        "    return pd.DataFrame (rows corresponds to metrics, cols corresponds to models and ATE with respect to control)\n",
        "    \"\"\"\n",
        "    metrics = get_metrics(groups)\n",
        "    return metrics.subtract(metrics[control_name], axis='index').drop(columns=control_name) * 100"
      ],
      "execution_count": null,
      "outputs": []
    },
    {
      "cell_type": "code",
      "metadata": {
        "id": "n3tVKl6Z98bq"
      },
      "source": [
        "for model in res:\n",
        "    res[model]['log-loss'] = res[model]['logloss']"
      ],
      "execution_count": null,
      "outputs": []
    },
    {
      "cell_type": "code",
      "metadata": {
        "id": "q7atR1CqBMiE"
      },
      "source": [
        "for model in res:\n",
        "    del res[model]['logloss']"
      ],
      "execution_count": null,
      "outputs": []
    },
    {
      "cell_type": "code",
      "metadata": {
        "id": "mNh2UW6I98Vq"
      },
      "source": [
        "a = get_metrics(res)\n",
        "b = get_ate(res, 'FiBiNET')"
      ],
      "execution_count": null,
      "outputs": []
    },
    {
      "cell_type": "code",
      "metadata": {
        "id": "JiaLvH9ZAOkB"
      },
      "source": [
        "pd.set_option(\"display.precision\", 3)"
      ],
      "execution_count": null,
      "outputs": []
    }
  ]
}