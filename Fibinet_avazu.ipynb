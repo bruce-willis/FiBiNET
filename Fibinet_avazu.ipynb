{
 "cells": [
  {
   "cell_type": "code",
   "execution_count": 1,
   "metadata": {},
   "outputs": [],
   "source": [
    "# -*- coding: utf-8 -*-\n",
    "import pandas as pd\n",
    "import numpy as np\n",
    "import torch\n",
    "import sys\n",
    "from sklearn.metrics import log_loss, roc_auc_score\n",
    "from sklearn.model_selection import train_test_split\n",
    "from sklearn.preprocessing import LabelEncoder, MinMaxScaler\n",
    "\n",
    "from deepctr_torch.inputs import SparseFeat, DenseFeat, get_feature_names\n",
    "from deepctr_torch.models import *\n",
    "\n",
    "import os"
   ]
  },
  {
   "cell_type": "code",
   "execution_count": 2,
   "metadata": {},
   "outputs": [],
   "source": [
    "os.environ[\"CUDA_VISIBLE_DEVICES\"] = \"1\"\n",
    "\n",
    "# training parameters\n",
    "epochs = 10\n",
    "batch_size = 512*25"
   ]
  },
  {
   "cell_type": "code",
   "execution_count": 3,
   "metadata": {},
   "outputs": [],
   "source": [
    "from tqdm import tqdm\n",
    "tqdm.pandas()"
   ]
  },
  {
   "cell_type": "code",
   "execution_count": 4,
   "metadata": {},
   "outputs": [
    {
     "name": "stdout",
     "output_type": "stream",
     "text": [
      "len(sparse_features) 21\n",
      "read_pickle ok\n",
      "             id  click  hour  C1  banner_pos  site_id  site_domain  \\\n",
      "0  1.000009e+18      0     0   2           0      582         7339   \n",
      "1  1.000017e+19      0     0   2           0      582         7339   \n",
      "2  1.000037e+19      0     0   2           0      582         7339   \n",
      "3  1.000064e+19      0     0   2           0      582         7339   \n",
      "4  1.000068e+19      0     0   2           1     4695         4456   \n",
      "\n",
      "   site_category  app_id  app_domain  ...  device_conn_type  C14 C15  C16  \\\n",
      "0              2    7884         254  ...                 1  285   3    2   \n",
      "1              2    7884         254  ...                 0  283   3    2   \n",
      "2              2    7884         254  ...                 0  283   3    2   \n",
      "3              2    7884         254  ...                 0  285   3    2   \n",
      "4              0    7884         254  ...                 0  590   3    2   \n",
      "\n",
      "   C17  C18  C19  C20  C21  day  \n",
      "0   56    0    2    0   22   21  \n",
      "1   56    0    2   65   22   21  \n",
      "2   56    0    2   65   22   21  \n",
      "3   56    0    2   65   22   21  \n",
      "4  107    0    2    0   42   21  \n",
      "\n",
      "[5 rows x 25 columns]\n",
      "['21' '22' '23' '24' '25' '26' '27' '28' '29' '30']\n"
     ]
    }
   ],
   "source": [
    "# all the features in avazu dataset are sparse features\n",
    "sparse_features = ['hour', 'C1', 'banner_pos', 'site_id', 'site_domain',\n",
    "                   'site_category', 'app_id', 'app_domain', 'app_category', 'device_id',\n",
    "                   'device_model', 'device_type', 'device_conn_type',  # 'device_ip', \n",
    "                   'C14',\n",
    "                   'C15', 'C16', 'C17', 'C18', 'C19', 'C20', 'C21', ]\n",
    "print('len(sparse_features)', len(sparse_features))  # id, click, device_ip, and day are not used. 25-4=21\n",
    "\n",
    "target = ['click']\n",
    "\n",
    "try:\n",
    "    # read data from pkl directly\n",
    "    data=pd.read_pickle('data_avazu.pkl')\n",
    "    print('read_pickle ok')\n",
    "except:    \n",
    "    print('preprocess data and save it by pickle')\n",
    "    data = pd.read_csv('train.csv')\n",
    "    print('read train ok')\n",
    "    data['day'] = data['hour'].progress_apply(lambda x: str(x)[4:6])\n",
    "    data['hour'] = data['hour'].progress_apply(lambda x: str(x)[6:])\n",
    "    # data = pd.read_csv('avazu_first_3d.csv',nrows=50)  # for test\n",
    "    data[sparse_features] = data[sparse_features].fillna('-1', )\n",
    "    # 1.Label Encoding for sparse features,and do simple Transformation for dense features\n",
    "    for feat in sparse_features:\n",
    "        lbe = LabelEncoder()\n",
    "        data[feat] = lbe.fit_transform(data[feat])\n",
    "\n",
    "    data.to_pickle('data_avazu.pkl')\n",
    "    print('to_pickle ok')\n",
    "\n",
    "print(data[:5])\n",
    "print(data['day'].unique())"
   ]
  },
  {
   "cell_type": "code",
   "execution_count": 5,
   "metadata": {},
   "outputs": [
    {
     "name": "stdout",
     "output_type": "stream",
     "text": [
      "split data. use the first 2 days for training\n",
      "the 3rd day data: 20% for validation, 80% for test\n"
     ]
    }
   ],
   "source": [
    "# 2.count #unique features for each sparse field,and record dense feature field name\n",
    "\n",
    "fixlen_feature_columns = [SparseFeat(feat, data[feat].nunique(), embedding_dim=8)\n",
    "                          for feat in sparse_features]\n",
    "\n",
    "dnn_feature_columns = fixlen_feature_columns\n",
    "linear_feature_columns = fixlen_feature_columns\n",
    "\n",
    "feature_names = get_feature_names(\n",
    "    linear_feature_columns + dnn_feature_columns)\n",
    "\n",
    "# 3.generate input data for model\n",
    "\n",
    "print('split data. use the first 2 days for training')\n",
    "print('the 3rd day data: 20% for validation, 80% for test')\n",
    "train = data[data['day'] != '23']  # first 3 days: 21 22 23\n",
    "test = data[data['day'] == '23']\n",
    "val, test = train_test_split(test, test_size=0.8,random_state=2020)\n",
    "\n",
    "train_model_input = {name: train[name] for name in feature_names}\n",
    "val_model_input = {name: val[name] for name in feature_names}\n",
    "test_model_input = {name: test[name] for name in feature_names}"
   ]
  },
  {
   "cell_type": "code",
   "execution_count": 10,
   "metadata": {},
   "outputs": [
    {
     "name": "stdout",
     "output_type": "stream",
     "text": [
      "cuda ready...\n",
      "model FiBiNET(\n",
      "  (embedding_dict): ModuleDict(\n",
      "    (C1): Embedding(7, 8)\n",
      "    (C14): Embedding(2626, 8)\n",
      "    (C15): Embedding(8, 8)\n",
      "    (C16): Embedding(9, 8)\n",
      "    (C17): Embedding(435, 8)\n",
      "    (C18): Embedding(4, 8)\n",
      "    (C19): Embedding(68, 8)\n",
      "    (C20): Embedding(172, 8)\n",
      "    (C21): Embedding(60, 8)\n",
      "    (app_category): Embedding(36, 8)\n",
      "    (app_domain): Embedding(559, 8)\n",
      "    (app_id): Embedding(8552, 8)\n",
      "    (banner_pos): Embedding(7, 8)\n",
      "    (device_conn_type): Embedding(4, 8)\n",
      "    (device_id): Embedding(2686408, 8)\n",
      "    (device_model): Embedding(8251, 8)\n",
      "    (device_type): Embedding(5, 8)\n",
      "    (hour): Embedding(24, 8)\n",
      "    (site_category): Embedding(26, 8)\n",
      "    (site_domain): Embedding(7745, 8)\n",
      "    (site_id): Embedding(4737, 8)\n",
      "  )\n",
      "  (linear_model): Linear(\n",
      "    (embedding_dict): ModuleDict(\n",
      "      (C1): Embedding(7, 1)\n",
      "      (C14): Embedding(2626, 1)\n",
      "      (C15): Embedding(8, 1)\n",
      "      (C16): Embedding(9, 1)\n",
      "      (C17): Embedding(435, 1)\n",
      "      (C18): Embedding(4, 1)\n",
      "      (C19): Embedding(68, 1)\n",
      "      (C20): Embedding(172, 1)\n",
      "      (C21): Embedding(60, 1)\n",
      "      (app_category): Embedding(36, 1)\n",
      "      (app_domain): Embedding(559, 1)\n",
      "      (app_id): Embedding(8552, 1)\n",
      "      (banner_pos): Embedding(7, 1)\n",
      "      (device_conn_type): Embedding(4, 1)\n",
      "      (device_id): Embedding(2686408, 1)\n",
      "      (device_model): Embedding(8251, 1)\n",
      "      (device_type): Embedding(5, 1)\n",
      "      (hour): Embedding(24, 1)\n",
      "      (site_category): Embedding(26, 1)\n",
      "      (site_domain): Embedding(7745, 1)\n",
      "      (site_id): Embedding(4737, 1)\n",
      "    )\n",
      "  )\n",
      "  (out): PredictionLayer()\n",
      "  (SE): SENETLayer(\n",
      "    (excitation): Sequential(\n",
      "      (0): Linear(in_features=21, out_features=2, bias=False)\n",
      "      (1): ReLU()\n",
      "      (2): Linear(in_features=2, out_features=21, bias=False)\n",
      "      (3): ReLU()\n",
      "    )\n",
      "  )\n",
      "  (Bilinear): BilinearInteraction(\n",
      "    (bilinear): ModuleList(\n",
      "      (0): Linear(in_features=8, out_features=8, bias=False)\n",
      "      (1): Linear(in_features=8, out_features=8, bias=False)\n",
      "      (2): Linear(in_features=8, out_features=8, bias=False)\n",
      "      (3): Linear(in_features=8, out_features=8, bias=False)\n",
      "      (4): Linear(in_features=8, out_features=8, bias=False)\n",
      "      (5): Linear(in_features=8, out_features=8, bias=False)\n",
      "      (6): Linear(in_features=8, out_features=8, bias=False)\n",
      "      (7): Linear(in_features=8, out_features=8, bias=False)\n",
      "      (8): Linear(in_features=8, out_features=8, bias=False)\n",
      "      (9): Linear(in_features=8, out_features=8, bias=False)\n",
      "      (10): Linear(in_features=8, out_features=8, bias=False)\n",
      "      (11): Linear(in_features=8, out_features=8, bias=False)\n",
      "      (12): Linear(in_features=8, out_features=8, bias=False)\n",
      "      (13): Linear(in_features=8, out_features=8, bias=False)\n",
      "      (14): Linear(in_features=8, out_features=8, bias=False)\n",
      "      (15): Linear(in_features=8, out_features=8, bias=False)\n",
      "      (16): Linear(in_features=8, out_features=8, bias=False)\n",
      "      (17): Linear(in_features=8, out_features=8, bias=False)\n",
      "      (18): Linear(in_features=8, out_features=8, bias=False)\n",
      "      (19): Linear(in_features=8, out_features=8, bias=False)\n",
      "      (20): Linear(in_features=8, out_features=8, bias=False)\n",
      "    )\n",
      "  )\n",
      "  (dnn): DNN(\n",
      "    (dropout): Dropout(p=0.3, inplace=False)\n",
      "    (linears): ModuleList(\n",
      "      (0): Linear(in_features=3360, out_features=400, bias=True)\n",
      "      (1): Linear(in_features=400, out_features=400, bias=True)\n",
      "      (2): Linear(in_features=400, out_features=400, bias=True)\n",
      "    )\n",
      "    (activation_layers): ModuleList(\n",
      "      (0): ReLU(inplace=True)\n",
      "      (1): ReLU(inplace=True)\n",
      "      (2): ReLU(inplace=True)\n",
      "    )\n",
      "  )\n",
      "  (dnn_linear): Linear(in_features=400, out_features=1, bias=False)\n",
      ")\n"
     ]
    }
   ],
   "source": [
    "# 4.Define Model,train,predict and evaluate\n",
    "\n",
    "device = 'cpu'\n",
    "use_cuda = True\n",
    "if use_cuda and torch.cuda.is_available():\n",
    "    print('cuda ready...')\n",
    "    device = 'cuda:0'\n",
    "\n",
    "model = FiBiNET(linear_feature_columns=linear_feature_columns, dnn_feature_columns=dnn_feature_columns,\n",
    "                bilinear_type='each',\n",
    "                reduction_ratio=8, dnn_hidden_units=(400, 400, 400), l2_reg_linear=1e-4,\n",
    "                l2_reg_embedding=1e-4, l2_reg_dnn=1e-4, init_std=1e-15, seed=1024, dnn_dropout=0.3,\n",
    "                dnn_activation='relu',\n",
    "                task='binary', device=device)\n",
    "print('model', model)"
   ]
  },
  {
   "cell_type": "code",
   "execution_count": 15,
   "metadata": {},
   "outputs": [],
   "source": [
    "from deepctr_torch.callbacks import EarlyStopping, ModelCheckpoint"
   ]
  },
  {
   "cell_type": "code",
   "execution_count": 18,
   "metadata": {},
   "outputs": [],
   "source": [
    "def get_metrics(groups) -> pd.DataFrame:\n",
    "    metrics =  pd.DataFrame.from_records(groups, columns=groups.keys(), index=list(all_metrics.values())[0].keys())\n",
    "    metrics.index.name = 'metric'\n",
    "    return metrics\n",
    "\n",
    "def get_ate(groups, control_name) -> pd.DataFrame:\n",
    "    \"\"\"Get Average Treatment Effect\n",
    "    groups - dictionary where keys - names of models, values - dicts of pairs <metric_name>, <metric_value>\n",
    "    control_name - name of baseline model\n",
    "    \n",
    "    return pd.DataFrame (rows corresponds to metrics, cols corresponds to models and ATE with respect to control)\n",
    "    \"\"\"\n",
    "    metrics = get_metrics(groups)\n",
    "    return metrics.subtract(metrics[control_name], axis='index').drop(columns=control_name) * 100\n",
    "\n",
    "\n",
    "all_metrics = {}"
   ]
  },
  {
   "cell_type": "code",
   "execution_count": 8,
   "metadata": {},
   "outputs": [],
   "source": [
    "def test_model(model, train_model_input, test_model_input, val_model_input, y_train, y_test, y_valid, batch_size=4096 * 2):\n",
    "    model_name = model.__class__.__name__\n",
    "    \n",
    "    model.compile(\"adam\", \"binary_crossentropy\",\n",
    "              metrics=[\"binary_crossentropy\", \"auc\"])\n",
    "    \n",
    "#     es = EarlyStopping(monitor='val_auc', min_delta=0, verbose=1, patience=0, mode='max')\n",
    "#     mdckpt = ModelCheckpoint(filepath = f'{model_name}.ckpt', monitor='val_auc', mode='max', save_best_only= True)\n",
    "    \n",
    "    for epoch in range(1):\n",
    "        print('epoch',epoch)\n",
    "        model.fit(train_model_input, y_train,\n",
    "                  batch_size=batch_size, epochs=1, validation_data=(val_model_input, y_valid), verbose=1)\n",
    "\n",
    "        pred_ans = model.predict(test_model_input, batch_size*20)\n",
    "        test_logloss = round(log_loss(y_test, pred_ans), 4)\n",
    "        test_auc = round(roc_auc_score(y_test, pred_ans), 4)\n",
    "        print(\"test LogLoss\", test_logloss)\n",
    "        print(\"test AUC\", test_auc)\n",
    "    \n",
    "    \n",
    "#     history = model.fit(train_model_input, y_train,\n",
    "#                         batch_size=batch_size, epochs=15, verbose=2, validation_split=0.2, callbacks=[es, mdckpt])\n",
    "    \n",
    "#     model = torch.load(f'{model_name}.ckpt')\n",
    "    \n",
    "#     y_valid_predicted = model.predict(test_model_input, batch_size=batch_size).squeeze()\n",
    "    torch.save(model, f'{model_name}.ckpt')\n",
    "    return {\n",
    "        'roc-auc': test_auc,\n",
    "        'log-loss': test_logloss      \n",
    "    }"
   ]
  },
  {
   "cell_type": "code",
   "execution_count": 19,
   "metadata": {},
   "outputs": [
    {
     "name": "stdout",
     "output_type": "stream",
     "text": [
      "epoch 0\n"
     ]
    },
    {
     "name": "stderr",
     "output_type": "stream",
     "text": [
      "0it [00:00, ?it/s]"
     ]
    },
    {
     "name": "stdout",
     "output_type": "stream",
     "text": [
      "cuda:0\n",
      "Train on 36558215 samples, validate on 774150 samples, 2857 steps per epoch\n"
     ]
    },
    {
     "name": "stderr",
     "output_type": "stream",
     "text": [
      "2857it [24:35,  1.94it/s]\n"
     ]
    },
    {
     "name": "stdout",
     "output_type": "stream",
     "text": [
      "Epoch 1/1\n",
      "1485s - loss:  0.3883 - binary_crossentropy:  0.3883 - auc:  0.7625 - val_binary_crossentropy:  0.4159 - val_auc:  0.7432\n",
      "test LogLoss 0.4147\n",
      "test AUC 0.7437\n",
      "epoch 1\n"
     ]
    },
    {
     "name": "stderr",
     "output_type": "stream",
     "text": [
      "0it [00:00, ?it/s]"
     ]
    },
    {
     "name": "stdout",
     "output_type": "stream",
     "text": [
      "cuda:0\n",
      "Train on 36558215 samples, validate on 774150 samples, 2857 steps per epoch\n"
     ]
    },
    {
     "name": "stderr",
     "output_type": "stream",
     "text": [
      "2857it [24:38,  1.93it/s]\n"
     ]
    },
    {
     "name": "stdout",
     "output_type": "stream",
     "text": [
      "Epoch 1/1\n",
      "1488s - loss:  0.3645 - binary_crossentropy:  0.3645 - auc:  0.7978 - val_binary_crossentropy:  0.4206 - val_auc:  0.7390\n",
      "test LogLoss 0.4194\n",
      "test AUC 0.7392\n"
     ]
    },
    {
     "name": "stderr",
     "output_type": "stream",
     "text": [
      "/root/conda/envs/espnet_env/lib/python3.6/site-packages/torch/serialization.py:292: UserWarning: Couldn't retrieve source code for container of type FiBiNET. It won't be checked for correctness upon loading.\n",
      "  \"type \" + obj.__name__ + \". It won't be checked \"\n",
      "/root/conda/envs/espnet_env/lib/python3.6/site-packages/torch/serialization.py:292: UserWarning: Couldn't retrieve source code for container of type ModuleDict. It won't be checked for correctness upon loading.\n",
      "  \"type \" + obj.__name__ + \". It won't be checked \"\n",
      "/root/conda/envs/espnet_env/lib/python3.6/site-packages/torch/serialization.py:292: UserWarning: Couldn't retrieve source code for container of type Embedding. It won't be checked for correctness upon loading.\n",
      "  \"type \" + obj.__name__ + \". It won't be checked \"\n",
      "/root/conda/envs/espnet_env/lib/python3.6/site-packages/torch/serialization.py:292: UserWarning: Couldn't retrieve source code for container of type Linear. It won't be checked for correctness upon loading.\n",
      "  \"type \" + obj.__name__ + \". It won't be checked \"\n",
      "/root/conda/envs/espnet_env/lib/python3.6/site-packages/torch/serialization.py:292: UserWarning: Couldn't retrieve source code for container of type PredictionLayer. It won't be checked for correctness upon loading.\n",
      "  \"type \" + obj.__name__ + \". It won't be checked \"\n",
      "/root/conda/envs/espnet_env/lib/python3.6/site-packages/torch/serialization.py:292: UserWarning: Couldn't retrieve source code for container of type SENETLayer. It won't be checked for correctness upon loading.\n",
      "  \"type \" + obj.__name__ + \". It won't be checked \"\n",
      "/root/conda/envs/espnet_env/lib/python3.6/site-packages/torch/serialization.py:292: UserWarning: Couldn't retrieve source code for container of type Sequential. It won't be checked for correctness upon loading.\n",
      "  \"type \" + obj.__name__ + \". It won't be checked \"\n",
      "/root/conda/envs/espnet_env/lib/python3.6/site-packages/torch/serialization.py:292: UserWarning: Couldn't retrieve source code for container of type ReLU. It won't be checked for correctness upon loading.\n",
      "  \"type \" + obj.__name__ + \". It won't be checked \"\n",
      "/root/conda/envs/espnet_env/lib/python3.6/site-packages/torch/serialization.py:292: UserWarning: Couldn't retrieve source code for container of type BilinearInteraction. It won't be checked for correctness upon loading.\n",
      "  \"type \" + obj.__name__ + \". It won't be checked \"\n",
      "/root/conda/envs/espnet_env/lib/python3.6/site-packages/torch/serialization.py:292: UserWarning: Couldn't retrieve source code for container of type ModuleList. It won't be checked for correctness upon loading.\n",
      "  \"type \" + obj.__name__ + \". It won't be checked \"\n",
      "/root/conda/envs/espnet_env/lib/python3.6/site-packages/torch/serialization.py:292: UserWarning: Couldn't retrieve source code for container of type DNN. It won't be checked for correctness upon loading.\n",
      "  \"type \" + obj.__name__ + \". It won't be checked \"\n",
      "/root/conda/envs/espnet_env/lib/python3.6/site-packages/torch/serialization.py:292: UserWarning: Couldn't retrieve source code for container of type Dropout. It won't be checked for correctness upon loading.\n",
      "  \"type \" + obj.__name__ + \". It won't be checked \"\n"
     ]
    }
   ],
   "source": [
    "all_metrics['FibiNet'] = test_model(model, train_model_input, test_model_input, val_model_input, train[target].values, test[target].values, val[target], batch_size)\n"
   ]
  },
  {
   "cell_type": "code",
   "execution_count": 8,
   "metadata": {},
   "outputs": [
    {
     "name": "stdout",
     "output_type": "stream",
     "text": [
      "test LogLoss 0.6932\n",
      "test AUC 0.5156\n",
      "epoch 0\n"
     ]
    },
    {
     "name": "stderr",
     "output_type": "stream",
     "text": [
      "0it [00:00, ?it/s]"
     ]
    },
    {
     "name": "stdout",
     "output_type": "stream",
     "text": [
      "cuda:0\n",
      "Train on 9460121 samples, validate on 774150 samples, 740 steps per epoch\n"
     ]
    },
    {
     "name": "stderr",
     "output_type": "stream",
     "text": [
      "740it [04:39,  2.65it/s]\n"
     ]
    },
    {
     "name": "stdout",
     "output_type": "stream",
     "text": [
      "Epoch 1/1\n",
      "289s - loss:  0.3903 - binary_crossentropy:  0.3903 - auc:  0.7510 - val_binary_crossentropy:  0.4249 - val_auc:  0.7276\n",
      "test LogLoss 0.4239\n",
      "test AUC 0.7278\n",
      "epoch 1\n"
     ]
    },
    {
     "name": "stderr",
     "output_type": "stream",
     "text": [
      "0it [00:00, ?it/s]"
     ]
    },
    {
     "name": "stdout",
     "output_type": "stream",
     "text": [
      "cuda:0\n",
      "Train on 9460121 samples, validate on 774150 samples, 740 steps per epoch\n"
     ]
    },
    {
     "name": "stderr",
     "output_type": "stream",
     "text": [
      "740it [04:40,  2.64it/s]\n"
     ]
    },
    {
     "name": "stdout",
     "output_type": "stream",
     "text": [
      "Epoch 1/1\n",
      "290s - loss:  0.3589 - binary_crossentropy:  0.3588 - auc:  0.8011 - val_binary_crossentropy:  0.4279 - val_auc:  0.7215\n",
      "test LogLoss 0.427\n",
      "test AUC 0.7215\n",
      "epoch 2\n"
     ]
    },
    {
     "name": "stderr",
     "output_type": "stream",
     "text": [
      "0it [00:00, ?it/s]"
     ]
    },
    {
     "name": "stdout",
     "output_type": "stream",
     "text": [
      "cuda:0\n",
      "Train on 9460121 samples, validate on 774150 samples, 740 steps per epoch\n"
     ]
    },
    {
     "name": "stderr",
     "output_type": "stream",
     "text": [
      "740it [04:54,  2.51it/s]\n"
     ]
    },
    {
     "name": "stdout",
     "output_type": "stream",
     "text": [
      "Epoch 1/1\n",
      "304s - loss:  0.3462 - binary_crossentropy:  0.3462 - auc:  0.8156 - val_binary_crossentropy:  0.4396 - val_auc:  0.7079\n",
      "test LogLoss 0.4387\n",
      "test AUC 0.708\n",
      "epoch 3\n"
     ]
    },
    {
     "name": "stderr",
     "output_type": "stream",
     "text": [
      "0it [00:00, ?it/s]"
     ]
    },
    {
     "name": "stdout",
     "output_type": "stream",
     "text": [
      "cuda:0\n",
      "Train on 9460121 samples, validate on 774150 samples, 740 steps per epoch\n"
     ]
    },
    {
     "name": "stderr",
     "output_type": "stream",
     "text": [
      "740it [04:31,  2.73it/s]\n"
     ]
    },
    {
     "name": "stdout",
     "output_type": "stream",
     "text": [
      "Epoch 1/1\n",
      "280s - loss:  0.3417 - binary_crossentropy:  0.3417 - auc:  0.8204 - val_binary_crossentropy:  0.4436 - val_auc:  0.7073\n",
      "test LogLoss 0.4427\n",
      "test AUC 0.7074\n",
      "epoch 4\n"
     ]
    },
    {
     "name": "stderr",
     "output_type": "stream",
     "text": [
      "0it [00:00, ?it/s]"
     ]
    },
    {
     "name": "stdout",
     "output_type": "stream",
     "text": [
      "cuda:0\n",
      "Train on 9460121 samples, validate on 774150 samples, 740 steps per epoch\n"
     ]
    },
    {
     "name": "stderr",
     "output_type": "stream",
     "text": [
      "531it [03:17,  2.69it/s]\n"
     ]
    },
    {
     "ename": "KeyboardInterrupt",
     "evalue": "",
     "output_type": "error",
     "traceback": [
      "\u001b[0;31m------------------------------------------------------------------------\u001b[0m",
      "\u001b[0;31mKeyboardInterrupt\u001b[0m                      Traceback (most recent call last)",
      "\u001b[0;32m<ipython-input-8-ddc1d14e9fda>\u001b[0m in \u001b[0;36m<module>\u001b[0;34m\u001b[0m\n\u001b[1;32m     10\u001b[0m     \u001b[0mprint\u001b[0m\u001b[0;34m(\u001b[0m\u001b[0;34m'epoch'\u001b[0m\u001b[0;34m,\u001b[0m\u001b[0mepoch\u001b[0m\u001b[0;34m)\u001b[0m\u001b[0;34m\u001b[0m\u001b[0;34m\u001b[0m\u001b[0m\n\u001b[1;32m     11\u001b[0m     model.fit(train_model_input, train[target].values,\n\u001b[0;32m---> 12\u001b[0;31m               batch_size=batch_size, epochs=1, validation_data=(val_model_input,val[target]), verbose=1, )\n\u001b[0m\u001b[1;32m     13\u001b[0m \u001b[0;34m\u001b[0m\u001b[0m\n\u001b[1;32m     14\u001b[0m     \u001b[0mpred_ans\u001b[0m \u001b[0;34m=\u001b[0m \u001b[0mmodel\u001b[0m\u001b[0;34m.\u001b[0m\u001b[0mpredict\u001b[0m\u001b[0;34m(\u001b[0m\u001b[0mtest_model_input\u001b[0m\u001b[0;34m,\u001b[0m \u001b[0mbatch_size\u001b[0m\u001b[0;34m*\u001b[0m\u001b[0;36m20\u001b[0m\u001b[0;34m)\u001b[0m\u001b[0;34m\u001b[0m\u001b[0;34m\u001b[0m\u001b[0m\n",
      "\u001b[0;32m/workspace/espnet_october/DeepCTR-Torch/deepctr_torch/models/basemodel.py\u001b[0m in \u001b[0;36mfit\u001b[0;34m(self, x, y, batch_size, epochs, verbose, initial_epoch, validation_split, validation_data, shuffle, callbacks)\u001b[0m\n\u001b[1;32m    218\u001b[0m             \u001b[0;32mtry\u001b[0m\u001b[0;34m:\u001b[0m\u001b[0;34m\u001b[0m\u001b[0;34m\u001b[0m\u001b[0m\n\u001b[1;32m    219\u001b[0m                 \u001b[0;32mwith\u001b[0m \u001b[0mtqdm\u001b[0m\u001b[0;34m(\u001b[0m\u001b[0menumerate\u001b[0m\u001b[0;34m(\u001b[0m\u001b[0mtrain_loader\u001b[0m\u001b[0;34m)\u001b[0m\u001b[0;34m,\u001b[0m \u001b[0mdisable\u001b[0m\u001b[0;34m=\u001b[0m\u001b[0mverbose\u001b[0m \u001b[0;34m!=\u001b[0m \u001b[0;36m1\u001b[0m\u001b[0;34m)\u001b[0m \u001b[0;32mas\u001b[0m \u001b[0mt\u001b[0m\u001b[0;34m:\u001b[0m\u001b[0;34m\u001b[0m\u001b[0;34m\u001b[0m\u001b[0m\n\u001b[0;32m--> 220\u001b[0;31m                     \u001b[0;32mfor\u001b[0m \u001b[0mindex\u001b[0m\u001b[0;34m,\u001b[0m \u001b[0;34m(\u001b[0m\u001b[0mx_train\u001b[0m\u001b[0;34m,\u001b[0m \u001b[0my_train\u001b[0m\u001b[0;34m)\u001b[0m \u001b[0;32min\u001b[0m \u001b[0mt\u001b[0m\u001b[0;34m:\u001b[0m\u001b[0;34m\u001b[0m\u001b[0;34m\u001b[0m\u001b[0m\n\u001b[0m\u001b[1;32m    221\u001b[0m                         \u001b[0mx\u001b[0m \u001b[0;34m=\u001b[0m \u001b[0mx_train\u001b[0m\u001b[0;34m.\u001b[0m\u001b[0mto\u001b[0m\u001b[0;34m(\u001b[0m\u001b[0mself\u001b[0m\u001b[0;34m.\u001b[0m\u001b[0mdevice\u001b[0m\u001b[0;34m)\u001b[0m\u001b[0;34m.\u001b[0m\u001b[0mfloat\u001b[0m\u001b[0;34m(\u001b[0m\u001b[0;34m)\u001b[0m\u001b[0;34m\u001b[0m\u001b[0;34m\u001b[0m\u001b[0m\n\u001b[1;32m    222\u001b[0m                         \u001b[0my\u001b[0m \u001b[0;34m=\u001b[0m \u001b[0my_train\u001b[0m\u001b[0;34m.\u001b[0m\u001b[0mto\u001b[0m\u001b[0;34m(\u001b[0m\u001b[0mself\u001b[0m\u001b[0;34m.\u001b[0m\u001b[0mdevice\u001b[0m\u001b[0;34m)\u001b[0m\u001b[0;34m.\u001b[0m\u001b[0mfloat\u001b[0m\u001b[0;34m(\u001b[0m\u001b[0;34m)\u001b[0m\u001b[0;34m\u001b[0m\u001b[0;34m\u001b[0m\u001b[0m\n",
      "\u001b[0;32m~/conda/envs/espnet_env/lib/python3.6/site-packages/tqdm/std.py\u001b[0m in \u001b[0;36m__iter__\u001b[0;34m(self)\u001b[0m\n\u001b[1;32m   1163\u001b[0m \u001b[0;34m\u001b[0m\u001b[0m\n\u001b[1;32m   1164\u001b[0m         \u001b[0;32mtry\u001b[0m\u001b[0;34m:\u001b[0m\u001b[0;34m\u001b[0m\u001b[0;34m\u001b[0m\u001b[0m\n\u001b[0;32m-> 1165\u001b[0;31m             \u001b[0;32mfor\u001b[0m \u001b[0mobj\u001b[0m \u001b[0;32min\u001b[0m \u001b[0miterable\u001b[0m\u001b[0;34m:\u001b[0m\u001b[0;34m\u001b[0m\u001b[0;34m\u001b[0m\u001b[0m\n\u001b[0m\u001b[1;32m   1166\u001b[0m                 \u001b[0;32myield\u001b[0m \u001b[0mobj\u001b[0m\u001b[0;34m\u001b[0m\u001b[0;34m\u001b[0m\u001b[0m\n\u001b[1;32m   1167\u001b[0m                 \u001b[0;31m# Update and possibly print the progressbar.\u001b[0m\u001b[0;34m\u001b[0m\u001b[0;34m\u001b[0m\u001b[0;34m\u001b[0m\u001b[0m\n",
      "\u001b[0;32m~/conda/envs/espnet_env/lib/python3.6/site-packages/torch/utils/data/dataloader.py\u001b[0m in \u001b[0;36m__next__\u001b[0;34m(self)\u001b[0m\n\u001b[1;32m    344\u001b[0m     \u001b[0;32mdef\u001b[0m \u001b[0m__next__\u001b[0m\u001b[0;34m(\u001b[0m\u001b[0mself\u001b[0m\u001b[0;34m)\u001b[0m\u001b[0;34m:\u001b[0m\u001b[0;34m\u001b[0m\u001b[0;34m\u001b[0m\u001b[0m\n\u001b[1;32m    345\u001b[0m         \u001b[0mindex\u001b[0m \u001b[0;34m=\u001b[0m \u001b[0mself\u001b[0m\u001b[0;34m.\u001b[0m\u001b[0m_next_index\u001b[0m\u001b[0;34m(\u001b[0m\u001b[0;34m)\u001b[0m  \u001b[0;31m# may raise StopIteration\u001b[0m\u001b[0;34m\u001b[0m\u001b[0;34m\u001b[0m\u001b[0m\n\u001b[0;32m--> 346\u001b[0;31m         \u001b[0mdata\u001b[0m \u001b[0;34m=\u001b[0m \u001b[0mself\u001b[0m\u001b[0;34m.\u001b[0m\u001b[0m_dataset_fetcher\u001b[0m\u001b[0;34m.\u001b[0m\u001b[0mfetch\u001b[0m\u001b[0;34m(\u001b[0m\u001b[0mindex\u001b[0m\u001b[0;34m)\u001b[0m  \u001b[0;31m# may raise StopIteration\u001b[0m\u001b[0;34m\u001b[0m\u001b[0;34m\u001b[0m\u001b[0m\n\u001b[0m\u001b[1;32m    347\u001b[0m         \u001b[0;32mif\u001b[0m \u001b[0mself\u001b[0m\u001b[0;34m.\u001b[0m\u001b[0m_pin_memory\u001b[0m\u001b[0;34m:\u001b[0m\u001b[0;34m\u001b[0m\u001b[0;34m\u001b[0m\u001b[0m\n\u001b[1;32m    348\u001b[0m             \u001b[0mdata\u001b[0m \u001b[0;34m=\u001b[0m \u001b[0m_utils\u001b[0m\u001b[0;34m.\u001b[0m\u001b[0mpin_memory\u001b[0m\u001b[0;34m.\u001b[0m\u001b[0mpin_memory\u001b[0m\u001b[0;34m(\u001b[0m\u001b[0mdata\u001b[0m\u001b[0;34m)\u001b[0m\u001b[0;34m\u001b[0m\u001b[0;34m\u001b[0m\u001b[0m\n",
      "\u001b[0;32m~/conda/envs/espnet_env/lib/python3.6/site-packages/torch/utils/data/_utils/fetch.py\u001b[0m in \u001b[0;36mfetch\u001b[0;34m(self, possibly_batched_index)\u001b[0m\n\u001b[1;32m     42\u001b[0m     \u001b[0;32mdef\u001b[0m \u001b[0mfetch\u001b[0m\u001b[0;34m(\u001b[0m\u001b[0mself\u001b[0m\u001b[0;34m,\u001b[0m \u001b[0mpossibly_batched_index\u001b[0m\u001b[0;34m)\u001b[0m\u001b[0;34m:\u001b[0m\u001b[0;34m\u001b[0m\u001b[0;34m\u001b[0m\u001b[0m\n\u001b[1;32m     43\u001b[0m         \u001b[0;32mif\u001b[0m \u001b[0mself\u001b[0m\u001b[0;34m.\u001b[0m\u001b[0mauto_collation\u001b[0m\u001b[0;34m:\u001b[0m\u001b[0;34m\u001b[0m\u001b[0;34m\u001b[0m\u001b[0m\n\u001b[0;32m---> 44\u001b[0;31m             \u001b[0mdata\u001b[0m \u001b[0;34m=\u001b[0m \u001b[0;34m[\u001b[0m\u001b[0mself\u001b[0m\u001b[0;34m.\u001b[0m\u001b[0mdataset\u001b[0m\u001b[0;34m[\u001b[0m\u001b[0midx\u001b[0m\u001b[0;34m]\u001b[0m \u001b[0;32mfor\u001b[0m \u001b[0midx\u001b[0m \u001b[0;32min\u001b[0m \u001b[0mpossibly_batched_index\u001b[0m\u001b[0;34m]\u001b[0m\u001b[0;34m\u001b[0m\u001b[0;34m\u001b[0m\u001b[0m\n\u001b[0m\u001b[1;32m     45\u001b[0m         \u001b[0;32melse\u001b[0m\u001b[0;34m:\u001b[0m\u001b[0;34m\u001b[0m\u001b[0;34m\u001b[0m\u001b[0m\n\u001b[1;32m     46\u001b[0m             \u001b[0mdata\u001b[0m \u001b[0;34m=\u001b[0m \u001b[0mself\u001b[0m\u001b[0;34m.\u001b[0m\u001b[0mdataset\u001b[0m\u001b[0;34m[\u001b[0m\u001b[0mpossibly_batched_index\u001b[0m\u001b[0;34m]\u001b[0m\u001b[0;34m\u001b[0m\u001b[0;34m\u001b[0m\u001b[0m\n",
      "\u001b[0;32m~/conda/envs/espnet_env/lib/python3.6/site-packages/torch/utils/data/_utils/fetch.py\u001b[0m in \u001b[0;36m<listcomp>\u001b[0;34m(.0)\u001b[0m\n\u001b[1;32m     42\u001b[0m     \u001b[0;32mdef\u001b[0m \u001b[0mfetch\u001b[0m\u001b[0;34m(\u001b[0m\u001b[0mself\u001b[0m\u001b[0;34m,\u001b[0m \u001b[0mpossibly_batched_index\u001b[0m\u001b[0;34m)\u001b[0m\u001b[0;34m:\u001b[0m\u001b[0;34m\u001b[0m\u001b[0;34m\u001b[0m\u001b[0m\n\u001b[1;32m     43\u001b[0m         \u001b[0;32mif\u001b[0m \u001b[0mself\u001b[0m\u001b[0;34m.\u001b[0m\u001b[0mauto_collation\u001b[0m\u001b[0;34m:\u001b[0m\u001b[0;34m\u001b[0m\u001b[0;34m\u001b[0m\u001b[0m\n\u001b[0;32m---> 44\u001b[0;31m             \u001b[0mdata\u001b[0m \u001b[0;34m=\u001b[0m \u001b[0;34m[\u001b[0m\u001b[0mself\u001b[0m\u001b[0;34m.\u001b[0m\u001b[0mdataset\u001b[0m\u001b[0;34m[\u001b[0m\u001b[0midx\u001b[0m\u001b[0;34m]\u001b[0m \u001b[0;32mfor\u001b[0m \u001b[0midx\u001b[0m \u001b[0;32min\u001b[0m \u001b[0mpossibly_batched_index\u001b[0m\u001b[0;34m]\u001b[0m\u001b[0;34m\u001b[0m\u001b[0;34m\u001b[0m\u001b[0m\n\u001b[0m\u001b[1;32m     45\u001b[0m         \u001b[0;32melse\u001b[0m\u001b[0;34m:\u001b[0m\u001b[0;34m\u001b[0m\u001b[0;34m\u001b[0m\u001b[0m\n\u001b[1;32m     46\u001b[0m             \u001b[0mdata\u001b[0m \u001b[0;34m=\u001b[0m \u001b[0mself\u001b[0m\u001b[0;34m.\u001b[0m\u001b[0mdataset\u001b[0m\u001b[0;34m[\u001b[0m\u001b[0mpossibly_batched_index\u001b[0m\u001b[0;34m]\u001b[0m\u001b[0;34m\u001b[0m\u001b[0;34m\u001b[0m\u001b[0m\n",
      "\u001b[0;32m~/conda/envs/espnet_env/lib/python3.6/site-packages/torch/utils/data/dataset.py\u001b[0m in \u001b[0;36m__getitem__\u001b[0;34m(self, index)\u001b[0m\n\u001b[1;32m    160\u001b[0m \u001b[0;34m\u001b[0m\u001b[0m\n\u001b[1;32m    161\u001b[0m     \u001b[0;32mdef\u001b[0m \u001b[0m__getitem__\u001b[0m\u001b[0;34m(\u001b[0m\u001b[0mself\u001b[0m\u001b[0;34m,\u001b[0m \u001b[0mindex\u001b[0m\u001b[0;34m)\u001b[0m\u001b[0;34m:\u001b[0m\u001b[0;34m\u001b[0m\u001b[0;34m\u001b[0m\u001b[0m\n\u001b[0;32m--> 162\u001b[0;31m         \u001b[0;32mreturn\u001b[0m \u001b[0mtuple\u001b[0m\u001b[0;34m(\u001b[0m\u001b[0mtensor\u001b[0m\u001b[0;34m[\u001b[0m\u001b[0mindex\u001b[0m\u001b[0;34m]\u001b[0m \u001b[0;32mfor\u001b[0m \u001b[0mtensor\u001b[0m \u001b[0;32min\u001b[0m \u001b[0mself\u001b[0m\u001b[0;34m.\u001b[0m\u001b[0mtensors\u001b[0m\u001b[0;34m)\u001b[0m\u001b[0;34m\u001b[0m\u001b[0;34m\u001b[0m\u001b[0m\n\u001b[0m\u001b[1;32m    163\u001b[0m \u001b[0;34m\u001b[0m\u001b[0m\n\u001b[1;32m    164\u001b[0m     \u001b[0;32mdef\u001b[0m \u001b[0m__len__\u001b[0m\u001b[0;34m(\u001b[0m\u001b[0mself\u001b[0m\u001b[0;34m)\u001b[0m\u001b[0;34m:\u001b[0m\u001b[0;34m\u001b[0m\u001b[0;34m\u001b[0m\u001b[0m\n",
      "\u001b[0;32m~/conda/envs/espnet_env/lib/python3.6/site-packages/torch/utils/data/dataset.py\u001b[0m in \u001b[0;36m<genexpr>\u001b[0;34m(.0)\u001b[0m\n\u001b[1;32m    160\u001b[0m \u001b[0;34m\u001b[0m\u001b[0m\n\u001b[1;32m    161\u001b[0m     \u001b[0;32mdef\u001b[0m \u001b[0m__getitem__\u001b[0m\u001b[0;34m(\u001b[0m\u001b[0mself\u001b[0m\u001b[0;34m,\u001b[0m \u001b[0mindex\u001b[0m\u001b[0;34m)\u001b[0m\u001b[0;34m:\u001b[0m\u001b[0;34m\u001b[0m\u001b[0;34m\u001b[0m\u001b[0m\n\u001b[0;32m--> 162\u001b[0;31m         \u001b[0;32mreturn\u001b[0m \u001b[0mtuple\u001b[0m\u001b[0;34m(\u001b[0m\u001b[0mtensor\u001b[0m\u001b[0;34m[\u001b[0m\u001b[0mindex\u001b[0m\u001b[0;34m]\u001b[0m \u001b[0;32mfor\u001b[0m \u001b[0mtensor\u001b[0m \u001b[0;32min\u001b[0m \u001b[0mself\u001b[0m\u001b[0;34m.\u001b[0m\u001b[0mtensors\u001b[0m\u001b[0;34m)\u001b[0m\u001b[0;34m\u001b[0m\u001b[0;34m\u001b[0m\u001b[0m\n\u001b[0m\u001b[1;32m    163\u001b[0m \u001b[0;34m\u001b[0m\u001b[0m\n\u001b[1;32m    164\u001b[0m     \u001b[0;32mdef\u001b[0m \u001b[0m__len__\u001b[0m\u001b[0;34m(\u001b[0m\u001b[0mself\u001b[0m\u001b[0;34m)\u001b[0m\u001b[0;34m:\u001b[0m\u001b[0;34m\u001b[0m\u001b[0;34m\u001b[0m\u001b[0m\n",
      "\u001b[0;31mKeyboardInterrupt\u001b[0m: "
     ]
    }
   ],
   "source": [
    "model.compile(\"adam\", \"binary_crossentropy\",\n",
    "              # metrics=[\"binary_crossentropy\", ], )\n",
    "              metrics=[\"binary_crossentropy\", \"auc\"], )\n",
    "\n",
    "pred_ans = model.predict(test_model_input, batch_size*20)\n",
    "print(\"test LogLoss\", round(log_loss(test[target].values, pred_ans), 4))\n",
    "print(\"test AUC\", round(roc_auc_score(test[target].values, pred_ans), 4))\n",
    "\n",
    "for epoch in range(epochs):\n",
    "    print('epoch',epoch)\n",
    "    model.fit(train_model_input, train[target].values,\n",
    "              batch_size=batch_size, epochs=1, validation_data=(val_model_input,val[target]), verbose=1, )\n",
    "\n",
    "    pred_ans = model.predict(test_model_input, batch_size*20)\n",
    "    print(\"test LogLoss\", round(log_loss(test[target].values, pred_ans), 4))\n",
    "    print(\"test AUC\", round(roc_auc_score(test[target].values, pred_ans), 4))"
   ]
  },
  {
   "cell_type": "code",
   "execution_count": 8,
   "metadata": {},
   "outputs": [
    {
     "name": "stdout",
     "output_type": "stream",
     "text": [
      "cuda ready...\n",
      "model xDeepFM(\n",
      "  (embedding_dict): ModuleDict(\n",
      "    (C1): Embedding(7, 8)\n",
      "    (C14): Embedding(2626, 8)\n",
      "    (C15): Embedding(8, 8)\n",
      "    (C16): Embedding(9, 8)\n",
      "    (C17): Embedding(435, 8)\n",
      "    (C18): Embedding(4, 8)\n",
      "    (C19): Embedding(68, 8)\n",
      "    (C20): Embedding(172, 8)\n",
      "    (C21): Embedding(60, 8)\n",
      "    (app_category): Embedding(36, 8)\n",
      "    (app_domain): Embedding(559, 8)\n",
      "    (app_id): Embedding(8552, 8)\n",
      "    (banner_pos): Embedding(7, 8)\n",
      "    (device_conn_type): Embedding(4, 8)\n",
      "    (device_id): Embedding(2686408, 8)\n",
      "    (device_model): Embedding(8251, 8)\n",
      "    (device_type): Embedding(5, 8)\n",
      "    (hour): Embedding(24, 8)\n",
      "    (site_category): Embedding(26, 8)\n",
      "    (site_domain): Embedding(7745, 8)\n",
      "    (site_id): Embedding(4737, 8)\n",
      "  )\n",
      "  (linear_model): Linear(\n",
      "    (embedding_dict): ModuleDict(\n",
      "      (C1): Embedding(7, 1)\n",
      "      (C14): Embedding(2626, 1)\n",
      "      (C15): Embedding(8, 1)\n",
      "      (C16): Embedding(9, 1)\n",
      "      (C17): Embedding(435, 1)\n",
      "      (C18): Embedding(4, 1)\n",
      "      (C19): Embedding(68, 1)\n",
      "      (C20): Embedding(172, 1)\n",
      "      (C21): Embedding(60, 1)\n",
      "      (app_category): Embedding(36, 1)\n",
      "      (app_domain): Embedding(559, 1)\n",
      "      (app_id): Embedding(8552, 1)\n",
      "      (banner_pos): Embedding(7, 1)\n",
      "      (device_conn_type): Embedding(4, 1)\n",
      "      (device_id): Embedding(2686408, 1)\n",
      "      (device_model): Embedding(8251, 1)\n",
      "      (device_type): Embedding(5, 1)\n",
      "      (hour): Embedding(24, 1)\n",
      "      (site_category): Embedding(26, 1)\n",
      "      (site_domain): Embedding(7745, 1)\n",
      "      (site_id): Embedding(4737, 1)\n",
      "    )\n",
      "  )\n",
      "  (out): PredictionLayer()\n",
      "  (dnn): DNN(\n",
      "    (dropout): Dropout(p=0.5, inplace=False)\n",
      "    (linears): ModuleList(\n",
      "      (0): Linear(in_features=168, out_features=256, bias=True)\n",
      "      (1): Linear(in_features=256, out_features=256, bias=True)\n",
      "    )\n",
      "    (activation_layers): ModuleList(\n",
      "      (0): ReLU(inplace=True)\n",
      "      (1): ReLU(inplace=True)\n",
      "    )\n",
      "  )\n",
      "  (dnn_linear): Linear(in_features=256, out_features=1, bias=False)\n",
      "  (cin): CIN(\n",
      "    (activation): ReLU(inplace=True)\n",
      "    (conv1ds): ModuleList(\n",
      "      (0): Conv1d(441, 256, kernel_size=(1,), stride=(1,))\n",
      "      (1): Conv1d(2688, 128, kernel_size=(1,), stride=(1,))\n",
      "    )\n",
      "  )\n",
      "  (cin_linear): Linear(in_features=256, out_features=1, bias=False)\n",
      ")\n"
     ]
    }
   ],
   "source": [
    "# 4.Define Model,train,predict and evaluate\n",
    "\n",
    "device = 'cpu'\n",
    "use_cuda = True\n",
    "if use_cuda and torch.cuda.is_available():\n",
    "    print('cuda ready...')\n",
    "    device = 'cuda:0'\n",
    "\n",
    "model_xfm = xDeepFM(linear_feature_columns=linear_feature_columns, dnn_feature_columns=dnn_feature_columns, dnn_dropout=0.5,\n",
    "                task='binary', device=device)\n",
    "print('model', model_xfm)"
   ]
  },
  {
   "cell_type": "code",
   "execution_count": 9,
   "metadata": {
    "scrolled": true
   },
   "outputs": [
    {
     "name": "stdout",
     "output_type": "stream",
     "text": [
      "epoch 0\n"
     ]
    },
    {
     "name": "stderr",
     "output_type": "stream",
     "text": [
      "0it [00:00, ?it/s]"
     ]
    },
    {
     "name": "stdout",
     "output_type": "stream",
     "text": [
      "cuda:0\n",
      "Train on 36558215 samples, validate on 774150 samples, 1429 steps per epoch\n"
     ]
    },
    {
     "name": "stderr",
     "output_type": "stream",
     "text": [
      "1429it [23:42,  1.00it/s]\n"
     ]
    },
    {
     "name": "stdout",
     "output_type": "stream",
     "text": [
      "Epoch 1/1\n",
      "1428s - loss:  0.3906 - binary_crossentropy:  0.3906 - auc:  0.7581 - val_binary_crossentropy:  0.4171 - val_auc:  0.7405\n"
     ]
    },
    {
     "ename": "RuntimeError",
     "evalue": "CUDA out of memory. Tried to allocate 41.02 GiB (GPU 0; 15.78 GiB total capacity; 4.96 GiB already allocated; 9.60 GiB free; 230.85 MiB cached)",
     "output_type": "error",
     "traceback": [
      "\u001b[0;31m------------------------------------------------------------------------\u001b[0m",
      "\u001b[0;31mRuntimeError\u001b[0m                           Traceback (most recent call last)",
      "\u001b[0;32m<ipython-input-9-66ce52e750bb>\u001b[0m in \u001b[0;36m<module>\u001b[0;34m\u001b[0m\n\u001b[0;32m----> 1\u001b[0;31m \u001b[0mall_metrics\u001b[0m\u001b[0;34m[\u001b[0m\u001b[0;34m'xDeepFM'\u001b[0m\u001b[0;34m]\u001b[0m \u001b[0;34m=\u001b[0m \u001b[0mtest_model\u001b[0m\u001b[0;34m(\u001b[0m\u001b[0mmodel_xfm\u001b[0m\u001b[0;34m,\u001b[0m \u001b[0mtrain_model_input\u001b[0m\u001b[0;34m,\u001b[0m \u001b[0mtest_model_input\u001b[0m\u001b[0;34m,\u001b[0m \u001b[0mval_model_input\u001b[0m\u001b[0;34m,\u001b[0m \u001b[0mtrain\u001b[0m\u001b[0;34m[\u001b[0m\u001b[0mtarget\u001b[0m\u001b[0;34m]\u001b[0m\u001b[0;34m.\u001b[0m\u001b[0mvalues\u001b[0m\u001b[0;34m,\u001b[0m \u001b[0mtest\u001b[0m\u001b[0;34m[\u001b[0m\u001b[0mtarget\u001b[0m\u001b[0;34m]\u001b[0m\u001b[0;34m.\u001b[0m\u001b[0mvalues\u001b[0m\u001b[0;34m,\u001b[0m \u001b[0mval\u001b[0m\u001b[0;34m[\u001b[0m\u001b[0mtarget\u001b[0m\u001b[0;34m]\u001b[0m\u001b[0;34m,\u001b[0m \u001b[0mbatch_size\u001b[0m\u001b[0;34m*\u001b[0m\u001b[0;36m2\u001b[0m\u001b[0;34m)\u001b[0m\u001b[0;34m\u001b[0m\u001b[0;34m\u001b[0m\u001b[0m\n\u001b[0m",
      "\u001b[0;32m<ipython-input-7-f3d2aaf321bc>\u001b[0m in \u001b[0;36mtest_model\u001b[0;34m(model, train_model_input, test_model_input, val_model_input, y_train, y_test, y_valid, batch_size)\u001b[0m\n\u001b[1;32m     13\u001b[0m                   batch_size=batch_size, epochs=1, validation_data=(val_model_input, y_valid), verbose=1)\n\u001b[1;32m     14\u001b[0m \u001b[0;34m\u001b[0m\u001b[0m\n\u001b[0;32m---> 15\u001b[0;31m         \u001b[0mpred_ans\u001b[0m \u001b[0;34m=\u001b[0m \u001b[0mmodel\u001b[0m\u001b[0;34m.\u001b[0m\u001b[0mpredict\u001b[0m\u001b[0;34m(\u001b[0m\u001b[0mtest_model_input\u001b[0m\u001b[0;34m,\u001b[0m \u001b[0mbatch_size\u001b[0m\u001b[0;34m*\u001b[0m\u001b[0;36m20\u001b[0m\u001b[0;34m)\u001b[0m\u001b[0;34m\u001b[0m\u001b[0;34m\u001b[0m\u001b[0m\n\u001b[0m\u001b[1;32m     16\u001b[0m         \u001b[0mtest_logloss\u001b[0m \u001b[0;34m=\u001b[0m \u001b[0mround\u001b[0m\u001b[0;34m(\u001b[0m\u001b[0mlog_loss\u001b[0m\u001b[0;34m(\u001b[0m\u001b[0my_test\u001b[0m\u001b[0;34m,\u001b[0m \u001b[0mpred_ans\u001b[0m\u001b[0;34m)\u001b[0m\u001b[0;34m,\u001b[0m \u001b[0;36m4\u001b[0m\u001b[0;34m)\u001b[0m\u001b[0;34m\u001b[0m\u001b[0;34m\u001b[0m\u001b[0m\n\u001b[1;32m     17\u001b[0m         \u001b[0mtest_auc\u001b[0m \u001b[0;34m=\u001b[0m \u001b[0mround\u001b[0m\u001b[0;34m(\u001b[0m\u001b[0mroc_auc_score\u001b[0m\u001b[0;34m(\u001b[0m\u001b[0my_test\u001b[0m\u001b[0;34m,\u001b[0m \u001b[0mpred_ans\u001b[0m\u001b[0;34m)\u001b[0m\u001b[0;34m,\u001b[0m \u001b[0;36m4\u001b[0m\u001b[0;34m)\u001b[0m\u001b[0;34m\u001b[0m\u001b[0;34m\u001b[0m\u001b[0m\n",
      "\u001b[0;32m/workspace/espnet_october/DeepCTR-Torch/deepctr_torch/models/basemodel.py\u001b[0m in \u001b[0;36mpredict\u001b[0;34m(self, x, batch_size)\u001b[0m\n\u001b[1;32m    318\u001b[0m                 \u001b[0mx\u001b[0m \u001b[0;34m=\u001b[0m \u001b[0mx_test\u001b[0m\u001b[0;34m[\u001b[0m\u001b[0;36m0\u001b[0m\u001b[0;34m]\u001b[0m\u001b[0;34m.\u001b[0m\u001b[0mto\u001b[0m\u001b[0;34m(\u001b[0m\u001b[0mself\u001b[0m\u001b[0;34m.\u001b[0m\u001b[0mdevice\u001b[0m\u001b[0;34m)\u001b[0m\u001b[0;34m.\u001b[0m\u001b[0mfloat\u001b[0m\u001b[0;34m(\u001b[0m\u001b[0;34m)\u001b[0m\u001b[0;34m\u001b[0m\u001b[0;34m\u001b[0m\u001b[0m\n\u001b[1;32m    319\u001b[0m \u001b[0;34m\u001b[0m\u001b[0m\n\u001b[0;32m--> 320\u001b[0;31m                 \u001b[0my_pred\u001b[0m \u001b[0;34m=\u001b[0m \u001b[0mmodel\u001b[0m\u001b[0;34m(\u001b[0m\u001b[0mx\u001b[0m\u001b[0;34m)\u001b[0m\u001b[0;34m.\u001b[0m\u001b[0mcpu\u001b[0m\u001b[0;34m(\u001b[0m\u001b[0;34m)\u001b[0m\u001b[0;34m.\u001b[0m\u001b[0mdata\u001b[0m\u001b[0;34m.\u001b[0m\u001b[0mnumpy\u001b[0m\u001b[0;34m(\u001b[0m\u001b[0;34m)\u001b[0m  \u001b[0;31m# .squeeze()\u001b[0m\u001b[0;34m\u001b[0m\u001b[0;34m\u001b[0m\u001b[0m\n\u001b[0m\u001b[1;32m    321\u001b[0m                 \u001b[0mpred_ans\u001b[0m\u001b[0;34m.\u001b[0m\u001b[0mappend\u001b[0m\u001b[0;34m(\u001b[0m\u001b[0my_pred\u001b[0m\u001b[0;34m)\u001b[0m\u001b[0;34m\u001b[0m\u001b[0;34m\u001b[0m\u001b[0m\n\u001b[1;32m    322\u001b[0m \u001b[0;34m\u001b[0m\u001b[0m\n",
      "\u001b[0;32m~/conda/envs/espnet_env/lib/python3.6/site-packages/torch/nn/modules/module.py\u001b[0m in \u001b[0;36m__call__\u001b[0;34m(self, *input, **kwargs)\u001b[0m\n\u001b[1;32m    539\u001b[0m             \u001b[0mresult\u001b[0m \u001b[0;34m=\u001b[0m \u001b[0mself\u001b[0m\u001b[0;34m.\u001b[0m\u001b[0m_slow_forward\u001b[0m\u001b[0;34m(\u001b[0m\u001b[0;34m*\u001b[0m\u001b[0minput\u001b[0m\u001b[0;34m,\u001b[0m \u001b[0;34m**\u001b[0m\u001b[0mkwargs\u001b[0m\u001b[0;34m)\u001b[0m\u001b[0;34m\u001b[0m\u001b[0;34m\u001b[0m\u001b[0m\n\u001b[1;32m    540\u001b[0m         \u001b[0;32melse\u001b[0m\u001b[0;34m:\u001b[0m\u001b[0;34m\u001b[0m\u001b[0;34m\u001b[0m\u001b[0m\n\u001b[0;32m--> 541\u001b[0;31m             \u001b[0mresult\u001b[0m \u001b[0;34m=\u001b[0m \u001b[0mself\u001b[0m\u001b[0;34m.\u001b[0m\u001b[0mforward\u001b[0m\u001b[0;34m(\u001b[0m\u001b[0;34m*\u001b[0m\u001b[0minput\u001b[0m\u001b[0;34m,\u001b[0m \u001b[0;34m**\u001b[0m\u001b[0mkwargs\u001b[0m\u001b[0;34m)\u001b[0m\u001b[0;34m\u001b[0m\u001b[0;34m\u001b[0m\u001b[0m\n\u001b[0m\u001b[1;32m    542\u001b[0m         \u001b[0;32mfor\u001b[0m \u001b[0mhook\u001b[0m \u001b[0;32min\u001b[0m \u001b[0mself\u001b[0m\u001b[0;34m.\u001b[0m\u001b[0m_forward_hooks\u001b[0m\u001b[0;34m.\u001b[0m\u001b[0mvalues\u001b[0m\u001b[0;34m(\u001b[0m\u001b[0;34m)\u001b[0m\u001b[0;34m:\u001b[0m\u001b[0;34m\u001b[0m\u001b[0;34m\u001b[0m\u001b[0m\n\u001b[1;32m    543\u001b[0m             \u001b[0mhook_result\u001b[0m \u001b[0;34m=\u001b[0m \u001b[0mhook\u001b[0m\u001b[0;34m(\u001b[0m\u001b[0mself\u001b[0m\u001b[0;34m,\u001b[0m \u001b[0minput\u001b[0m\u001b[0;34m,\u001b[0m \u001b[0mresult\u001b[0m\u001b[0;34m)\u001b[0m\u001b[0;34m\u001b[0m\u001b[0;34m\u001b[0m\u001b[0m\n",
      "\u001b[0;32m/workspace/espnet_october/DeepCTR-Torch/deepctr_torch/models/xdeepfm.py\u001b[0m in \u001b[0;36mforward\u001b[0;34m(self, X)\u001b[0m\n\u001b[1;32m     84\u001b[0m         \u001b[0;32mif\u001b[0m \u001b[0mself\u001b[0m\u001b[0;34m.\u001b[0m\u001b[0muse_cin\u001b[0m\u001b[0;34m:\u001b[0m\u001b[0;34m\u001b[0m\u001b[0;34m\u001b[0m\u001b[0m\n\u001b[1;32m     85\u001b[0m             \u001b[0mcin_input\u001b[0m \u001b[0;34m=\u001b[0m \u001b[0mtorch\u001b[0m\u001b[0;34m.\u001b[0m\u001b[0mcat\u001b[0m\u001b[0;34m(\u001b[0m\u001b[0msparse_embedding_list\u001b[0m\u001b[0;34m,\u001b[0m \u001b[0mdim\u001b[0m\u001b[0;34m=\u001b[0m\u001b[0;36m1\u001b[0m\u001b[0;34m)\u001b[0m\u001b[0;34m\u001b[0m\u001b[0;34m\u001b[0m\u001b[0m\n\u001b[0;32m---> 86\u001b[0;31m             \u001b[0mcin_output\u001b[0m \u001b[0;34m=\u001b[0m \u001b[0mself\u001b[0m\u001b[0;34m.\u001b[0m\u001b[0mcin\u001b[0m\u001b[0;34m(\u001b[0m\u001b[0mcin_input\u001b[0m\u001b[0;34m)\u001b[0m\u001b[0;34m\u001b[0m\u001b[0;34m\u001b[0m\u001b[0m\n\u001b[0m\u001b[1;32m     87\u001b[0m             \u001b[0mcin_logit\u001b[0m \u001b[0;34m=\u001b[0m \u001b[0mself\u001b[0m\u001b[0;34m.\u001b[0m\u001b[0mcin_linear\u001b[0m\u001b[0;34m(\u001b[0m\u001b[0mcin_output\u001b[0m\u001b[0;34m)\u001b[0m\u001b[0;34m\u001b[0m\u001b[0;34m\u001b[0m\u001b[0m\n\u001b[1;32m     88\u001b[0m         \u001b[0;32mif\u001b[0m \u001b[0mself\u001b[0m\u001b[0;34m.\u001b[0m\u001b[0muse_dnn\u001b[0m\u001b[0;34m:\u001b[0m\u001b[0;34m\u001b[0m\u001b[0;34m\u001b[0m\u001b[0m\n",
      "\u001b[0;32m~/conda/envs/espnet_env/lib/python3.6/site-packages/torch/nn/modules/module.py\u001b[0m in \u001b[0;36m__call__\u001b[0;34m(self, *input, **kwargs)\u001b[0m\n\u001b[1;32m    539\u001b[0m             \u001b[0mresult\u001b[0m \u001b[0;34m=\u001b[0m \u001b[0mself\u001b[0m\u001b[0;34m.\u001b[0m\u001b[0m_slow_forward\u001b[0m\u001b[0;34m(\u001b[0m\u001b[0;34m*\u001b[0m\u001b[0minput\u001b[0m\u001b[0;34m,\u001b[0m \u001b[0;34m**\u001b[0m\u001b[0mkwargs\u001b[0m\u001b[0;34m)\u001b[0m\u001b[0;34m\u001b[0m\u001b[0;34m\u001b[0m\u001b[0m\n\u001b[1;32m    540\u001b[0m         \u001b[0;32melse\u001b[0m\u001b[0;34m:\u001b[0m\u001b[0;34m\u001b[0m\u001b[0;34m\u001b[0m\u001b[0m\n\u001b[0;32m--> 541\u001b[0;31m             \u001b[0mresult\u001b[0m \u001b[0;34m=\u001b[0m \u001b[0mself\u001b[0m\u001b[0;34m.\u001b[0m\u001b[0mforward\u001b[0m\u001b[0;34m(\u001b[0m\u001b[0;34m*\u001b[0m\u001b[0minput\u001b[0m\u001b[0;34m,\u001b[0m \u001b[0;34m**\u001b[0m\u001b[0mkwargs\u001b[0m\u001b[0;34m)\u001b[0m\u001b[0;34m\u001b[0m\u001b[0;34m\u001b[0m\u001b[0m\n\u001b[0m\u001b[1;32m    542\u001b[0m         \u001b[0;32mfor\u001b[0m \u001b[0mhook\u001b[0m \u001b[0;32min\u001b[0m \u001b[0mself\u001b[0m\u001b[0;34m.\u001b[0m\u001b[0m_forward_hooks\u001b[0m\u001b[0;34m.\u001b[0m\u001b[0mvalues\u001b[0m\u001b[0;34m(\u001b[0m\u001b[0;34m)\u001b[0m\u001b[0;34m:\u001b[0m\u001b[0;34m\u001b[0m\u001b[0;34m\u001b[0m\u001b[0m\n\u001b[1;32m    543\u001b[0m             \u001b[0mhook_result\u001b[0m \u001b[0;34m=\u001b[0m \u001b[0mhook\u001b[0m\u001b[0;34m(\u001b[0m\u001b[0mself\u001b[0m\u001b[0;34m,\u001b[0m \u001b[0minput\u001b[0m\u001b[0;34m,\u001b[0m \u001b[0mresult\u001b[0m\u001b[0;34m)\u001b[0m\u001b[0;34m\u001b[0m\u001b[0;34m\u001b[0m\u001b[0m\n",
      "\u001b[0;32m/workspace/espnet_october/DeepCTR-Torch/deepctr_torch/layers/interaction.py\u001b[0m in \u001b[0;36mforward\u001b[0;34m(self, inputs)\u001b[0m\n\u001b[1;32m    216\u001b[0m             \u001b[0;31m# x^(k-1) * x^0\u001b[0m\u001b[0;34m\u001b[0m\u001b[0;34m\u001b[0m\u001b[0;34m\u001b[0m\u001b[0m\n\u001b[1;32m    217\u001b[0m             x = torch.einsum(\n\u001b[0;32m--> 218\u001b[0;31m                 'bhd,bmd->bhmd', hidden_nn_layers[-1], hidden_nn_layers[0])\n\u001b[0m\u001b[1;32m    219\u001b[0m             \u001b[0;31m# x.shape = (batch_size , hi * m, dim)\u001b[0m\u001b[0;34m\u001b[0m\u001b[0;34m\u001b[0m\u001b[0;34m\u001b[0m\u001b[0m\n\u001b[1;32m    220\u001b[0m             x = x.reshape(\n",
      "\u001b[0;32m~/conda/envs/espnet_env/lib/python3.6/site-packages/torch/functional.py\u001b[0m in \u001b[0;36meinsum\u001b[0;34m(equation, *operands)\u001b[0m\n\u001b[1;32m    199\u001b[0m         \u001b[0;31m# the old interface of passing the operands as one list argument\u001b[0m\u001b[0;34m\u001b[0m\u001b[0;34m\u001b[0m\u001b[0;34m\u001b[0m\u001b[0m\n\u001b[1;32m    200\u001b[0m         \u001b[0moperands\u001b[0m \u001b[0;34m=\u001b[0m \u001b[0moperands\u001b[0m\u001b[0;34m[\u001b[0m\u001b[0;36m0\u001b[0m\u001b[0;34m]\u001b[0m\u001b[0;34m\u001b[0m\u001b[0;34m\u001b[0m\u001b[0m\n\u001b[0;32m--> 201\u001b[0;31m     \u001b[0;32mreturn\u001b[0m \u001b[0mtorch\u001b[0m\u001b[0;34m.\u001b[0m\u001b[0m_C\u001b[0m\u001b[0;34m.\u001b[0m\u001b[0m_VariableFunctions\u001b[0m\u001b[0;34m.\u001b[0m\u001b[0meinsum\u001b[0m\u001b[0;34m(\u001b[0m\u001b[0mequation\u001b[0m\u001b[0;34m,\u001b[0m \u001b[0moperands\u001b[0m\u001b[0;34m)\u001b[0m\u001b[0;34m\u001b[0m\u001b[0;34m\u001b[0m\u001b[0m\n\u001b[0m\u001b[1;32m    202\u001b[0m \u001b[0;34m\u001b[0m\u001b[0m\n\u001b[1;32m    203\u001b[0m \u001b[0;34m\u001b[0m\u001b[0m\n",
      "\u001b[0;31mRuntimeError\u001b[0m: CUDA out of memory. Tried to allocate 41.02 GiB (GPU 0; 15.78 GiB total capacity; 4.96 GiB already allocated; 9.60 GiB free; 230.85 MiB cached)"
     ]
    }
   ],
   "source": [
    "all_metrics['xDeepFM'] = test_model(model_xfm, train_model_input, test_model_input, val_model_input, train[target].values, test[target].values, val[target], batch_size*2)"
   ]
  },
  {
   "cell_type": "code",
   "execution_count": null,
   "metadata": {},
   "outputs": [],
   "source": [
    "# 4.Define Model,train,predict and evaluate\n",
    "\n",
    "device = 'cpu'\n",
    "use_cuda = True\n",
    "if use_cuda and torch.cuda.is_available():\n",
    "    print('cuda ready...')\n",
    "    device = 'cuda:0'\n",
    "\n",
    "model_dcn = DCN(linear_feature_columns=linear_feature_columns, dnn_feature_columns=dnn_feature_columns, dnn_dropout=0.5,\n",
    "                task='binary', device=device)"
   ]
  },
  {
   "cell_type": "code",
   "execution_count": 10,
   "metadata": {},
   "outputs": [
    {
     "name": "stdout",
     "output_type": "stream",
     "text": [
      "model DCN(\n",
      "  (embedding_dict): ModuleDict(\n",
      "    (C1): Embedding(7, 8)\n",
      "    (C14): Embedding(2626, 8)\n",
      "    (C15): Embedding(8, 8)\n",
      "    (C16): Embedding(9, 8)\n",
      "    (C17): Embedding(435, 8)\n",
      "    (C18): Embedding(4, 8)\n",
      "    (C19): Embedding(68, 8)\n",
      "    (C20): Embedding(172, 8)\n",
      "    (C21): Embedding(60, 8)\n",
      "    (app_category): Embedding(36, 8)\n",
      "    (app_domain): Embedding(559, 8)\n",
      "    (app_id): Embedding(8552, 8)\n",
      "    (banner_pos): Embedding(7, 8)\n",
      "    (device_conn_type): Embedding(4, 8)\n",
      "    (device_id): Embedding(2686408, 8)\n",
      "    (device_model): Embedding(8251, 8)\n",
      "    (device_type): Embedding(5, 8)\n",
      "    (hour): Embedding(24, 8)\n",
      "    (site_category): Embedding(26, 8)\n",
      "    (site_domain): Embedding(7745, 8)\n",
      "    (site_id): Embedding(4737, 8)\n",
      "  )\n",
      "  (linear_model): Linear(\n",
      "    (embedding_dict): ModuleDict(\n",
      "      (C1): Embedding(7, 1)\n",
      "      (C14): Embedding(2626, 1)\n",
      "      (C15): Embedding(8, 1)\n",
      "      (C16): Embedding(9, 1)\n",
      "      (C17): Embedding(435, 1)\n",
      "      (C18): Embedding(4, 1)\n",
      "      (C19): Embedding(68, 1)\n",
      "      (C20): Embedding(172, 1)\n",
      "      (C21): Embedding(60, 1)\n",
      "      (app_category): Embedding(36, 1)\n",
      "      (app_domain): Embedding(559, 1)\n",
      "      (app_id): Embedding(8552, 1)\n",
      "      (banner_pos): Embedding(7, 1)\n",
      "      (device_conn_type): Embedding(4, 1)\n",
      "      (device_id): Embedding(2686408, 1)\n",
      "      (device_model): Embedding(8251, 1)\n",
      "      (device_type): Embedding(5, 1)\n",
      "      (hour): Embedding(24, 1)\n",
      "      (site_category): Embedding(26, 1)\n",
      "      (site_domain): Embedding(7745, 1)\n",
      "      (site_id): Embedding(4737, 1)\n",
      "    )\n",
      "  )\n",
      "  (out): PredictionLayer()\n",
      "  (dnn): DNN(\n",
      "    (dropout): Dropout(p=0.5, inplace=False)\n",
      "    (linears): ModuleList(\n",
      "      (0): Linear(in_features=168, out_features=128, bias=True)\n",
      "      (1): Linear(in_features=128, out_features=128, bias=True)\n",
      "    )\n",
      "    (activation_layers): ModuleList(\n",
      "      (0): ReLU(inplace=True)\n",
      "      (1): ReLU(inplace=True)\n",
      "    )\n",
      "  )\n",
      "  (dnn_linear): Linear(in_features=296, out_features=1, bias=False)\n",
      "  (crossnet): CrossNet(\n",
      "    (kernels): ParameterList(\n",
      "        (0): Parameter containing: [torch.cuda.FloatTensor of size 168x1 (GPU 0)]\n",
      "        (1): Parameter containing: [torch.cuda.FloatTensor of size 168x1 (GPU 0)]\n",
      "    )\n",
      "    (bias): ParameterList(\n",
      "        (0): Parameter containing: [torch.cuda.FloatTensor of size 168x1 (GPU 0)]\n",
      "        (1): Parameter containing: [torch.cuda.FloatTensor of size 168x1 (GPU 0)]\n",
      "    )\n",
      "  )\n",
      ")\n"
     ]
    }
   ],
   "source": [
    "print('model', model_dcn)"
   ]
  },
  {
   "cell_type": "code",
   "execution_count": 11,
   "metadata": {},
   "outputs": [],
   "source": [
    "torch.cuda.empty_cache()"
   ]
  },
  {
   "cell_type": "code",
   "execution_count": 12,
   "metadata": {
    "collapsed": true
   },
   "outputs": [
    {
     "ename": "NameError",
     "evalue": "name 'model_xfm' is not defined",
     "output_type": "error",
     "traceback": [
      "\u001b[0;31m---------------------------------------------------------------------------\u001b[0m",
      "\u001b[0;31mNameError\u001b[0m                                 Traceback (most recent call last)",
      "\u001b[0;32m<ipython-input-12-106a86044381>\u001b[0m in \u001b[0;36m<module>\u001b[0;34m\u001b[0m\n\u001b[0;32m----> 1\u001b[0;31m \u001b[0;32mdel\u001b[0m \u001b[0mmodel_xfm\u001b[0m\u001b[0;34m\u001b[0m\u001b[0;34m\u001b[0m\u001b[0m\n\u001b[0m",
      "\u001b[0;31mNameError\u001b[0m: name 'model_xfm' is not defined"
     ]
    }
   ],
   "source": [
    "del model_xfm"
   ]
  },
  {
   "cell_type": "code",
   "execution_count": 14,
   "metadata": {},
   "outputs": [
    {
     "name": "stdout",
     "output_type": "stream",
     "text": [
      "epoch 0\n"
     ]
    },
    {
     "name": "stderr",
     "output_type": "stream",
     "text": [
      "0it [00:00, ?it/s]"
     ]
    },
    {
     "name": "stdout",
     "output_type": "stream",
     "text": [
      "cuda:0\n",
      "Train on 36558215 samples, validate on 774150 samples, 2857 steps per epoch\n"
     ]
    },
    {
     "name": "stderr",
     "output_type": "stream",
     "text": [
      "2857it [20:55,  2.28it/s]\n"
     ]
    },
    {
     "name": "stdout",
     "output_type": "stream",
     "text": [
      "Epoch 1/1\n",
      "1263s - loss:  0.3819 - binary_crossentropy:  0.3819 - auc:  0.7726 - val_binary_crossentropy:  0.4175 - val_auc:  0.7409\n",
      "test LogLoss 0.4163\n",
      "test AUC 0.7413\n"
     ]
    },
    {
     "name": "stderr",
     "output_type": "stream",
     "text": [
      "/root/conda/envs/espnet_env/lib/python3.6/site-packages/torch/serialization.py:292: UserWarning: Couldn't retrieve source code for container of type DCN. It won't be checked for correctness upon loading.\n",
      "  \"type \" + obj.__name__ + \". It won't be checked \"\n",
      "/root/conda/envs/espnet_env/lib/python3.6/site-packages/torch/serialization.py:292: UserWarning: Couldn't retrieve source code for container of type ModuleDict. It won't be checked for correctness upon loading.\n",
      "  \"type \" + obj.__name__ + \". It won't be checked \"\n",
      "/root/conda/envs/espnet_env/lib/python3.6/site-packages/torch/serialization.py:292: UserWarning: Couldn't retrieve source code for container of type Embedding. It won't be checked for correctness upon loading.\n",
      "  \"type \" + obj.__name__ + \". It won't be checked \"\n",
      "/root/conda/envs/espnet_env/lib/python3.6/site-packages/torch/serialization.py:292: UserWarning: Couldn't retrieve source code for container of type Linear. It won't be checked for correctness upon loading.\n",
      "  \"type \" + obj.__name__ + \". It won't be checked \"\n",
      "/root/conda/envs/espnet_env/lib/python3.6/site-packages/torch/serialization.py:292: UserWarning: Couldn't retrieve source code for container of type PredictionLayer. It won't be checked for correctness upon loading.\n",
      "  \"type \" + obj.__name__ + \". It won't be checked \"\n",
      "/root/conda/envs/espnet_env/lib/python3.6/site-packages/torch/serialization.py:292: UserWarning: Couldn't retrieve source code for container of type DNN. It won't be checked for correctness upon loading.\n",
      "  \"type \" + obj.__name__ + \". It won't be checked \"\n",
      "/root/conda/envs/espnet_env/lib/python3.6/site-packages/torch/serialization.py:292: UserWarning: Couldn't retrieve source code for container of type Dropout. It won't be checked for correctness upon loading.\n",
      "  \"type \" + obj.__name__ + \". It won't be checked \"\n",
      "/root/conda/envs/espnet_env/lib/python3.6/site-packages/torch/serialization.py:292: UserWarning: Couldn't retrieve source code for container of type ModuleList. It won't be checked for correctness upon loading.\n",
      "  \"type \" + obj.__name__ + \". It won't be checked \"\n",
      "/root/conda/envs/espnet_env/lib/python3.6/site-packages/torch/serialization.py:292: UserWarning: Couldn't retrieve source code for container of type ReLU. It won't be checked for correctness upon loading.\n",
      "  \"type \" + obj.__name__ + \". It won't be checked \"\n",
      "/root/conda/envs/espnet_env/lib/python3.6/site-packages/torch/serialization.py:292: UserWarning: Couldn't retrieve source code for container of type CrossNet. It won't be checked for correctness upon loading.\n",
      "  \"type \" + obj.__name__ + \". It won't be checked \"\n",
      "/root/conda/envs/espnet_env/lib/python3.6/site-packages/torch/serialization.py:292: UserWarning: Couldn't retrieve source code for container of type ParameterList. It won't be checked for correctness upon loading.\n",
      "  \"type \" + obj.__name__ + \". It won't be checked \"\n"
     ]
    }
   ],
   "source": [
    "all_metrics['DCN'] = test_model(model_dcn, train_model_input, test_model_input, val_model_input, train[target].values, test[target].values, val[target], batch_size)"
   ]
  },
  {
   "cell_type": "code",
   "execution_count": 15,
   "metadata": {},
   "outputs": [],
   "source": [
    "torch.cuda.empty_cache()"
   ]
  },
  {
   "cell_type": "code",
   "execution_count": 16,
   "metadata": {},
   "outputs": [
    {
     "name": "stdout",
     "output_type": "stream",
     "text": [
      "cuda ready...\n"
     ]
    }
   ],
   "source": [
    "# 4.Define Model,train,predict and evaluate\n",
    "\n",
    "device = 'cpu'\n",
    "use_cuda = True\n",
    "if use_cuda and torch.cuda.is_available():\n",
    "    print('cuda ready...')\n",
    "    device = 'cuda:0'\n",
    "\n",
    "model_dcn = DeepFM(linear_feature_columns=linear_feature_columns, dnn_feature_columns=dnn_feature_columns, dnn_dropout=0.5,\n",
    "                task='binary', device=device)"
   ]
  },
  {
   "cell_type": "code",
   "execution_count": 17,
   "metadata": {},
   "outputs": [
    {
     "name": "stdout",
     "output_type": "stream",
     "text": [
      "epoch 0\n"
     ]
    },
    {
     "name": "stderr",
     "output_type": "stream",
     "text": [
      "0it [00:00, ?it/s]"
     ]
    },
    {
     "name": "stdout",
     "output_type": "stream",
     "text": [
      "cuda:0\n",
      "Train on 36558215 samples, validate on 774150 samples, 2857 steps per epoch\n"
     ]
    },
    {
     "name": "stderr",
     "output_type": "stream",
     "text": [
      "2857it [20:30,  2.32it/s]\n"
     ]
    },
    {
     "name": "stdout",
     "output_type": "stream",
     "text": [
      "Epoch 1/1\n",
      "1238s - loss:  0.3903 - binary_crossentropy:  0.3903 - auc:  0.7593 - val_binary_crossentropy:  0.4168 - val_auc:  0.7407\n",
      "test LogLoss 0.4157\n",
      "test AUC 0.741\n"
     ]
    },
    {
     "name": "stderr",
     "output_type": "stream",
     "text": [
      "/root/conda/envs/espnet_env/lib/python3.6/site-packages/torch/serialization.py:292: UserWarning: Couldn't retrieve source code for container of type DeepFM. It won't be checked for correctness upon loading.\n",
      "  \"type \" + obj.__name__ + \". It won't be checked \"\n",
      "/root/conda/envs/espnet_env/lib/python3.6/site-packages/torch/serialization.py:292: UserWarning: Couldn't retrieve source code for container of type ModuleDict. It won't be checked for correctness upon loading.\n",
      "  \"type \" + obj.__name__ + \". It won't be checked \"\n",
      "/root/conda/envs/espnet_env/lib/python3.6/site-packages/torch/serialization.py:292: UserWarning: Couldn't retrieve source code for container of type Embedding. It won't be checked for correctness upon loading.\n",
      "  \"type \" + obj.__name__ + \". It won't be checked \"\n",
      "/root/conda/envs/espnet_env/lib/python3.6/site-packages/torch/serialization.py:292: UserWarning: Couldn't retrieve source code for container of type Linear. It won't be checked for correctness upon loading.\n",
      "  \"type \" + obj.__name__ + \". It won't be checked \"\n",
      "/root/conda/envs/espnet_env/lib/python3.6/site-packages/torch/serialization.py:292: UserWarning: Couldn't retrieve source code for container of type PredictionLayer. It won't be checked for correctness upon loading.\n",
      "  \"type \" + obj.__name__ + \". It won't be checked \"\n",
      "/root/conda/envs/espnet_env/lib/python3.6/site-packages/torch/serialization.py:292: UserWarning: Couldn't retrieve source code for container of type FM. It won't be checked for correctness upon loading.\n",
      "  \"type \" + obj.__name__ + \". It won't be checked \"\n",
      "/root/conda/envs/espnet_env/lib/python3.6/site-packages/torch/serialization.py:292: UserWarning: Couldn't retrieve source code for container of type DNN. It won't be checked for correctness upon loading.\n",
      "  \"type \" + obj.__name__ + \". It won't be checked \"\n",
      "/root/conda/envs/espnet_env/lib/python3.6/site-packages/torch/serialization.py:292: UserWarning: Couldn't retrieve source code for container of type Dropout. It won't be checked for correctness upon loading.\n",
      "  \"type \" + obj.__name__ + \". It won't be checked \"\n",
      "/root/conda/envs/espnet_env/lib/python3.6/site-packages/torch/serialization.py:292: UserWarning: Couldn't retrieve source code for container of type ModuleList. It won't be checked for correctness upon loading.\n",
      "  \"type \" + obj.__name__ + \". It won't be checked \"\n",
      "/root/conda/envs/espnet_env/lib/python3.6/site-packages/torch/serialization.py:292: UserWarning: Couldn't retrieve source code for container of type ReLU. It won't be checked for correctness upon loading.\n",
      "  \"type \" + obj.__name__ + \". It won't be checked \"\n"
     ]
    }
   ],
   "source": [
    "all_metrics['DeepFM'] = test_model(model_dcn, train_model_input, test_model_input, val_model_input, train[target].values, test[target].values, val[target], batch_size)\n"
   ]
  },
  {
   "cell_type": "code",
   "execution_count": 18,
   "metadata": {},
   "outputs": [
    {
     "name": "stdout",
     "output_type": "stream",
     "text": [
      "cuda ready...\n",
      "model FiBiNET(\n",
      "  (embedding_dict): ModuleDict(\n",
      "    (C1): Embedding(7, 8)\n",
      "    (C14): Embedding(2626, 8)\n",
      "    (C15): Embedding(8, 8)\n",
      "    (C16): Embedding(9, 8)\n",
      "    (C17): Embedding(435, 8)\n",
      "    (C18): Embedding(4, 8)\n",
      "    (C19): Embedding(68, 8)\n",
      "    (C20): Embedding(172, 8)\n",
      "    (C21): Embedding(60, 8)\n",
      "    (app_category): Embedding(36, 8)\n",
      "    (app_domain): Embedding(559, 8)\n",
      "    (app_id): Embedding(8552, 8)\n",
      "    (banner_pos): Embedding(7, 8)\n",
      "    (device_conn_type): Embedding(4, 8)\n",
      "    (device_id): Embedding(2686408, 8)\n",
      "    (device_model): Embedding(8251, 8)\n",
      "    (device_type): Embedding(5, 8)\n",
      "    (hour): Embedding(24, 8)\n",
      "    (site_category): Embedding(26, 8)\n",
      "    (site_domain): Embedding(7745, 8)\n",
      "    (site_id): Embedding(4737, 8)\n",
      "  )\n",
      "  (linear_model): Linear(\n",
      "    (embedding_dict): ModuleDict(\n",
      "      (C1): Embedding(7, 1)\n",
      "      (C14): Embedding(2626, 1)\n",
      "      (C15): Embedding(8, 1)\n",
      "      (C16): Embedding(9, 1)\n",
      "      (C17): Embedding(435, 1)\n",
      "      (C18): Embedding(4, 1)\n",
      "      (C19): Embedding(68, 1)\n",
      "      (C20): Embedding(172, 1)\n",
      "      (C21): Embedding(60, 1)\n",
      "      (app_category): Embedding(36, 1)\n",
      "      (app_domain): Embedding(559, 1)\n",
      "      (app_id): Embedding(8552, 1)\n",
      "      (banner_pos): Embedding(7, 1)\n",
      "      (device_conn_type): Embedding(4, 1)\n",
      "      (device_id): Embedding(2686408, 1)\n",
      "      (device_model): Embedding(8251, 1)\n",
      "      (device_type): Embedding(5, 1)\n",
      "      (hour): Embedding(24, 1)\n",
      "      (site_category): Embedding(26, 1)\n",
      "      (site_domain): Embedding(7745, 1)\n",
      "      (site_id): Embedding(4737, 1)\n",
      "    )\n",
      "  )\n",
      "  (out): PredictionLayer()\n",
      "  (SE): SENETLayer(\n",
      "    (excitation): Sequential(\n",
      "      (0): Linear(in_features=21, out_features=2, bias=False)\n",
      "      (1): ReLU()\n",
      "      (2): Linear(in_features=2, out_features=21, bias=False)\n",
      "      (3): ReLU()\n",
      "    )\n",
      "  )\n",
      "  (Bilinear): BilinearInteraction(\n",
      "    (bilinear): Linear(in_features=8, out_features=8, bias=False)\n",
      "  )\n",
      "  (dnn): DNN(\n",
      "    (dropout): Dropout(p=0.3, inplace=False)\n",
      "    (linears): ModuleList(\n",
      "      (0): Linear(in_features=3360, out_features=400, bias=True)\n",
      "      (1): Linear(in_features=400, out_features=400, bias=True)\n",
      "      (2): Linear(in_features=400, out_features=400, bias=True)\n",
      "    )\n",
      "    (activation_layers): ModuleList(\n",
      "      (0): ReLU(inplace=True)\n",
      "      (1): ReLU(inplace=True)\n",
      "      (2): ReLU(inplace=True)\n",
      "    )\n",
      "  )\n",
      "  (dnn_linear): Linear(in_features=400, out_features=1, bias=False)\n",
      ")\n"
     ]
    }
   ],
   "source": [
    "# 4.Define Model,train,predict and evaluate\n",
    "\n",
    "device = 'cpu'\n",
    "use_cuda = True\n",
    "if use_cuda and torch.cuda.is_available():\n",
    "    print('cuda ready...')\n",
    "    device = 'cuda:0'\n",
    "\n",
    "model = FiBiNET(linear_feature_columns=linear_feature_columns, dnn_feature_columns=dnn_feature_columns,\n",
    "                bilinear_type='all',\n",
    "                reduction_ratio=8, dnn_hidden_units=(400, 400, 400), l2_reg_linear=1e-4,\n",
    "                l2_reg_embedding=1e-4, l2_reg_dnn=1e-4, init_std=1e-15, seed=1024, dnn_dropout=0.3,\n",
    "                dnn_activation='relu',\n",
    "                task='binary', device=device)\n",
    "print('model', model)"
   ]
  },
  {
   "cell_type": "code",
   "execution_count": 19,
   "metadata": {},
   "outputs": [],
   "source": [
    "torch.cuda.empty_cache()"
   ]
  },
  {
   "cell_type": "code",
   "execution_count": 20,
   "metadata": {},
   "outputs": [
    {
     "name": "stdout",
     "output_type": "stream",
     "text": [
      "epoch 0\n"
     ]
    },
    {
     "name": "stderr",
     "output_type": "stream",
     "text": [
      "0it [00:00, ?it/s]"
     ]
    },
    {
     "name": "stdout",
     "output_type": "stream",
     "text": [
      "cuda:0\n",
      "Train on 36558215 samples, validate on 774150 samples, 2857 steps per epoch\n"
     ]
    },
    {
     "name": "stderr",
     "output_type": "stream",
     "text": [
      "2857it [25:54,  1.84it/s]\n"
     ]
    },
    {
     "name": "stdout",
     "output_type": "stream",
     "text": [
      "Epoch 1/1\n",
      "1562s - loss:  0.3879 - binary_crossentropy:  0.3878 - auc:  0.7633 - val_binary_crossentropy:  0.4160 - val_auc:  0.7436\n",
      "test LogLoss 0.4148\n",
      "test AUC 0.7441\n"
     ]
    },
    {
     "name": "stderr",
     "output_type": "stream",
     "text": [
      "/root/conda/envs/espnet_env/lib/python3.6/site-packages/torch/serialization.py:292: UserWarning: Couldn't retrieve source code for container of type FiBiNET. It won't be checked for correctness upon loading.\n",
      "  \"type \" + obj.__name__ + \". It won't be checked \"\n",
      "/root/conda/envs/espnet_env/lib/python3.6/site-packages/torch/serialization.py:292: UserWarning: Couldn't retrieve source code for container of type ModuleDict. It won't be checked for correctness upon loading.\n",
      "  \"type \" + obj.__name__ + \". It won't be checked \"\n",
      "/root/conda/envs/espnet_env/lib/python3.6/site-packages/torch/serialization.py:292: UserWarning: Couldn't retrieve source code for container of type Embedding. It won't be checked for correctness upon loading.\n",
      "  \"type \" + obj.__name__ + \". It won't be checked \"\n",
      "/root/conda/envs/espnet_env/lib/python3.6/site-packages/torch/serialization.py:292: UserWarning: Couldn't retrieve source code for container of type Linear. It won't be checked for correctness upon loading.\n",
      "  \"type \" + obj.__name__ + \". It won't be checked \"\n",
      "/root/conda/envs/espnet_env/lib/python3.6/site-packages/torch/serialization.py:292: UserWarning: Couldn't retrieve source code for container of type PredictionLayer. It won't be checked for correctness upon loading.\n",
      "  \"type \" + obj.__name__ + \". It won't be checked \"\n",
      "/root/conda/envs/espnet_env/lib/python3.6/site-packages/torch/serialization.py:292: UserWarning: Couldn't retrieve source code for container of type SENETLayer. It won't be checked for correctness upon loading.\n",
      "  \"type \" + obj.__name__ + \". It won't be checked \"\n",
      "/root/conda/envs/espnet_env/lib/python3.6/site-packages/torch/serialization.py:292: UserWarning: Couldn't retrieve source code for container of type Sequential. It won't be checked for correctness upon loading.\n",
      "  \"type \" + obj.__name__ + \". It won't be checked \"\n",
      "/root/conda/envs/espnet_env/lib/python3.6/site-packages/torch/serialization.py:292: UserWarning: Couldn't retrieve source code for container of type ReLU. It won't be checked for correctness upon loading.\n",
      "  \"type \" + obj.__name__ + \". It won't be checked \"\n",
      "/root/conda/envs/espnet_env/lib/python3.6/site-packages/torch/serialization.py:292: UserWarning: Couldn't retrieve source code for container of type BilinearInteraction. It won't be checked for correctness upon loading.\n",
      "  \"type \" + obj.__name__ + \". It won't be checked \"\n",
      "/root/conda/envs/espnet_env/lib/python3.6/site-packages/torch/serialization.py:292: UserWarning: Couldn't retrieve source code for container of type DNN. It won't be checked for correctness upon loading.\n",
      "  \"type \" + obj.__name__ + \". It won't be checked \"\n",
      "/root/conda/envs/espnet_env/lib/python3.6/site-packages/torch/serialization.py:292: UserWarning: Couldn't retrieve source code for container of type Dropout. It won't be checked for correctness upon loading.\n",
      "  \"type \" + obj.__name__ + \". It won't be checked \"\n",
      "/root/conda/envs/espnet_env/lib/python3.6/site-packages/torch/serialization.py:292: UserWarning: Couldn't retrieve source code for container of type ModuleList. It won't be checked for correctness upon loading.\n",
      "  \"type \" + obj.__name__ + \". It won't be checked \"\n"
     ]
    }
   ],
   "source": [
    "all_metrics['FibiNet-all'] = test_model(model, train_model_input, test_model_input, val_model_input, train[target].values, test[target].values, val[target], batch_size)"
   ]
  },
  {
   "cell_type": "code",
   "execution_count": 21,
   "metadata": {},
   "outputs": [
    {
     "name": "stdout",
     "output_type": "stream",
     "text": [
      "cuda ready...\n",
      "model FiBiNET(\n",
      "  (embedding_dict): ModuleDict(\n",
      "    (C1): Embedding(7, 8)\n",
      "    (C14): Embedding(2626, 8)\n",
      "    (C15): Embedding(8, 8)\n",
      "    (C16): Embedding(9, 8)\n",
      "    (C17): Embedding(435, 8)\n",
      "    (C18): Embedding(4, 8)\n",
      "    (C19): Embedding(68, 8)\n",
      "    (C20): Embedding(172, 8)\n",
      "    (C21): Embedding(60, 8)\n",
      "    (app_category): Embedding(36, 8)\n",
      "    (app_domain): Embedding(559, 8)\n",
      "    (app_id): Embedding(8552, 8)\n",
      "    (banner_pos): Embedding(7, 8)\n",
      "    (device_conn_type): Embedding(4, 8)\n",
      "    (device_id): Embedding(2686408, 8)\n",
      "    (device_model): Embedding(8251, 8)\n",
      "    (device_type): Embedding(5, 8)\n",
      "    (hour): Embedding(24, 8)\n",
      "    (site_category): Embedding(26, 8)\n",
      "    (site_domain): Embedding(7745, 8)\n",
      "    (site_id): Embedding(4737, 8)\n",
      "  )\n",
      "  (linear_model): Linear(\n",
      "    (embedding_dict): ModuleDict(\n",
      "      (C1): Embedding(7, 1)\n",
      "      (C14): Embedding(2626, 1)\n",
      "      (C15): Embedding(8, 1)\n",
      "      (C16): Embedding(9, 1)\n",
      "      (C17): Embedding(435, 1)\n",
      "      (C18): Embedding(4, 1)\n",
      "      (C19): Embedding(68, 1)\n",
      "      (C20): Embedding(172, 1)\n",
      "      (C21): Embedding(60, 1)\n",
      "      (app_category): Embedding(36, 1)\n",
      "      (app_domain): Embedding(559, 1)\n",
      "      (app_id): Embedding(8552, 1)\n",
      "      (banner_pos): Embedding(7, 1)\n",
      "      (device_conn_type): Embedding(4, 1)\n",
      "      (device_id): Embedding(2686408, 1)\n",
      "      (device_model): Embedding(8251, 1)\n",
      "      (device_type): Embedding(5, 1)\n",
      "      (hour): Embedding(24, 1)\n",
      "      (site_category): Embedding(26, 1)\n",
      "      (site_domain): Embedding(7745, 1)\n",
      "      (site_id): Embedding(4737, 1)\n",
      "    )\n",
      "  )\n",
      "  (out): PredictionLayer()\n",
      "  (SE): SENETLayer(\n",
      "    (excitation): Sequential(\n",
      "      (0): Linear(in_features=21, out_features=2, bias=False)\n",
      "      (1): ReLU()\n",
      "      (2): Linear(in_features=2, out_features=21, bias=False)\n",
      "      (3): ReLU()\n",
      "    )\n",
      "  )\n",
      "  (Bilinear): BilinearInteraction(\n",
      "    (bilinear): ModuleList(\n",
      "      (0): Linear(in_features=8, out_features=8, bias=False)\n",
      "      (1): Linear(in_features=8, out_features=8, bias=False)\n",
      "      (2): Linear(in_features=8, out_features=8, bias=False)\n",
      "      (3): Linear(in_features=8, out_features=8, bias=False)\n",
      "      (4): Linear(in_features=8, out_features=8, bias=False)\n",
      "      (5): Linear(in_features=8, out_features=8, bias=False)\n",
      "      (6): Linear(in_features=8, out_features=8, bias=False)\n",
      "      (7): Linear(in_features=8, out_features=8, bias=False)\n",
      "      (8): Linear(in_features=8, out_features=8, bias=False)\n",
      "      (9): Linear(in_features=8, out_features=8, bias=False)\n",
      "      (10): Linear(in_features=8, out_features=8, bias=False)\n",
      "      (11): Linear(in_features=8, out_features=8, bias=False)\n",
      "      (12): Linear(in_features=8, out_features=8, bias=False)\n",
      "      (13): Linear(in_features=8, out_features=8, bias=False)\n",
      "      (14): Linear(in_features=8, out_features=8, bias=False)\n",
      "      (15): Linear(in_features=8, out_features=8, bias=False)\n",
      "      (16): Linear(in_features=8, out_features=8, bias=False)\n",
      "      (17): Linear(in_features=8, out_features=8, bias=False)\n",
      "      (18): Linear(in_features=8, out_features=8, bias=False)\n",
      "      (19): Linear(in_features=8, out_features=8, bias=False)\n",
      "      (20): Linear(in_features=8, out_features=8, bias=False)\n",
      "      (21): Linear(in_features=8, out_features=8, bias=False)\n",
      "      (22): Linear(in_features=8, out_features=8, bias=False)\n",
      "      (23): Linear(in_features=8, out_features=8, bias=False)\n",
      "      (24): Linear(in_features=8, out_features=8, bias=False)\n",
      "      (25): Linear(in_features=8, out_features=8, bias=False)\n",
      "      (26): Linear(in_features=8, out_features=8, bias=False)\n",
      "      (27): Linear(in_features=8, out_features=8, bias=False)\n",
      "      (28): Linear(in_features=8, out_features=8, bias=False)\n",
      "      (29): Linear(in_features=8, out_features=8, bias=False)\n",
      "      (30): Linear(in_features=8, out_features=8, bias=False)\n",
      "      (31): Linear(in_features=8, out_features=8, bias=False)\n",
      "      (32): Linear(in_features=8, out_features=8, bias=False)\n",
      "      (33): Linear(in_features=8, out_features=8, bias=False)\n",
      "      (34): Linear(in_features=8, out_features=8, bias=False)\n",
      "      (35): Linear(in_features=8, out_features=8, bias=False)\n",
      "      (36): Linear(in_features=8, out_features=8, bias=False)\n",
      "      (37): Linear(in_features=8, out_features=8, bias=False)\n",
      "      (38): Linear(in_features=8, out_features=8, bias=False)\n",
      "      (39): Linear(in_features=8, out_features=8, bias=False)\n",
      "      (40): Linear(in_features=8, out_features=8, bias=False)\n",
      "      (41): Linear(in_features=8, out_features=8, bias=False)\n",
      "      (42): Linear(in_features=8, out_features=8, bias=False)\n",
      "      (43): Linear(in_features=8, out_features=8, bias=False)\n",
      "      (44): Linear(in_features=8, out_features=8, bias=False)\n",
      "      (45): Linear(in_features=8, out_features=8, bias=False)\n",
      "      (46): Linear(in_features=8, out_features=8, bias=False)\n",
      "      (47): Linear(in_features=8, out_features=8, bias=False)\n",
      "      (48): Linear(in_features=8, out_features=8, bias=False)\n",
      "      (49): Linear(in_features=8, out_features=8, bias=False)\n",
      "      (50): Linear(in_features=8, out_features=8, bias=False)\n",
      "      (51): Linear(in_features=8, out_features=8, bias=False)\n",
      "      (52): Linear(in_features=8, out_features=8, bias=False)\n",
      "      (53): Linear(in_features=8, out_features=8, bias=False)\n",
      "      (54): Linear(in_features=8, out_features=8, bias=False)\n",
      "      (55): Linear(in_features=8, out_features=8, bias=False)\n",
      "      (56): Linear(in_features=8, out_features=8, bias=False)\n",
      "      (57): Linear(in_features=8, out_features=8, bias=False)\n",
      "      (58): Linear(in_features=8, out_features=8, bias=False)\n",
      "      (59): Linear(in_features=8, out_features=8, bias=False)\n",
      "      (60): Linear(in_features=8, out_features=8, bias=False)\n",
      "      (61): Linear(in_features=8, out_features=8, bias=False)\n",
      "      (62): Linear(in_features=8, out_features=8, bias=False)\n",
      "      (63): Linear(in_features=8, out_features=8, bias=False)\n",
      "      (64): Linear(in_features=8, out_features=8, bias=False)\n",
      "      (65): Linear(in_features=8, out_features=8, bias=False)\n",
      "      (66): Linear(in_features=8, out_features=8, bias=False)\n",
      "      (67): Linear(in_features=8, out_features=8, bias=False)\n",
      "      (68): Linear(in_features=8, out_features=8, bias=False)\n",
      "      (69): Linear(in_features=8, out_features=8, bias=False)\n",
      "      (70): Linear(in_features=8, out_features=8, bias=False)\n",
      "      (71): Linear(in_features=8, out_features=8, bias=False)\n",
      "      (72): Linear(in_features=8, out_features=8, bias=False)\n",
      "      (73): Linear(in_features=8, out_features=8, bias=False)\n",
      "      (74): Linear(in_features=8, out_features=8, bias=False)\n",
      "      (75): Linear(in_features=8, out_features=8, bias=False)\n",
      "      (76): Linear(in_features=8, out_features=8, bias=False)\n",
      "      (77): Linear(in_features=8, out_features=8, bias=False)\n",
      "      (78): Linear(in_features=8, out_features=8, bias=False)\n",
      "      (79): Linear(in_features=8, out_features=8, bias=False)\n",
      "      (80): Linear(in_features=8, out_features=8, bias=False)\n",
      "      (81): Linear(in_features=8, out_features=8, bias=False)\n",
      "      (82): Linear(in_features=8, out_features=8, bias=False)\n",
      "      (83): Linear(in_features=8, out_features=8, bias=False)\n",
      "      (84): Linear(in_features=8, out_features=8, bias=False)\n",
      "      (85): Linear(in_features=8, out_features=8, bias=False)\n",
      "      (86): Linear(in_features=8, out_features=8, bias=False)\n",
      "      (87): Linear(in_features=8, out_features=8, bias=False)\n",
      "      (88): Linear(in_features=8, out_features=8, bias=False)\n",
      "      (89): Linear(in_features=8, out_features=8, bias=False)\n",
      "      (90): Linear(in_features=8, out_features=8, bias=False)\n",
      "      (91): Linear(in_features=8, out_features=8, bias=False)\n",
      "      (92): Linear(in_features=8, out_features=8, bias=False)\n",
      "      (93): Linear(in_features=8, out_features=8, bias=False)\n",
      "      (94): Linear(in_features=8, out_features=8, bias=False)\n",
      "      (95): Linear(in_features=8, out_features=8, bias=False)\n",
      "      (96): Linear(in_features=8, out_features=8, bias=False)\n",
      "      (97): Linear(in_features=8, out_features=8, bias=False)\n",
      "      (98): Linear(in_features=8, out_features=8, bias=False)\n",
      "      (99): Linear(in_features=8, out_features=8, bias=False)\n",
      "      (100): Linear(in_features=8, out_features=8, bias=False)\n",
      "      (101): Linear(in_features=8, out_features=8, bias=False)\n",
      "      (102): Linear(in_features=8, out_features=8, bias=False)\n",
      "      (103): Linear(in_features=8, out_features=8, bias=False)\n",
      "      (104): Linear(in_features=8, out_features=8, bias=False)\n",
      "      (105): Linear(in_features=8, out_features=8, bias=False)\n",
      "      (106): Linear(in_features=8, out_features=8, bias=False)\n",
      "      (107): Linear(in_features=8, out_features=8, bias=False)\n",
      "      (108): Linear(in_features=8, out_features=8, bias=False)\n",
      "      (109): Linear(in_features=8, out_features=8, bias=False)\n",
      "      (110): Linear(in_features=8, out_features=8, bias=False)\n",
      "      (111): Linear(in_features=8, out_features=8, bias=False)\n",
      "      (112): Linear(in_features=8, out_features=8, bias=False)\n",
      "      (113): Linear(in_features=8, out_features=8, bias=False)\n",
      "      (114): Linear(in_features=8, out_features=8, bias=False)\n",
      "      (115): Linear(in_features=8, out_features=8, bias=False)\n",
      "      (116): Linear(in_features=8, out_features=8, bias=False)\n",
      "      (117): Linear(in_features=8, out_features=8, bias=False)\n",
      "      (118): Linear(in_features=8, out_features=8, bias=False)\n",
      "      (119): Linear(in_features=8, out_features=8, bias=False)\n",
      "      (120): Linear(in_features=8, out_features=8, bias=False)\n",
      "      (121): Linear(in_features=8, out_features=8, bias=False)\n",
      "      (122): Linear(in_features=8, out_features=8, bias=False)\n",
      "      (123): Linear(in_features=8, out_features=8, bias=False)\n",
      "      (124): Linear(in_features=8, out_features=8, bias=False)\n",
      "      (125): Linear(in_features=8, out_features=8, bias=False)\n",
      "      (126): Linear(in_features=8, out_features=8, bias=False)\n",
      "      (127): Linear(in_features=8, out_features=8, bias=False)\n",
      "      (128): Linear(in_features=8, out_features=8, bias=False)\n",
      "      (129): Linear(in_features=8, out_features=8, bias=False)\n",
      "      (130): Linear(in_features=8, out_features=8, bias=False)\n",
      "      (131): Linear(in_features=8, out_features=8, bias=False)\n",
      "      (132): Linear(in_features=8, out_features=8, bias=False)\n",
      "      (133): Linear(in_features=8, out_features=8, bias=False)\n",
      "      (134): Linear(in_features=8, out_features=8, bias=False)\n",
      "      (135): Linear(in_features=8, out_features=8, bias=False)\n",
      "      (136): Linear(in_features=8, out_features=8, bias=False)\n",
      "      (137): Linear(in_features=8, out_features=8, bias=False)\n",
      "      (138): Linear(in_features=8, out_features=8, bias=False)\n",
      "      (139): Linear(in_features=8, out_features=8, bias=False)\n",
      "      (140): Linear(in_features=8, out_features=8, bias=False)\n",
      "      (141): Linear(in_features=8, out_features=8, bias=False)\n",
      "      (142): Linear(in_features=8, out_features=8, bias=False)\n",
      "      (143): Linear(in_features=8, out_features=8, bias=False)\n",
      "      (144): Linear(in_features=8, out_features=8, bias=False)\n",
      "      (145): Linear(in_features=8, out_features=8, bias=False)\n",
      "      (146): Linear(in_features=8, out_features=8, bias=False)\n",
      "      (147): Linear(in_features=8, out_features=8, bias=False)\n",
      "      (148): Linear(in_features=8, out_features=8, bias=False)\n",
      "      (149): Linear(in_features=8, out_features=8, bias=False)\n",
      "      (150): Linear(in_features=8, out_features=8, bias=False)\n",
      "      (151): Linear(in_features=8, out_features=8, bias=False)\n",
      "      (152): Linear(in_features=8, out_features=8, bias=False)\n",
      "      (153): Linear(in_features=8, out_features=8, bias=False)\n",
      "      (154): Linear(in_features=8, out_features=8, bias=False)\n",
      "      (155): Linear(in_features=8, out_features=8, bias=False)\n",
      "      (156): Linear(in_features=8, out_features=8, bias=False)\n",
      "      (157): Linear(in_features=8, out_features=8, bias=False)\n",
      "      (158): Linear(in_features=8, out_features=8, bias=False)\n",
      "      (159): Linear(in_features=8, out_features=8, bias=False)\n",
      "      (160): Linear(in_features=8, out_features=8, bias=False)\n",
      "      (161): Linear(in_features=8, out_features=8, bias=False)\n",
      "      (162): Linear(in_features=8, out_features=8, bias=False)\n",
      "      (163): Linear(in_features=8, out_features=8, bias=False)\n",
      "      (164): Linear(in_features=8, out_features=8, bias=False)\n",
      "      (165): Linear(in_features=8, out_features=8, bias=False)\n",
      "      (166): Linear(in_features=8, out_features=8, bias=False)\n",
      "      (167): Linear(in_features=8, out_features=8, bias=False)\n",
      "      (168): Linear(in_features=8, out_features=8, bias=False)\n",
      "      (169): Linear(in_features=8, out_features=8, bias=False)\n",
      "      (170): Linear(in_features=8, out_features=8, bias=False)\n",
      "      (171): Linear(in_features=8, out_features=8, bias=False)\n",
      "      (172): Linear(in_features=8, out_features=8, bias=False)\n",
      "      (173): Linear(in_features=8, out_features=8, bias=False)\n",
      "      (174): Linear(in_features=8, out_features=8, bias=False)\n",
      "      (175): Linear(in_features=8, out_features=8, bias=False)\n",
      "      (176): Linear(in_features=8, out_features=8, bias=False)\n",
      "      (177): Linear(in_features=8, out_features=8, bias=False)\n",
      "      (178): Linear(in_features=8, out_features=8, bias=False)\n",
      "      (179): Linear(in_features=8, out_features=8, bias=False)\n",
      "      (180): Linear(in_features=8, out_features=8, bias=False)\n",
      "      (181): Linear(in_features=8, out_features=8, bias=False)\n",
      "      (182): Linear(in_features=8, out_features=8, bias=False)\n",
      "      (183): Linear(in_features=8, out_features=8, bias=False)\n",
      "      (184): Linear(in_features=8, out_features=8, bias=False)\n",
      "      (185): Linear(in_features=8, out_features=8, bias=False)\n",
      "      (186): Linear(in_features=8, out_features=8, bias=False)\n",
      "      (187): Linear(in_features=8, out_features=8, bias=False)\n",
      "      (188): Linear(in_features=8, out_features=8, bias=False)\n",
      "      (189): Linear(in_features=8, out_features=8, bias=False)\n",
      "      (190): Linear(in_features=8, out_features=8, bias=False)\n",
      "      (191): Linear(in_features=8, out_features=8, bias=False)\n",
      "      (192): Linear(in_features=8, out_features=8, bias=False)\n",
      "      (193): Linear(in_features=8, out_features=8, bias=False)\n",
      "      (194): Linear(in_features=8, out_features=8, bias=False)\n",
      "      (195): Linear(in_features=8, out_features=8, bias=False)\n",
      "      (196): Linear(in_features=8, out_features=8, bias=False)\n",
      "      (197): Linear(in_features=8, out_features=8, bias=False)\n",
      "      (198): Linear(in_features=8, out_features=8, bias=False)\n",
      "      (199): Linear(in_features=8, out_features=8, bias=False)\n",
      "      (200): Linear(in_features=8, out_features=8, bias=False)\n",
      "      (201): Linear(in_features=8, out_features=8, bias=False)\n",
      "      (202): Linear(in_features=8, out_features=8, bias=False)\n",
      "      (203): Linear(in_features=8, out_features=8, bias=False)\n",
      "      (204): Linear(in_features=8, out_features=8, bias=False)\n",
      "      (205): Linear(in_features=8, out_features=8, bias=False)\n",
      "      (206): Linear(in_features=8, out_features=8, bias=False)\n",
      "      (207): Linear(in_features=8, out_features=8, bias=False)\n",
      "      (208): Linear(in_features=8, out_features=8, bias=False)\n",
      "      (209): Linear(in_features=8, out_features=8, bias=False)\n",
      "    )\n",
      "  )\n",
      "  (dnn): DNN(\n",
      "    (dropout): Dropout(p=0.3, inplace=False)\n",
      "    (linears): ModuleList(\n",
      "      (0): Linear(in_features=3360, out_features=400, bias=True)\n",
      "      (1): Linear(in_features=400, out_features=400, bias=True)\n",
      "      (2): Linear(in_features=400, out_features=400, bias=True)\n",
      "    )\n",
      "    (activation_layers): ModuleList(\n",
      "      (0): ReLU(inplace=True)\n",
      "      (1): ReLU(inplace=True)\n",
      "      (2): ReLU(inplace=True)\n",
      "    )\n",
      "  )\n",
      "  (dnn_linear): Linear(in_features=400, out_features=1, bias=False)\n",
      ")\n"
     ]
    }
   ],
   "source": [
    "# 4.Define Model,train,predict and evaluate\n",
    "\n",
    "device = 'cpu'\n",
    "use_cuda = True\n",
    "if use_cuda and torch.cuda.is_available():\n",
    "    print('cuda ready...')\n",
    "    device = 'cuda:0'\n",
    "\n",
    "model = FiBiNET(linear_feature_columns=linear_feature_columns, dnn_feature_columns=dnn_feature_columns,\n",
    "                bilinear_type='interaction',\n",
    "                reduction_ratio=8, dnn_hidden_units=(400, 400, 400), l2_reg_linear=1e-4,\n",
    "                l2_reg_embedding=1e-4, l2_reg_dnn=1e-4, init_std=1e-15, seed=1024, dnn_dropout=0.3,\n",
    "                dnn_activation='relu',\n",
    "                task='binary', device=device)\n",
    "print('model', model)"
   ]
  },
  {
   "cell_type": "code",
   "execution_count": 22,
   "metadata": {},
   "outputs": [],
   "source": [
    "torch.cuda.empty_cache()"
   ]
  },
  {
   "cell_type": "code",
   "execution_count": 23,
   "metadata": {},
   "outputs": [
    {
     "name": "stdout",
     "output_type": "stream",
     "text": [
      "epoch 0\n"
     ]
    },
    {
     "name": "stderr",
     "output_type": "stream",
     "text": [
      "0it [00:00, ?it/s]"
     ]
    },
    {
     "name": "stdout",
     "output_type": "stream",
     "text": [
      "cuda:0\n",
      "Train on 36558215 samples, validate on 774150 samples, 2857 steps per epoch\n"
     ]
    },
    {
     "name": "stderr",
     "output_type": "stream",
     "text": [
      "2857it [26:21,  1.81it/s]\n"
     ]
    },
    {
     "name": "stdout",
     "output_type": "stream",
     "text": [
      "Epoch 1/1\n",
      "1589s - loss:  0.3881 - binary_crossentropy:  0.3881 - auc:  0.7629 - val_binary_crossentropy:  0.4163 - val_auc:  0.7434\n",
      "test LogLoss 0.4151\n",
      "test AUC 0.7437\n"
     ]
    },
    {
     "name": "stderr",
     "output_type": "stream",
     "text": [
      "/root/conda/envs/espnet_env/lib/python3.6/site-packages/torch/serialization.py:292: UserWarning: Couldn't retrieve source code for container of type FiBiNET. It won't be checked for correctness upon loading.\n",
      "  \"type \" + obj.__name__ + \". It won't be checked \"\n",
      "/root/conda/envs/espnet_env/lib/python3.6/site-packages/torch/serialization.py:292: UserWarning: Couldn't retrieve source code for container of type ModuleDict. It won't be checked for correctness upon loading.\n",
      "  \"type \" + obj.__name__ + \". It won't be checked \"\n",
      "/root/conda/envs/espnet_env/lib/python3.6/site-packages/torch/serialization.py:292: UserWarning: Couldn't retrieve source code for container of type Embedding. It won't be checked for correctness upon loading.\n",
      "  \"type \" + obj.__name__ + \". It won't be checked \"\n",
      "/root/conda/envs/espnet_env/lib/python3.6/site-packages/torch/serialization.py:292: UserWarning: Couldn't retrieve source code for container of type Linear. It won't be checked for correctness upon loading.\n",
      "  \"type \" + obj.__name__ + \". It won't be checked \"\n",
      "/root/conda/envs/espnet_env/lib/python3.6/site-packages/torch/serialization.py:292: UserWarning: Couldn't retrieve source code for container of type PredictionLayer. It won't be checked for correctness upon loading.\n",
      "  \"type \" + obj.__name__ + \". It won't be checked \"\n",
      "/root/conda/envs/espnet_env/lib/python3.6/site-packages/torch/serialization.py:292: UserWarning: Couldn't retrieve source code for container of type SENETLayer. It won't be checked for correctness upon loading.\n",
      "  \"type \" + obj.__name__ + \". It won't be checked \"\n",
      "/root/conda/envs/espnet_env/lib/python3.6/site-packages/torch/serialization.py:292: UserWarning: Couldn't retrieve source code for container of type Sequential. It won't be checked for correctness upon loading.\n",
      "  \"type \" + obj.__name__ + \". It won't be checked \"\n",
      "/root/conda/envs/espnet_env/lib/python3.6/site-packages/torch/serialization.py:292: UserWarning: Couldn't retrieve source code for container of type ReLU. It won't be checked for correctness upon loading.\n",
      "  \"type \" + obj.__name__ + \". It won't be checked \"\n",
      "/root/conda/envs/espnet_env/lib/python3.6/site-packages/torch/serialization.py:292: UserWarning: Couldn't retrieve source code for container of type BilinearInteraction. It won't be checked for correctness upon loading.\n",
      "  \"type \" + obj.__name__ + \". It won't be checked \"\n",
      "/root/conda/envs/espnet_env/lib/python3.6/site-packages/torch/serialization.py:292: UserWarning: Couldn't retrieve source code for container of type ModuleList. It won't be checked for correctness upon loading.\n",
      "  \"type \" + obj.__name__ + \". It won't be checked \"\n",
      "/root/conda/envs/espnet_env/lib/python3.6/site-packages/torch/serialization.py:292: UserWarning: Couldn't retrieve source code for container of type DNN. It won't be checked for correctness upon loading.\n",
      "  \"type \" + obj.__name__ + \". It won't be checked \"\n",
      "/root/conda/envs/espnet_env/lib/python3.6/site-packages/torch/serialization.py:292: UserWarning: Couldn't retrieve source code for container of type Dropout. It won't be checked for correctness upon loading.\n",
      "  \"type \" + obj.__name__ + \". It won't be checked \"\n"
     ]
    }
   ],
   "source": [
    "all_metrics['FibiNet-inter'] = test_model(model, train_model_input, test_model_input, val_model_input, train[target].values, test[target].values, val[target], batch_size)"
   ]
  },
  {
   "cell_type": "code",
   "execution_count": 29,
   "metadata": {},
   "outputs": [
    {
     "data": {
      "text/html": [
       "<div>\n",
       "<style scoped>\n",
       "    .dataframe tbody tr th:only-of-type {\n",
       "        vertical-align: middle;\n",
       "    }\n",
       "\n",
       "    .dataframe tbody tr th {\n",
       "        vertical-align: top;\n",
       "    }\n",
       "\n",
       "    .dataframe thead th {\n",
       "        text-align: right;\n",
       "    }\n",
       "</style>\n",
       "<table border=\"1\" class=\"dataframe\">\n",
       "  <thead>\n",
       "    <tr style=\"text-align: right;\">\n",
       "      <th></th>\n",
       "      <th>DCN</th>\n",
       "      <th>DeepFM</th>\n",
       "      <th>FibiNet-all</th>\n",
       "      <th>FibiNet-inter</th>\n",
       "      <th>FibiNet-each</th>\n",
       "      <th>xDeepFM</th>\n",
       "    </tr>\n",
       "    <tr>\n",
       "      <th>metric</th>\n",
       "      <th></th>\n",
       "      <th></th>\n",
       "      <th></th>\n",
       "      <th></th>\n",
       "      <th></th>\n",
       "      <th></th>\n",
       "    </tr>\n",
       "  </thead>\n",
       "  <tbody>\n",
       "    <tr>\n",
       "      <th>roc-auc</th>\n",
       "      <td>0.7413</td>\n",
       "      <td>0.7410</td>\n",
       "      <td>0.7441</td>\n",
       "      <td>0.7437</td>\n",
       "      <td>0.7437</td>\n",
       "      <td>0.7405</td>\n",
       "    </tr>\n",
       "    <tr>\n",
       "      <th>log-loss</th>\n",
       "      <td>0.4163</td>\n",
       "      <td>0.4157</td>\n",
       "      <td>0.4148</td>\n",
       "      <td>0.4151</td>\n",
       "      <td>0.4147</td>\n",
       "      <td>0.4171</td>\n",
       "    </tr>\n",
       "  </tbody>\n",
       "</table>\n",
       "</div>"
      ],
      "text/plain": [
       "             DCN  DeepFM  FibiNet-all  FibiNet-inter  FibiNet-each  xDeepFM\n",
       "metric                                                                     \n",
       "roc-auc   0.7413  0.7410       0.7441         0.7437        0.7437   0.7405\n",
       "log-loss  0.4163  0.4157       0.4148         0.4151        0.4147   0.4171"
      ]
     },
     "execution_count": 29,
     "metadata": {},
     "output_type": "execute_result"
    }
   ],
   "source": [
    "get_metrics(all_metrics)"
   ]
  },
  {
   "cell_type": "code",
   "execution_count": 23,
   "metadata": {},
   "outputs": [
    {
     "data": {
      "text/html": [
       "<div>\n",
       "<style scoped>\n",
       "    .dataframe tbody tr th:only-of-type {\n",
       "        vertical-align: middle;\n",
       "    }\n",
       "\n",
       "    .dataframe tbody tr th {\n",
       "        vertical-align: top;\n",
       "    }\n",
       "\n",
       "    .dataframe thead th {\n",
       "        text-align: right;\n",
       "    }\n",
       "</style>\n",
       "<table border=\"1\" class=\"dataframe\">\n",
       "  <thead>\n",
       "    <tr style=\"text-align: right;\">\n",
       "      <th></th>\n",
       "      <th>DCN</th>\n",
       "      <th>DeepFM</th>\n",
       "      <th>FibiNet-inter</th>\n",
       "      <th>FibiNet-each</th>\n",
       "      <th>xDeepFM</th>\n",
       "    </tr>\n",
       "    <tr>\n",
       "      <th>metric</th>\n",
       "      <th></th>\n",
       "      <th></th>\n",
       "      <th></th>\n",
       "      <th></th>\n",
       "      <th></th>\n",
       "    </tr>\n",
       "  </thead>\n",
       "  <tbody>\n",
       "    <tr>\n",
       "      <th>roc-auc</th>\n",
       "      <td>-0.28</td>\n",
       "      <td>-0.31</td>\n",
       "      <td>-0.04</td>\n",
       "      <td>-0.04</td>\n",
       "      <td>-0.36</td>\n",
       "    </tr>\n",
       "    <tr>\n",
       "      <th>log-loss</th>\n",
       "      <td>0.15</td>\n",
       "      <td>0.09</td>\n",
       "      <td>0.03</td>\n",
       "      <td>-0.01</td>\n",
       "      <td>0.23</td>\n",
       "    </tr>\n",
       "  </tbody>\n",
       "</table>\n",
       "</div>"
      ],
      "text/plain": [
       "           DCN  DeepFM  FibiNet-inter  FibiNet-each  xDeepFM\n",
       "metric                                                      \n",
       "roc-auc  -0.28   -0.31          -0.04         -0.04    -0.36\n",
       "log-loss  0.15    0.09           0.03         -0.01     0.23"
      ]
     },
     "execution_count": 23,
     "metadata": {},
     "output_type": "execute_result"
    }
   ],
   "source": [
    "get_ate(all_metrics, control_name='FibiNet-all')"
   ]
  },
  {
   "cell_type": "code",
   "execution_count": 9,
   "metadata": {},
   "outputs": [],
   "source": [
    "from sklearn.linear_model import LogisticRegression"
   ]
  },
  {
   "cell_type": "code",
   "execution_count": 10,
   "metadata": {},
   "outputs": [],
   "source": [
    "clf = LogisticRegression()"
   ]
  },
  {
   "cell_type": "code",
   "execution_count": 6,
   "metadata": {},
   "outputs": [
    {
     "data": {
      "text/html": [
       "<div>\n",
       "<style scoped>\n",
       "    .dataframe tbody tr th:only-of-type {\n",
       "        vertical-align: middle;\n",
       "    }\n",
       "\n",
       "    .dataframe tbody tr th {\n",
       "        vertical-align: top;\n",
       "    }\n",
       "\n",
       "    .dataframe thead th {\n",
       "        text-align: right;\n",
       "    }\n",
       "</style>\n",
       "<table border=\"1\" class=\"dataframe\">\n",
       "  <thead>\n",
       "    <tr style=\"text-align: right;\">\n",
       "      <th></th>\n",
       "      <th>hour</th>\n",
       "      <th>C1</th>\n",
       "      <th>banner_pos</th>\n",
       "      <th>site_id</th>\n",
       "      <th>site_domain</th>\n",
       "      <th>site_category</th>\n",
       "      <th>app_id</th>\n",
       "      <th>app_domain</th>\n",
       "      <th>app_category</th>\n",
       "      <th>device_id</th>\n",
       "      <th>...</th>\n",
       "      <th>device_type</th>\n",
       "      <th>device_conn_type</th>\n",
       "      <th>C14</th>\n",
       "      <th>C15</th>\n",
       "      <th>C16</th>\n",
       "      <th>C17</th>\n",
       "      <th>C18</th>\n",
       "      <th>C19</th>\n",
       "      <th>C20</th>\n",
       "      <th>C21</th>\n",
       "    </tr>\n",
       "  </thead>\n",
       "  <tbody>\n",
       "    <tr>\n",
       "      <th>0</th>\n",
       "      <td>0</td>\n",
       "      <td>2</td>\n",
       "      <td>0</td>\n",
       "      <td>582</td>\n",
       "      <td>7339</td>\n",
       "      <td>2</td>\n",
       "      <td>7884</td>\n",
       "      <td>254</td>\n",
       "      <td>0</td>\n",
       "      <td>1780272</td>\n",
       "      <td>...</td>\n",
       "      <td>1</td>\n",
       "      <td>1</td>\n",
       "      <td>285</td>\n",
       "      <td>3</td>\n",
       "      <td>2</td>\n",
       "      <td>56</td>\n",
       "      <td>0</td>\n",
       "      <td>2</td>\n",
       "      <td>0</td>\n",
       "      <td>22</td>\n",
       "    </tr>\n",
       "    <tr>\n",
       "      <th>1</th>\n",
       "      <td>0</td>\n",
       "      <td>2</td>\n",
       "      <td>0</td>\n",
       "      <td>582</td>\n",
       "      <td>7339</td>\n",
       "      <td>2</td>\n",
       "      <td>7884</td>\n",
       "      <td>254</td>\n",
       "      <td>0</td>\n",
       "      <td>1780272</td>\n",
       "      <td>...</td>\n",
       "      <td>1</td>\n",
       "      <td>0</td>\n",
       "      <td>283</td>\n",
       "      <td>3</td>\n",
       "      <td>2</td>\n",
       "      <td>56</td>\n",
       "      <td>0</td>\n",
       "      <td>2</td>\n",
       "      <td>65</td>\n",
       "      <td>22</td>\n",
       "    </tr>\n",
       "    <tr>\n",
       "      <th>2</th>\n",
       "      <td>0</td>\n",
       "      <td>2</td>\n",
       "      <td>0</td>\n",
       "      <td>582</td>\n",
       "      <td>7339</td>\n",
       "      <td>2</td>\n",
       "      <td>7884</td>\n",
       "      <td>254</td>\n",
       "      <td>0</td>\n",
       "      <td>1780272</td>\n",
       "      <td>...</td>\n",
       "      <td>1</td>\n",
       "      <td>0</td>\n",
       "      <td>283</td>\n",
       "      <td>3</td>\n",
       "      <td>2</td>\n",
       "      <td>56</td>\n",
       "      <td>0</td>\n",
       "      <td>2</td>\n",
       "      <td>65</td>\n",
       "      <td>22</td>\n",
       "    </tr>\n",
       "    <tr>\n",
       "      <th>3</th>\n",
       "      <td>0</td>\n",
       "      <td>2</td>\n",
       "      <td>0</td>\n",
       "      <td>582</td>\n",
       "      <td>7339</td>\n",
       "      <td>2</td>\n",
       "      <td>7884</td>\n",
       "      <td>254</td>\n",
       "      <td>0</td>\n",
       "      <td>1780272</td>\n",
       "      <td>...</td>\n",
       "      <td>1</td>\n",
       "      <td>0</td>\n",
       "      <td>285</td>\n",
       "      <td>3</td>\n",
       "      <td>2</td>\n",
       "      <td>56</td>\n",
       "      <td>0</td>\n",
       "      <td>2</td>\n",
       "      <td>65</td>\n",
       "      <td>22</td>\n",
       "    </tr>\n",
       "    <tr>\n",
       "      <th>4</th>\n",
       "      <td>0</td>\n",
       "      <td>2</td>\n",
       "      <td>1</td>\n",
       "      <td>4695</td>\n",
       "      <td>4456</td>\n",
       "      <td>0</td>\n",
       "      <td>7884</td>\n",
       "      <td>254</td>\n",
       "      <td>0</td>\n",
       "      <td>1780272</td>\n",
       "      <td>...</td>\n",
       "      <td>1</td>\n",
       "      <td>0</td>\n",
       "      <td>590</td>\n",
       "      <td>3</td>\n",
       "      <td>2</td>\n",
       "      <td>107</td>\n",
       "      <td>0</td>\n",
       "      <td>2</td>\n",
       "      <td>0</td>\n",
       "      <td>42</td>\n",
       "    </tr>\n",
       "  </tbody>\n",
       "</table>\n",
       "<p>5 rows × 21 columns</p>\n",
       "</div>"
      ],
      "text/plain": [
       "   hour  C1  banner_pos  site_id  site_domain  site_category  app_id  \\\n",
       "0     0   2           0      582         7339              2    7884   \n",
       "1     0   2           0      582         7339              2    7884   \n",
       "2     0   2           0      582         7339              2    7884   \n",
       "3     0   2           0      582         7339              2    7884   \n",
       "4     0   2           1     4695         4456              0    7884   \n",
       "\n",
       "   app_domain  app_category  device_id  ...  device_type  device_conn_type  \\\n",
       "0         254             0    1780272  ...            1                 1   \n",
       "1         254             0    1780272  ...            1                 0   \n",
       "2         254             0    1780272  ...            1                 0   \n",
       "3         254             0    1780272  ...            1                 0   \n",
       "4         254             0    1780272  ...            1                 0   \n",
       "\n",
       "   C14  C15  C16  C17  C18  C19  C20  C21  \n",
       "0  285    3    2   56    0    2    0   22  \n",
       "1  283    3    2   56    0    2   65   22  \n",
       "2  283    3    2   56    0    2   65   22  \n",
       "3  285    3    2   56    0    2   65   22  \n",
       "4  590    3    2  107    0    2    0   42  \n",
       "\n",
       "[5 rows x 21 columns]"
      ]
     },
     "execution_count": 6,
     "metadata": {},
     "output_type": "execute_result"
    }
   ],
   "source": [
    "train[feature_names].head()"
   ]
  },
  {
   "cell_type": "code",
   "execution_count": 11,
   "metadata": {},
   "outputs": [
    {
     "name": "stderr",
     "output_type": "stream",
     "text": [
      "/root/conda/envs/espnet_env/lib/python3.6/site-packages/sklearn/utils/validation.py:72: DataConversionWarning: A column-vector y was passed when a 1d array was expected. Please change the shape of y to (n_samples, ), for example using ravel().\n",
      "  return f(**kwargs)\n"
     ]
    },
    {
     "data": {
      "text/plain": [
       "LogisticRegression()"
      ]
     },
     "execution_count": 11,
     "metadata": {},
     "output_type": "execute_result"
    }
   ],
   "source": [
    "clf.fit(train[feature_names], train[target].values)"
   ]
  },
  {
   "cell_type": "code",
   "execution_count": 12,
   "metadata": {},
   "outputs": [
    {
     "data": {
      "text/plain": [
       "6.2875"
      ]
     },
     "execution_count": 12,
     "metadata": {},
     "output_type": "execute_result"
    }
   ],
   "source": [
    "round(log_loss(test[target].values, clf.predict(test[feature_names])), 4)"
   ]
  },
  {
   "cell_type": "code",
   "execution_count": 13,
   "metadata": {},
   "outputs": [
    {
     "data": {
      "text/plain": [
       "0.5"
      ]
     },
     "execution_count": 13,
     "metadata": {},
     "output_type": "execute_result"
    }
   ],
   "source": [
    "round(roc_auc_score(test[target].values, clf.predict(test[feature_names])), 4)"
   ]
  },
  {
   "cell_type": "code",
   "execution_count": null,
   "metadata": {},
   "outputs": [],
   "source": []
  },
  {
   "cell_type": "code",
   "execution_count": null,
   "metadata": {},
   "outputs": [],
   "source": []
  }
 ],
 "metadata": {
  "kernelspec": {
   "display_name": "Python 3",
   "language": "python",
   "name": "python3"
  },
  "language_info": {
   "codemirror_mode": {
    "name": "ipython",
    "version": 3
   },
   "file_extension": ".py",
   "mimetype": "text/x-python",
   "name": "python",
   "nbconvert_exporter": "python",
   "pygments_lexer": "ipython3",
   "version": "3.6.12"
  }
 },
 "nbformat": 4,
 "nbformat_minor": 4
}
