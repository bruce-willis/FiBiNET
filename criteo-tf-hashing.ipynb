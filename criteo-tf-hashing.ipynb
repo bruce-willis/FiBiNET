{
 "cells": [
  {
   "cell_type": "code",
   "execution_count": 1,
   "metadata": {},
   "outputs": [],
   "source": [
    "import os\n",
    "import shutil\n",
    "import sys\n",
    "import glob\n",
    "import pickle\n",
    "import numpy as np\n",
    "import pandas as pd\n",
    "import random\n",
    "import tensorflow as tf\n",
    "from sklearn.model_selection import train_test_split\n",
    "\n",
    "from pathlib import Path"
   ]
  },
  {
   "cell_type": "code",
   "execution_count": 2,
   "metadata": {},
   "outputs": [],
   "source": [
    "SEED = 42\n",
    "if SEED is not None:\n",
    "    np.random.seed(SEED)\n",
    "    random.seed(SEED)\n",
    "    tf.random.set_random_seed(SEED)"
   ]
  },
  {
   "cell_type": "code",
   "execution_count": 3,
   "metadata": {},
   "outputs": [],
   "source": [
    "from deepctr.feature_column import SparseFeat, DenseFeat, get_feature_names"
   ]
  },
  {
   "cell_type": "markdown",
   "metadata": {},
   "source": [
    "## Чтение данных"
   ]
  },
  {
   "cell_type": "code",
   "execution_count": 4,
   "metadata": {},
   "outputs": [],
   "source": [
    "DATA_PATH = Path('data') / 'criteo-part'\n",
    "\n",
    "TRAIN_PATH = str(DATA_PATH / 'train.csv')"
   ]
  },
  {
   "cell_type": "code",
   "execution_count": 5,
   "metadata": {},
   "outputs": [],
   "source": [
    "train = pd.read_csv(TRAIN_PATH)"
   ]
  },
  {
   "cell_type": "code",
   "execution_count": 6,
   "metadata": {},
   "outputs": [
    {
     "data": {
      "text/html": [
       "<div>\n",
       "<style scoped>\n",
       "    .dataframe tbody tr th:only-of-type {\n",
       "        vertical-align: middle;\n",
       "    }\n",
       "\n",
       "    .dataframe tbody tr th {\n",
       "        vertical-align: top;\n",
       "    }\n",
       "\n",
       "    .dataframe thead th {\n",
       "        text-align: right;\n",
       "    }\n",
       "</style>\n",
       "<table border=\"1\" class=\"dataframe\">\n",
       "  <thead>\n",
       "    <tr style=\"text-align: right;\">\n",
       "      <th></th>\n",
       "      <th>_c0</th>\n",
       "      <th>_c1</th>\n",
       "      <th>_c2</th>\n",
       "      <th>_c3</th>\n",
       "      <th>_c4</th>\n",
       "      <th>_c5</th>\n",
       "      <th>_c6</th>\n",
       "      <th>_c7</th>\n",
       "      <th>_c8</th>\n",
       "      <th>_c9</th>\n",
       "      <th>...</th>\n",
       "      <th>_c31</th>\n",
       "      <th>_c32</th>\n",
       "      <th>_c33</th>\n",
       "      <th>_c34</th>\n",
       "      <th>_c35</th>\n",
       "      <th>_c36</th>\n",
       "      <th>_c37</th>\n",
       "      <th>_c38</th>\n",
       "      <th>_c39</th>\n",
       "      <th>id</th>\n",
       "    </tr>\n",
       "  </thead>\n",
       "  <tbody>\n",
       "    <tr>\n",
       "      <th>0</th>\n",
       "      <td>1</td>\n",
       "      <td>0.0</td>\n",
       "      <td>-1</td>\n",
       "      <td>NaN</td>\n",
       "      <td>NaN</td>\n",
       "      <td>1465.0</td>\n",
       "      <td>0.0</td>\n",
       "      <td>17.0</td>\n",
       "      <td>0.0</td>\n",
       "      <td>4.0</td>\n",
       "      <td>...</td>\n",
       "      <td>e5f8f18f</td>\n",
       "      <td>NaN</td>\n",
       "      <td>NaN</td>\n",
       "      <td>f3ddd519</td>\n",
       "      <td>NaN</td>\n",
       "      <td>32c7478e</td>\n",
       "      <td>b34f3128</td>\n",
       "      <td>NaN</td>\n",
       "      <td>NaN</td>\n",
       "      <td>12</td>\n",
       "    </tr>\n",
       "    <tr>\n",
       "      <th>1</th>\n",
       "      <td>1</td>\n",
       "      <td>0.0</td>\n",
       "      <td>1</td>\n",
       "      <td>20.0</td>\n",
       "      <td>16.0</td>\n",
       "      <td>1548.0</td>\n",
       "      <td>93.0</td>\n",
       "      <td>42.0</td>\n",
       "      <td>32.0</td>\n",
       "      <td>912.0</td>\n",
       "      <td>...</td>\n",
       "      <td>1f868fdd</td>\n",
       "      <td>21ddcdc9</td>\n",
       "      <td>a458ea53</td>\n",
       "      <td>7eee76d1</td>\n",
       "      <td>NaN</td>\n",
       "      <td>32c7478e</td>\n",
       "      <td>9af06ad9</td>\n",
       "      <td>9d93af03</td>\n",
       "      <td>cdfe5ab7</td>\n",
       "      <td>26</td>\n",
       "    </tr>\n",
       "    <tr>\n",
       "      <th>2</th>\n",
       "      <td>0</td>\n",
       "      <td>8.0</td>\n",
       "      <td>0</td>\n",
       "      <td>15.0</td>\n",
       "      <td>20.0</td>\n",
       "      <td>115.0</td>\n",
       "      <td>24.0</td>\n",
       "      <td>8.0</td>\n",
       "      <td>23.0</td>\n",
       "      <td>24.0</td>\n",
       "      <td>...</td>\n",
       "      <td>1304f63b</td>\n",
       "      <td>21ddcdc9</td>\n",
       "      <td>b1252a9d</td>\n",
       "      <td>07b2853e</td>\n",
       "      <td>NaN</td>\n",
       "      <td>32c7478e</td>\n",
       "      <td>94bde4f2</td>\n",
       "      <td>010f6491</td>\n",
       "      <td>09b76f8d</td>\n",
       "      <td>39</td>\n",
       "    </tr>\n",
       "    <tr>\n",
       "      <th>3</th>\n",
       "      <td>1</td>\n",
       "      <td>88.0</td>\n",
       "      <td>319</td>\n",
       "      <td>NaN</td>\n",
       "      <td>4.0</td>\n",
       "      <td>5.0</td>\n",
       "      <td>4.0</td>\n",
       "      <td>89.0</td>\n",
       "      <td>40.0</td>\n",
       "      <td>88.0</td>\n",
       "      <td>...</td>\n",
       "      <td>bbf70d82</td>\n",
       "      <td>NaN</td>\n",
       "      <td>NaN</td>\n",
       "      <td>16e2e3b3</td>\n",
       "      <td>NaN</td>\n",
       "      <td>32c7478e</td>\n",
       "      <td>d859b4dd</td>\n",
       "      <td>NaN</td>\n",
       "      <td>NaN</td>\n",
       "      <td>41</td>\n",
       "    </tr>\n",
       "    <tr>\n",
       "      <th>4</th>\n",
       "      <td>0</td>\n",
       "      <td>0.0</td>\n",
       "      <td>53</td>\n",
       "      <td>NaN</td>\n",
       "      <td>10.0</td>\n",
       "      <td>6550.0</td>\n",
       "      <td>98.0</td>\n",
       "      <td>34.0</td>\n",
       "      <td>11.0</td>\n",
       "      <td>349.0</td>\n",
       "      <td>...</td>\n",
       "      <td>fa0643ee</td>\n",
       "      <td>21ddcdc9</td>\n",
       "      <td>b1252a9d</td>\n",
       "      <td>0094bc78</td>\n",
       "      <td>NaN</td>\n",
       "      <td>32c7478e</td>\n",
       "      <td>29ece3ed</td>\n",
       "      <td>001f3601</td>\n",
       "      <td>402185f3</td>\n",
       "      <td>85</td>\n",
       "    </tr>\n",
       "  </tbody>\n",
       "</table>\n",
       "<p>5 rows × 41 columns</p>\n",
       "</div>"
      ],
      "text/plain": [
       "   _c0   _c1  _c2   _c3   _c4     _c5   _c6   _c7   _c8    _c9  ...      _c31  \\\n",
       "0    1   0.0   -1   NaN   NaN  1465.0   0.0  17.0   0.0    4.0  ...  e5f8f18f   \n",
       "1    1   0.0    1  20.0  16.0  1548.0  93.0  42.0  32.0  912.0  ...  1f868fdd   \n",
       "2    0   8.0    0  15.0  20.0   115.0  24.0   8.0  23.0   24.0  ...  1304f63b   \n",
       "3    1  88.0  319   NaN   4.0     5.0   4.0  89.0  40.0   88.0  ...  bbf70d82   \n",
       "4    0   0.0   53   NaN  10.0  6550.0  98.0  34.0  11.0  349.0  ...  fa0643ee   \n",
       "\n",
       "       _c32      _c33      _c34 _c35      _c36      _c37      _c38      _c39  \\\n",
       "0       NaN       NaN  f3ddd519  NaN  32c7478e  b34f3128       NaN       NaN   \n",
       "1  21ddcdc9  a458ea53  7eee76d1  NaN  32c7478e  9af06ad9  9d93af03  cdfe5ab7   \n",
       "2  21ddcdc9  b1252a9d  07b2853e  NaN  32c7478e  94bde4f2  010f6491  09b76f8d   \n",
       "3       NaN       NaN  16e2e3b3  NaN  32c7478e  d859b4dd       NaN       NaN   \n",
       "4  21ddcdc9  b1252a9d  0094bc78  NaN  32c7478e  29ece3ed  001f3601  402185f3   \n",
       "\n",
       "   id  \n",
       "0  12  \n",
       "1  26  \n",
       "2  39  \n",
       "3  41  \n",
       "4  85  \n",
       "\n",
       "[5 rows x 41 columns]"
      ]
     },
     "execution_count": 6,
     "metadata": {},
     "output_type": "execute_result"
    }
   ],
   "source": [
    "train.head()"
   ]
  },
  {
   "cell_type": "code",
   "execution_count": 7,
   "metadata": {},
   "outputs": [],
   "source": [
    "train = train.rename(columns=lambda x: x.replace('_', '').upper())"
   ]
  },
  {
   "cell_type": "code",
   "execution_count": 8,
   "metadata": {},
   "outputs": [
    {
     "data": {
      "text/html": [
       "<div>\n",
       "<style scoped>\n",
       "    .dataframe tbody tr th:only-of-type {\n",
       "        vertical-align: middle;\n",
       "    }\n",
       "\n",
       "    .dataframe tbody tr th {\n",
       "        vertical-align: top;\n",
       "    }\n",
       "\n",
       "    .dataframe thead th {\n",
       "        text-align: right;\n",
       "    }\n",
       "</style>\n",
       "<table border=\"1\" class=\"dataframe\">\n",
       "  <thead>\n",
       "    <tr style=\"text-align: right;\">\n",
       "      <th></th>\n",
       "      <th>C0</th>\n",
       "      <th>C1</th>\n",
       "      <th>C2</th>\n",
       "      <th>C3</th>\n",
       "      <th>C4</th>\n",
       "      <th>C5</th>\n",
       "      <th>C6</th>\n",
       "      <th>C7</th>\n",
       "      <th>C8</th>\n",
       "      <th>C9</th>\n",
       "      <th>...</th>\n",
       "      <th>C31</th>\n",
       "      <th>C32</th>\n",
       "      <th>C33</th>\n",
       "      <th>C34</th>\n",
       "      <th>C35</th>\n",
       "      <th>C36</th>\n",
       "      <th>C37</th>\n",
       "      <th>C38</th>\n",
       "      <th>C39</th>\n",
       "      <th>ID</th>\n",
       "    </tr>\n",
       "  </thead>\n",
       "  <tbody>\n",
       "    <tr>\n",
       "      <th>0</th>\n",
       "      <td>1</td>\n",
       "      <td>0.0</td>\n",
       "      <td>-1</td>\n",
       "      <td>NaN</td>\n",
       "      <td>NaN</td>\n",
       "      <td>1465.0</td>\n",
       "      <td>0.0</td>\n",
       "      <td>17.0</td>\n",
       "      <td>0.0</td>\n",
       "      <td>4.0</td>\n",
       "      <td>...</td>\n",
       "      <td>e5f8f18f</td>\n",
       "      <td>NaN</td>\n",
       "      <td>NaN</td>\n",
       "      <td>f3ddd519</td>\n",
       "      <td>NaN</td>\n",
       "      <td>32c7478e</td>\n",
       "      <td>b34f3128</td>\n",
       "      <td>NaN</td>\n",
       "      <td>NaN</td>\n",
       "      <td>12</td>\n",
       "    </tr>\n",
       "    <tr>\n",
       "      <th>1</th>\n",
       "      <td>1</td>\n",
       "      <td>0.0</td>\n",
       "      <td>1</td>\n",
       "      <td>20.0</td>\n",
       "      <td>16.0</td>\n",
       "      <td>1548.0</td>\n",
       "      <td>93.0</td>\n",
       "      <td>42.0</td>\n",
       "      <td>32.0</td>\n",
       "      <td>912.0</td>\n",
       "      <td>...</td>\n",
       "      <td>1f868fdd</td>\n",
       "      <td>21ddcdc9</td>\n",
       "      <td>a458ea53</td>\n",
       "      <td>7eee76d1</td>\n",
       "      <td>NaN</td>\n",
       "      <td>32c7478e</td>\n",
       "      <td>9af06ad9</td>\n",
       "      <td>9d93af03</td>\n",
       "      <td>cdfe5ab7</td>\n",
       "      <td>26</td>\n",
       "    </tr>\n",
       "    <tr>\n",
       "      <th>2</th>\n",
       "      <td>0</td>\n",
       "      <td>8.0</td>\n",
       "      <td>0</td>\n",
       "      <td>15.0</td>\n",
       "      <td>20.0</td>\n",
       "      <td>115.0</td>\n",
       "      <td>24.0</td>\n",
       "      <td>8.0</td>\n",
       "      <td>23.0</td>\n",
       "      <td>24.0</td>\n",
       "      <td>...</td>\n",
       "      <td>1304f63b</td>\n",
       "      <td>21ddcdc9</td>\n",
       "      <td>b1252a9d</td>\n",
       "      <td>07b2853e</td>\n",
       "      <td>NaN</td>\n",
       "      <td>32c7478e</td>\n",
       "      <td>94bde4f2</td>\n",
       "      <td>010f6491</td>\n",
       "      <td>09b76f8d</td>\n",
       "      <td>39</td>\n",
       "    </tr>\n",
       "    <tr>\n",
       "      <th>3</th>\n",
       "      <td>1</td>\n",
       "      <td>88.0</td>\n",
       "      <td>319</td>\n",
       "      <td>NaN</td>\n",
       "      <td>4.0</td>\n",
       "      <td>5.0</td>\n",
       "      <td>4.0</td>\n",
       "      <td>89.0</td>\n",
       "      <td>40.0</td>\n",
       "      <td>88.0</td>\n",
       "      <td>...</td>\n",
       "      <td>bbf70d82</td>\n",
       "      <td>NaN</td>\n",
       "      <td>NaN</td>\n",
       "      <td>16e2e3b3</td>\n",
       "      <td>NaN</td>\n",
       "      <td>32c7478e</td>\n",
       "      <td>d859b4dd</td>\n",
       "      <td>NaN</td>\n",
       "      <td>NaN</td>\n",
       "      <td>41</td>\n",
       "    </tr>\n",
       "    <tr>\n",
       "      <th>4</th>\n",
       "      <td>0</td>\n",
       "      <td>0.0</td>\n",
       "      <td>53</td>\n",
       "      <td>NaN</td>\n",
       "      <td>10.0</td>\n",
       "      <td>6550.0</td>\n",
       "      <td>98.0</td>\n",
       "      <td>34.0</td>\n",
       "      <td>11.0</td>\n",
       "      <td>349.0</td>\n",
       "      <td>...</td>\n",
       "      <td>fa0643ee</td>\n",
       "      <td>21ddcdc9</td>\n",
       "      <td>b1252a9d</td>\n",
       "      <td>0094bc78</td>\n",
       "      <td>NaN</td>\n",
       "      <td>32c7478e</td>\n",
       "      <td>29ece3ed</td>\n",
       "      <td>001f3601</td>\n",
       "      <td>402185f3</td>\n",
       "      <td>85</td>\n",
       "    </tr>\n",
       "  </tbody>\n",
       "</table>\n",
       "<p>5 rows × 41 columns</p>\n",
       "</div>"
      ],
      "text/plain": [
       "   C0    C1   C2    C3    C4      C5    C6    C7    C8     C9  ...       C31  \\\n",
       "0   1   0.0   -1   NaN   NaN  1465.0   0.0  17.0   0.0    4.0  ...  e5f8f18f   \n",
       "1   1   0.0    1  20.0  16.0  1548.0  93.0  42.0  32.0  912.0  ...  1f868fdd   \n",
       "2   0   8.0    0  15.0  20.0   115.0  24.0   8.0  23.0   24.0  ...  1304f63b   \n",
       "3   1  88.0  319   NaN   4.0     5.0   4.0  89.0  40.0   88.0  ...  bbf70d82   \n",
       "4   0   0.0   53   NaN  10.0  6550.0  98.0  34.0  11.0  349.0  ...  fa0643ee   \n",
       "\n",
       "        C32       C33       C34  C35       C36       C37       C38       C39  \\\n",
       "0       NaN       NaN  f3ddd519  NaN  32c7478e  b34f3128       NaN       NaN   \n",
       "1  21ddcdc9  a458ea53  7eee76d1  NaN  32c7478e  9af06ad9  9d93af03  cdfe5ab7   \n",
       "2  21ddcdc9  b1252a9d  07b2853e  NaN  32c7478e  94bde4f2  010f6491  09b76f8d   \n",
       "3       NaN       NaN  16e2e3b3  NaN  32c7478e  d859b4dd       NaN       NaN   \n",
       "4  21ddcdc9  b1252a9d  0094bc78  NaN  32c7478e  29ece3ed  001f3601  402185f3   \n",
       "\n",
       "   ID  \n",
       "0  12  \n",
       "1  26  \n",
       "2  39  \n",
       "3  41  \n",
       "4  85  \n",
       "\n",
       "[5 rows x 41 columns]"
      ]
     },
     "execution_count": 8,
     "metadata": {},
     "output_type": "execute_result"
    }
   ],
   "source": [
    "train.head()"
   ]
  },
  {
   "cell_type": "code",
   "execution_count": 9,
   "metadata": {},
   "outputs": [
    {
     "data": {
      "text/plain": [
       "(13, 26)"
      ]
     },
     "execution_count": 9,
     "metadata": {},
     "output_type": "execute_result"
    }
   ],
   "source": [
    "num_columns = ['C{}'.format(i) for i in range(1, 14)]\n",
    "cat_columns = ['C{}'.format(i) for i in range(14, 40)]\n",
    "target = ['C0']\n",
    "len(num_columns), len(cat_columns)"
   ]
  },
  {
   "cell_type": "code",
   "execution_count": 10,
   "metadata": {},
   "outputs": [],
   "source": [
    "X, y = train.drop(columns=['C0', 'ID']), train['C0']"
   ]
  },
  {
   "cell_type": "markdown",
   "metadata": {},
   "source": [
    "# Data preprocessing"
   ]
  },
  {
   "cell_type": "code",
   "execution_count": 11,
   "metadata": {},
   "outputs": [],
   "source": [
    "X[num_columns] = X[num_columns].fillna(0)\n",
    "X[cat_columns] = X[cat_columns].fillna('-1')"
   ]
  },
  {
   "cell_type": "code",
   "execution_count": 12,
   "metadata": {},
   "outputs": [],
   "source": [
    "from sklearn.preprocessing import MinMaxScaler"
   ]
  },
  {
   "cell_type": "code",
   "execution_count": 13,
   "metadata": {},
   "outputs": [],
   "source": [
    "X_encoded = X.copy()"
   ]
  },
  {
   "cell_type": "code",
   "execution_count": 14,
   "metadata": {},
   "outputs": [],
   "source": [
    "mms = MinMaxScaler(feature_range=(0, 1))"
   ]
  },
  {
   "cell_type": "code",
   "execution_count": 15,
   "metadata": {},
   "outputs": [],
   "source": [
    "X_encoded[num_columns] = mms.fit_transform(X_encoded[num_columns])"
   ]
  },
  {
   "cell_type": "code",
   "execution_count": 16,
   "metadata": {},
   "outputs": [],
   "source": [
    "X_train_encoded, X_valid_encoded, y_train, y_valid = train_test_split(X_encoded, y, stratify=y, random_state=SEED)"
   ]
  },
  {
   "cell_type": "code",
   "execution_count": 17,
   "metadata": {},
   "outputs": [
    {
     "data": {
      "text/html": [
       "<div>\n",
       "<style scoped>\n",
       "    .dataframe tbody tr th:only-of-type {\n",
       "        vertical-align: middle;\n",
       "    }\n",
       "\n",
       "    .dataframe tbody tr th {\n",
       "        vertical-align: top;\n",
       "    }\n",
       "\n",
       "    .dataframe thead th {\n",
       "        text-align: right;\n",
       "    }\n",
       "</style>\n",
       "<table border=\"1\" class=\"dataframe\">\n",
       "  <thead>\n",
       "    <tr style=\"text-align: right;\">\n",
       "      <th></th>\n",
       "      <th>C1</th>\n",
       "      <th>C2</th>\n",
       "      <th>C3</th>\n",
       "      <th>C4</th>\n",
       "      <th>C5</th>\n",
       "      <th>C6</th>\n",
       "      <th>C7</th>\n",
       "      <th>C8</th>\n",
       "      <th>C9</th>\n",
       "      <th>C10</th>\n",
       "      <th>...</th>\n",
       "      <th>C30</th>\n",
       "      <th>C31</th>\n",
       "      <th>C32</th>\n",
       "      <th>C33</th>\n",
       "      <th>C34</th>\n",
       "      <th>C35</th>\n",
       "      <th>C36</th>\n",
       "      <th>C37</th>\n",
       "      <th>C38</th>\n",
       "      <th>C39</th>\n",
       "    </tr>\n",
       "  </thead>\n",
       "  <tbody>\n",
       "    <tr>\n",
       "      <th>597429</th>\n",
       "      <td>0.000000</td>\n",
       "      <td>0.033123</td>\n",
       "      <td>0.000427</td>\n",
       "      <td>0.000000</td>\n",
       "      <td>5.553482e-04</td>\n",
       "      <td>0.000669</td>\n",
       "      <td>0.000202</td>\n",
       "      <td>0.004752</td>\n",
       "      <td>0.001966</td>\n",
       "      <td>0.000000</td>\n",
       "      <td>...</td>\n",
       "      <td>07c540c4</td>\n",
       "      <td>561cabfe</td>\n",
       "      <td>21ddcdc9</td>\n",
       "      <td>5840adea</td>\n",
       "      <td>a466b525</td>\n",
       "      <td>-1</td>\n",
       "      <td>32c7478e</td>\n",
       "      <td>9b18ad04</td>\n",
       "      <td>7a402766</td>\n",
       "      <td>c338ef12</td>\n",
       "    </tr>\n",
       "    <tr>\n",
       "      <th>1768963</th>\n",
       "      <td>0.000000</td>\n",
       "      <td>0.000136</td>\n",
       "      <td>0.000412</td>\n",
       "      <td>0.021665</td>\n",
       "      <td>5.553482e-04</td>\n",
       "      <td>0.002609</td>\n",
       "      <td>0.000101</td>\n",
       "      <td>0.005741</td>\n",
       "      <td>0.004450</td>\n",
       "      <td>0.000000</td>\n",
       "      <td>...</td>\n",
       "      <td>d4bb7bd8</td>\n",
       "      <td>13145934</td>\n",
       "      <td>55dd3565</td>\n",
       "      <td>a458ea53</td>\n",
       "      <td>07256a82</td>\n",
       "      <td>-1</td>\n",
       "      <td>3a171ecb</td>\n",
       "      <td>75c8ca05</td>\n",
       "      <td>f0f449dd</td>\n",
       "      <td>d21d0b82</td>\n",
       "    </tr>\n",
       "    <tr>\n",
       "      <th>1913948</th>\n",
       "      <td>0.000000</td>\n",
       "      <td>0.000861</td>\n",
       "      <td>0.000137</td>\n",
       "      <td>0.007982</td>\n",
       "      <td>8.473158e-04</td>\n",
       "      <td>0.000129</td>\n",
       "      <td>0.003737</td>\n",
       "      <td>0.001386</td>\n",
       "      <td>0.002949</td>\n",
       "      <td>0.000000</td>\n",
       "      <td>...</td>\n",
       "      <td>e5ba7672</td>\n",
       "      <td>cc0b0790</td>\n",
       "      <td>712d530c</td>\n",
       "      <td>b1252a9d</td>\n",
       "      <td>9453aa3a</td>\n",
       "      <td>-1</td>\n",
       "      <td>c7dc6720</td>\n",
       "      <td>7e99499d</td>\n",
       "      <td>010f6491</td>\n",
       "      <td>bd422f81</td>\n",
       "    </tr>\n",
       "    <tr>\n",
       "      <th>266546</th>\n",
       "      <td>0.000000</td>\n",
       "      <td>0.000181</td>\n",
       "      <td>0.000076</td>\n",
       "      <td>0.007982</td>\n",
       "      <td>2.668111e-06</td>\n",
       "      <td>0.000000</td>\n",
       "      <td>0.000000</td>\n",
       "      <td>0.001782</td>\n",
       "      <td>0.000362</td>\n",
       "      <td>0.000000</td>\n",
       "      <td>...</td>\n",
       "      <td>1e88c74f</td>\n",
       "      <td>6fc84bfb</td>\n",
       "      <td>-1</td>\n",
       "      <td>-1</td>\n",
       "      <td>4f1aa25f</td>\n",
       "      <td>c9d4222a</td>\n",
       "      <td>be7c41b4</td>\n",
       "      <td>ded4aac9</td>\n",
       "      <td>-1</td>\n",
       "      <td>-1</td>\n",
       "    </tr>\n",
       "    <tr>\n",
       "      <th>800178</th>\n",
       "      <td>0.000519</td>\n",
       "      <td>0.000181</td>\n",
       "      <td>0.000031</td>\n",
       "      <td>0.000000</td>\n",
       "      <td>7.623174e-07</td>\n",
       "      <td>0.000000</td>\n",
       "      <td>0.000303</td>\n",
       "      <td>0.000198</td>\n",
       "      <td>0.000052</td>\n",
       "      <td>0.222222</td>\n",
       "      <td>...</td>\n",
       "      <td>e5ba7672</td>\n",
       "      <td>7ef5affa</td>\n",
       "      <td>3014a4b1</td>\n",
       "      <td>b1252a9d</td>\n",
       "      <td>f8ffd97a</td>\n",
       "      <td>-1</td>\n",
       "      <td>32c7478e</td>\n",
       "      <td>08abcea9</td>\n",
       "      <td>001f3601</td>\n",
       "      <td>50f8fc74</td>\n",
       "    </tr>\n",
       "  </tbody>\n",
       "</table>\n",
       "<p>5 rows × 39 columns</p>\n",
       "</div>"
      ],
      "text/plain": [
       "               C1        C2        C3        C4            C5        C6  \\\n",
       "597429   0.000000  0.033123  0.000427  0.000000  5.553482e-04  0.000669   \n",
       "1768963  0.000000  0.000136  0.000412  0.021665  5.553482e-04  0.002609   \n",
       "1913948  0.000000  0.000861  0.000137  0.007982  8.473158e-04  0.000129   \n",
       "266546   0.000000  0.000181  0.000076  0.007982  2.668111e-06  0.000000   \n",
       "800178   0.000519  0.000181  0.000031  0.000000  7.623174e-07  0.000000   \n",
       "\n",
       "               C7        C8        C9       C10  ...       C30       C31  \\\n",
       "597429   0.000202  0.004752  0.001966  0.000000  ...  07c540c4  561cabfe   \n",
       "1768963  0.000101  0.005741  0.004450  0.000000  ...  d4bb7bd8  13145934   \n",
       "1913948  0.003737  0.001386  0.002949  0.000000  ...  e5ba7672  cc0b0790   \n",
       "266546   0.000000  0.001782  0.000362  0.000000  ...  1e88c74f  6fc84bfb   \n",
       "800178   0.000303  0.000198  0.000052  0.222222  ...  e5ba7672  7ef5affa   \n",
       "\n",
       "              C32       C33       C34       C35       C36       C37       C38  \\\n",
       "597429   21ddcdc9  5840adea  a466b525        -1  32c7478e  9b18ad04  7a402766   \n",
       "1768963  55dd3565  a458ea53  07256a82        -1  3a171ecb  75c8ca05  f0f449dd   \n",
       "1913948  712d530c  b1252a9d  9453aa3a        -1  c7dc6720  7e99499d  010f6491   \n",
       "266546         -1        -1  4f1aa25f  c9d4222a  be7c41b4  ded4aac9        -1   \n",
       "800178   3014a4b1  b1252a9d  f8ffd97a        -1  32c7478e  08abcea9  001f3601   \n",
       "\n",
       "              C39  \n",
       "597429   c338ef12  \n",
       "1768963  d21d0b82  \n",
       "1913948  bd422f81  \n",
       "266546         -1  \n",
       "800178   50f8fc74  \n",
       "\n",
       "[5 rows x 39 columns]"
      ]
     },
     "execution_count": 17,
     "metadata": {},
     "output_type": "execute_result"
    }
   ],
   "source": [
    "X_train_encoded.head()"
   ]
  },
  {
   "cell_type": "code",
   "execution_count": 18,
   "metadata": {},
   "outputs": [
    {
     "name": "stdout",
     "output_type": "stream",
     "text": [
      "WARNING:tensorflow:From C:\\Anaconda3\\envs\\tf_fibi\\lib\\site-packages\\tensorflow_core\\python\\keras\\initializers.py:143: calling RandomNormal.__init__ (from tensorflow.python.ops.init_ops) with dtype is deprecated and will be removed in a future version.\n",
      "Instructions for updating:\n",
      "Call initializer instance with the dtype argument instead of passing it to the constructor\n"
     ]
    }
   ],
   "source": [
    "# sparse_features = [SparseFeat(feat, X_encoded[feat].nunique() + 1) for feat in cat_columns]\n",
    "# or using hashing\n",
    "sparse_features = [SparseFeat(feat, vocabulary_size=1000, embedding_dim=4, use_hash=True, dtype='string')  for feat in cat_columns]\n",
    "dense_features = [DenseFeat(feat, 1) for feat in num_columns]"
   ]
  },
  {
   "cell_type": "code",
   "execution_count": 19,
   "metadata": {},
   "outputs": [],
   "source": [
    "fixlen_feature_columns = sparse_features + dense_features"
   ]
  },
  {
   "cell_type": "code",
   "execution_count": 20,
   "metadata": {},
   "outputs": [],
   "source": [
    "linear_feature_columns = fixlen_feature_columns\n",
    "dnn_feature_columns = fixlen_feature_columns\n",
    "feature_names = get_feature_names(linear_feature_columns + dnn_feature_columns)"
   ]
  },
  {
   "cell_type": "code",
   "execution_count": 21,
   "metadata": {},
   "outputs": [],
   "source": [
    "train_model_input = {name:X_train_encoded[name] for name in feature_names}"
   ]
  },
  {
   "cell_type": "code",
   "execution_count": 22,
   "metadata": {},
   "outputs": [],
   "source": [
    "test_model_input = {name:X_valid_encoded[name] for name in feature_names}"
   ]
  },
  {
   "cell_type": "markdown",
   "metadata": {},
   "source": [
    "# Model training"
   ]
  },
  {
   "cell_type": "code",
   "execution_count": 23,
   "metadata": {},
   "outputs": [],
   "source": [
    "from deepctr.models import DeepFM, CCPM, PNN, WDL, MLR, NFM, AFM, DCN, xDeepFM, AutoInt, ONN, FiBiNET\n",
    "from tensorflow.python.keras.callbacks import EarlyStopping, ModelCheckpoint\n",
    "\n",
    "from sklearn.metrics import roc_auc_score, log_loss"
   ]
  },
  {
   "cell_type": "code",
   "execution_count": 24,
   "metadata": {},
   "outputs": [],
   "source": [
    "def get_metrics(groups) -> pd.DataFrame:\n",
    "    metrics =  pd.DataFrame.from_records(groups, columns=groups.keys(), index=list(all_metrics.values())[0].keys())\n",
    "    metrics.index.name = 'metric'\n",
    "    return metrics\n",
    "\n",
    "def get_ate(groups, control_name) -> pd.DataFrame:\n",
    "    \"\"\"Get Average Treatment Effect\n",
    "    groups - dictionary where keys - names of models, values - dicts of pairs <metric_name>, <metric_value>\n",
    "    control_name - name of baseline model\n",
    "    \n",
    "    return pd.DataFrame (rows corresponds to metrics, cols corresponds to models and ATE with respect to control)\n",
    "    \"\"\"\n",
    "    metrics = get_metrics(groups)\n",
    "    return metrics.subtract(metrics[control_name], axis='index').drop(columns=control_name) * 100\n",
    "\n",
    "\n",
    "all_metrics = {}"
   ]
  },
  {
   "cell_type": "code",
   "execution_count": 25,
   "metadata": {},
   "outputs": [],
   "source": [
    "def test_model(model, train_model_input, test_model_input, y_train, y_valid, batch_size=4096 * 2, model_name='model'):\n",
    "    checkpoint_path = f'models/criteo/{model_name}'\n",
    "    os.makedirs(checkpoint_path, exist_ok=True)\n",
    "    checkpoint_path += '/model.ckpt'\n",
    "    \n",
    "    model.compile(\"adam\", \"binary_crossentropy\",\n",
    "              metrics=[\"binary_crossentropy\", tf.keras.metrics.AUC()])\n",
    "    \n",
    "    es = EarlyStopping(monitor='val_auc', verbose=1, patience=2, mode='max')\n",
    "    mdckpt = ModelCheckpoint(filepath=checkpoint_path, monitor='val_auc', mode='max', save_best_only=True, save_weights_only=True)\n",
    "    \n",
    "    history = model.fit(train_model_input, y_train,\n",
    "                        batch_size=batch_size, epochs=15, verbose=2, validation_split=0.2, callbacks=[es, mdckpt])\n",
    "    \n",
    "    model.load_weights(checkpoint_path)\n",
    "    \n",
    "    y_valid_predicted = model.predict(test_model_input, batch_size=batch_size).squeeze()\n",
    "    \n",
    "    scores = {\n",
    "        'roc-auc': roc_auc_score(y_valid, y_valid_predicted),\n",
    "        'log-loss': log_loss(y_valid, y_valid_predicted)        \n",
    "    }\n",
    "    del model\n",
    "    tf.keras.backend.clear_session()\n",
    "    return scores"
   ]
  },
  {
   "cell_type": "markdown",
   "metadata": {},
   "source": [
    "## CCPM (Convolutional Click Prediction Model)\n",
    "<img src=\"https://deepctr-torch.readthedocs.io/en/latest/_images/CCPM.png\" alt=\"drawing\" width=\"900\"/>"
   ]
  },
  {
   "cell_type": "code",
   "execution_count": 26,
   "metadata": {
    "scrolled": true
   },
   "outputs": [
    {
     "name": "stdout",
     "output_type": "stream",
     "text": [
      "WARNING:tensorflow:From C:\\Anaconda3\\envs\\tf_fibi\\lib\\site-packages\\tensorflow_core\\python\\autograph\\converters\\directives.py:119: The name tf.string_to_hash_bucket_fast is deprecated. Please use tf.strings.to_hash_bucket_fast instead.\n",
      "\n",
      "WARNING:tensorflow:From C:\\Anaconda3\\envs\\tf_fibi\\lib\\site-packages\\tensorflow_core\\python\\ops\\resource_variable_ops.py:1630: calling BaseResourceVariable.__init__ (from tensorflow.python.ops.resource_variable_ops) with constraint is deprecated and will be removed in a future version.\n",
      "Instructions for updating:\n",
      "If using Keras pass *_constraint arguments to layers.\n",
      "WARNING:tensorflow:From C:\\Anaconda3\\envs\\tf_fibi\\lib\\site-packages\\deepctr\\layers\\utils.py:167: calling reduce_sum_v1 (from tensorflow.python.ops.math_ops) with keep_dims is deprecated and will be removed in a future version.\n",
      "Instructions for updating:\n",
      "keep_dims is deprecated, use keepdims instead\n"
     ]
    }
   ],
   "source": [
    "ccpm_model = CCPM(linear_feature_columns, sparse_features, dnn_dropout=0.5)"
   ]
  },
  {
   "cell_type": "code",
   "execution_count": 27,
   "metadata": {},
   "outputs": [
    {
     "name": "stdout",
     "output_type": "stream",
     "text": [
      "WARNING:tensorflow:From C:\\Anaconda3\\envs\\tf_fibi\\lib\\site-packages\\tensorflow_core\\python\\ops\\math_grad.py:1424: where (from tensorflow.python.ops.array_ops) is deprecated and will be removed in a future version.\n",
      "Instructions for updating:\n",
      "Use tf.where in 2.0, which has the same broadcast rule as np.where\n",
      "Train on 2198958 samples, validate on 549740 samples\n",
      "Epoch 1/15\n",
      "2198958/2198958 - 115s - loss: 0.5258 - binary_crossentropy: 0.5253 - auc: 0.6881 - val_loss: 0.4997 - val_binary_crossentropy: 0.4989 - val_auc: 0.7366\n",
      "Epoch 2/15\n",
      "2198958/2198958 - 111s - loss: 0.4949 - binary_crossentropy: 0.4938 - auc: 0.7430 - val_loss: 0.4962 - val_binary_crossentropy: 0.4951 - val_auc: 0.7422\n",
      "Epoch 3/15\n",
      "2198958/2198958 - 112s - loss: 0.4909 - binary_crossentropy: 0.4896 - auc: 0.7493 - val_loss: 0.4948 - val_binary_crossentropy: 0.4934 - val_auc: 0.7449\n",
      "Epoch 4/15\n",
      "2198958/2198958 - 112s - loss: 0.4880 - binary_crossentropy: 0.4865 - auc: 0.7538 - val_loss: 0.4936 - val_binary_crossentropy: 0.4920 - val_auc: 0.7472\n",
      "Epoch 5/15\n",
      "2198958/2198958 - 113s - loss: 0.4853 - binary_crossentropy: 0.4836 - auc: 0.7579 - val_loss: 0.4927 - val_binary_crossentropy: 0.4908 - val_auc: 0.7487\n",
      "Epoch 6/15\n",
      "2198958/2198958 - 111s - loss: 0.4830 - binary_crossentropy: 0.4811 - auc: 0.7614 - val_loss: 0.4926 - val_binary_crossentropy: 0.4905 - val_auc: 0.7498\n",
      "Epoch 7/15\n",
      "2198958/2198958 - 111s - loss: 0.4807 - binary_crossentropy: 0.4785 - auc: 0.7651 - val_loss: 0.4925 - val_binary_crossentropy: 0.4902 - val_auc: 0.7501\n",
      "Epoch 8/15\n",
      "2198958/2198958 - 111s - loss: 0.4786 - binary_crossentropy: 0.4762 - auc: 0.7684 - val_loss: 0.4927 - val_binary_crossentropy: 0.4901 - val_auc: 0.7504\n",
      "Epoch 9/15\n",
      "2198958/2198958 - 112s - loss: 0.4767 - binary_crossentropy: 0.4740 - auc: 0.7714 - val_loss: 0.4926 - val_binary_crossentropy: 0.4898 - val_auc: 0.7506\n",
      "Epoch 10/15\n",
      "2198958/2198958 - 112s - loss: 0.4751 - binary_crossentropy: 0.4721 - auc: 0.7740 - val_loss: 0.4932 - val_binary_crossentropy: 0.4902 - val_auc: 0.7503\n",
      "Epoch 11/15\n",
      "2198958/2198958 - 112s - loss: 0.4737 - binary_crossentropy: 0.4705 - auc: 0.7761 - val_loss: 0.4938 - val_binary_crossentropy: 0.4905 - val_auc: 0.7500\n",
      "Epoch 00011: early stopping\n"
     ]
    }
   ],
   "source": [
    "all_metrics['CCPM'] = test_model(ccpm_model, train_model_input, test_model_input, y_train.values, y_valid, model_name='CCPM')"
   ]
  },
  {
   "cell_type": "markdown",
   "metadata": {},
   "source": [
    "## PNN (Product-based Neural Network)\n",
    "<!-- ![pic](https://deepctr-torch.readthedocs.io/en/latest/_images/PNN.png) -->\n",
    "<img src=\"https://deepctr-torch.readthedocs.io/en/latest/_images/PNN.png\" alt=\"drawing\" width=\"900\"/>"
   ]
  },
  {
   "cell_type": "code",
   "execution_count": 28,
   "metadata": {},
   "outputs": [],
   "source": [
    "pnn_model = PNN(dnn_feature_columns, dnn_dropout=0.5)"
   ]
  },
  {
   "cell_type": "code",
   "execution_count": 29,
   "metadata": {},
   "outputs": [
    {
     "name": "stdout",
     "output_type": "stream",
     "text": [
      "Train on 2198958 samples, validate on 549740 samples\n",
      "Epoch 1/15\n",
      "2198958/2198958 - 27s - loss: 0.5152 - binary_crossentropy: 0.5149 - auc: 0.7082 - val_loss: 0.4863 - val_binary_crossentropy: 0.4859 - val_auc: 0.7568\n",
      "Epoch 2/15\n",
      "2198958/2198958 - 26s - loss: 0.4830 - binary_crossentropy: 0.4825 - auc: 0.7608 - val_loss: 0.4790 - val_binary_crossentropy: 0.4784 - val_auc: 0.7673\n",
      "Epoch 3/15\n",
      "2198958/2198958 - 26s - loss: 0.4764 - binary_crossentropy: 0.4756 - auc: 0.7701 - val_loss: 0.4762 - val_binary_crossentropy: 0.4754 - val_auc: 0.7715\n",
      "Epoch 4/15\n",
      "2198958/2198958 - 26s - loss: 0.4719 - binary_crossentropy: 0.4710 - auc: 0.7763 - val_loss: 0.4753 - val_binary_crossentropy: 0.4742 - val_auc: 0.7733\n",
      "Epoch 5/15\n",
      "2198958/2198958 - 26s - loss: 0.4686 - binary_crossentropy: 0.4674 - auc: 0.7808 - val_loss: 0.4745 - val_binary_crossentropy: 0.4733 - val_auc: 0.7739\n",
      "Epoch 6/15\n",
      "2198958/2198958 - 26s - loss: 0.4659 - binary_crossentropy: 0.4646 - auc: 0.7842 - val_loss: 0.4751 - val_binary_crossentropy: 0.4737 - val_auc: 0.7742\n",
      "Epoch 7/15\n",
      "2198958/2198958 - 26s - loss: 0.4638 - binary_crossentropy: 0.4624 - auc: 0.7871 - val_loss: 0.4751 - val_binary_crossentropy: 0.4736 - val_auc: 0.7740\n",
      "Epoch 8/15\n",
      "2198958/2198958 - 26s - loss: 0.4622 - binary_crossentropy: 0.4606 - auc: 0.7893 - val_loss: 0.4755 - val_binary_crossentropy: 0.4738 - val_auc: 0.7736\n",
      "Epoch 00008: early stopping\n"
     ]
    }
   ],
   "source": [
    "all_metrics['PNN'] = test_model(pnn_model, train_model_input, test_model_input, y_train.values, y_valid,  model_name='PNN')"
   ]
  },
  {
   "cell_type": "markdown",
   "metadata": {},
   "source": [
    "## Wide & Deep\n",
    "<!-- ![pic](https://deepctr-torch.readthedocs.io/en/latest/_images/WDL.png) -->\n",
    "<img src=\"https://deepctr-torch.readthedocs.io/en/latest/_images/WDL.png\" alt=\"drawing\" width=\"900\"/>"
   ]
  },
  {
   "cell_type": "code",
   "execution_count": 30,
   "metadata": {},
   "outputs": [],
   "source": [
    "wdl_model = WDL(linear_feature_columns, dnn_feature_columns, dnn_dropout=0.5)"
   ]
  },
  {
   "cell_type": "code",
   "execution_count": 31,
   "metadata": {},
   "outputs": [
    {
     "name": "stdout",
     "output_type": "stream",
     "text": [
      "Train on 2198958 samples, validate on 549740 samples\n",
      "Epoch 1/15\n",
      "2198958/2198958 - 25s - loss: 0.5096 - binary_crossentropy: 0.5093 - auc: 0.7176 - val_loss: 0.4855 - val_binary_crossentropy: 0.4851 - val_auc: 0.7580\n",
      "Epoch 2/15\n",
      "2198958/2198958 - 24s - loss: 0.4824 - binary_crossentropy: 0.4818 - auc: 0.7619 - val_loss: 0.4802 - val_binary_crossentropy: 0.4795 - val_auc: 0.7657\n",
      "Epoch 3/15\n",
      "2198958/2198958 - 24s - loss: 0.4776 - binary_crossentropy: 0.4768 - auc: 0.7685 - val_loss: 0.4778 - val_binary_crossentropy: 0.4769 - val_auc: 0.7692\n",
      "Epoch 4/15\n",
      "2198958/2198958 - 24s - loss: 0.4744 - binary_crossentropy: 0.4734 - auc: 0.7731 - val_loss: 0.4766 - val_binary_crossentropy: 0.4755 - val_auc: 0.7711\n",
      "Epoch 5/15\n",
      "2198958/2198958 - 25s - loss: 0.4719 - binary_crossentropy: 0.4708 - auc: 0.7764 - val_loss: 0.4760 - val_binary_crossentropy: 0.4748 - val_auc: 0.7723\n",
      "Epoch 6/15\n",
      "2198958/2198958 - 24s - loss: 0.4700 - binary_crossentropy: 0.4686 - auc: 0.7791 - val_loss: 0.4758 - val_binary_crossentropy: 0.4744 - val_auc: 0.7730\n",
      "Epoch 7/15\n",
      "2198958/2198958 - 24s - loss: 0.4682 - binary_crossentropy: 0.4667 - auc: 0.7815 - val_loss: 0.4751 - val_binary_crossentropy: 0.4735 - val_auc: 0.7741\n",
      "Epoch 8/15\n",
      "2198958/2198958 - 24s - loss: 0.4668 - binary_crossentropy: 0.4652 - auc: 0.7835 - val_loss: 0.4745 - val_binary_crossentropy: 0.4728 - val_auc: 0.7746\n",
      "Epoch 9/15\n",
      "2198958/2198958 - 24s - loss: 0.4654 - binary_crossentropy: 0.4637 - auc: 0.7853 - val_loss: 0.4750 - val_binary_crossentropy: 0.4732 - val_auc: 0.7744\n",
      "Epoch 10/15\n",
      "2198958/2198958 - 24s - loss: 0.4645 - binary_crossentropy: 0.4626 - auc: 0.7866 - val_loss: 0.4746 - val_binary_crossentropy: 0.4727 - val_auc: 0.7747\n",
      "Epoch 11/15\n",
      "2198958/2198958 - 24s - loss: 0.4636 - binary_crossentropy: 0.4616 - auc: 0.7878 - val_loss: 0.4750 - val_binary_crossentropy: 0.4729 - val_auc: 0.7748\n",
      "Epoch 12/15\n",
      "2198958/2198958 - 24s - loss: 0.4629 - binary_crossentropy: 0.4607 - auc: 0.7889 - val_loss: 0.4749 - val_binary_crossentropy: 0.4727 - val_auc: 0.7752\n",
      "Epoch 13/15\n",
      "2198958/2198958 - 24s - loss: 0.4621 - binary_crossentropy: 0.4599 - auc: 0.7899 - val_loss: 0.4754 - val_binary_crossentropy: 0.4731 - val_auc: 0.7746\n",
      "Epoch 14/15\n",
      "2198958/2198958 - 24s - loss: 0.4615 - binary_crossentropy: 0.4592 - auc: 0.7908 - val_loss: 0.4753 - val_binary_crossentropy: 0.4730 - val_auc: 0.7748\n",
      "Epoch 00014: early stopping\n"
     ]
    }
   ],
   "source": [
    "all_metrics['WDL'] = test_model(wdl_model, train_model_input, test_model_input, y_train.values, y_valid, model_name='WDL')"
   ]
  },
  {
   "cell_type": "markdown",
   "metadata": {},
   "source": [
    "## DeepFM\n",
    "<img src=\"https://deepctr-torch.readthedocs.io/en/latest/_images/DeepFM.png\" alt=\"drawing\" width=\"900\"/>"
   ]
  },
  {
   "cell_type": "code",
   "execution_count": 32,
   "metadata": {
    "scrolled": true
   },
   "outputs": [],
   "source": [
    "deep_fm_model = DeepFM(linear_feature_columns, dnn_feature_columns, dnn_dropout=0.5)"
   ]
  },
  {
   "cell_type": "code",
   "execution_count": 33,
   "metadata": {},
   "outputs": [
    {
     "name": "stdout",
     "output_type": "stream",
     "text": [
      "Train on 2198958 samples, validate on 549740 samples\n",
      "Epoch 1/15\n",
      "2198958/2198958 - 26s - loss: 0.5095 - binary_crossentropy: 0.5092 - auc: 0.7176 - val_loss: 0.4854 - val_binary_crossentropy: 0.4850 - val_auc: 0.7581\n",
      "Epoch 2/15\n",
      "2198958/2198958 - 24s - loss: 0.4822 - binary_crossentropy: 0.4816 - auc: 0.7620 - val_loss: 0.4802 - val_binary_crossentropy: 0.4795 - val_auc: 0.7658\n",
      "Epoch 3/15\n",
      "2198958/2198958 - 24s - loss: 0.4772 - binary_crossentropy: 0.4764 - auc: 0.7689 - val_loss: 0.4779 - val_binary_crossentropy: 0.4770 - val_auc: 0.7691\n",
      "Epoch 4/15\n",
      "2198958/2198958 - 24s - loss: 0.4742 - binary_crossentropy: 0.4732 - auc: 0.7732 - val_loss: 0.4766 - val_binary_crossentropy: 0.4755 - val_auc: 0.7709\n",
      "Epoch 5/15\n",
      "2198958/2198958 - 25s - loss: 0.4718 - binary_crossentropy: 0.4706 - auc: 0.7767 - val_loss: 0.4763 - val_binary_crossentropy: 0.4751 - val_auc: 0.7726\n",
      "Epoch 6/15\n",
      "2198958/2198958 - 25s - loss: 0.4699 - binary_crossentropy: 0.4685 - auc: 0.7793 - val_loss: 0.4751 - val_binary_crossentropy: 0.4737 - val_auc: 0.7735\n",
      "Epoch 7/15\n",
      "2198958/2198958 - 25s - loss: 0.4682 - binary_crossentropy: 0.4667 - auc: 0.7816 - val_loss: 0.4746 - val_binary_crossentropy: 0.4730 - val_auc: 0.7745\n",
      "Epoch 8/15\n",
      "2198958/2198958 - 24s - loss: 0.4668 - binary_crossentropy: 0.4652 - auc: 0.7835 - val_loss: 0.4745 - val_binary_crossentropy: 0.4728 - val_auc: 0.7747\n",
      "Epoch 9/15\n",
      "2198958/2198958 - 24s - loss: 0.4657 - binary_crossentropy: 0.4639 - auc: 0.7851 - val_loss: 0.4745 - val_binary_crossentropy: 0.4727 - val_auc: 0.7750\n",
      "Epoch 10/15\n",
      "2198958/2198958 - 24s - loss: 0.4646 - binary_crossentropy: 0.4627 - auc: 0.7866 - val_loss: 0.4744 - val_binary_crossentropy: 0.4724 - val_auc: 0.7753\n",
      "Epoch 11/15\n",
      "2198958/2198958 - 24s - loss: 0.4636 - binary_crossentropy: 0.4616 - auc: 0.7879 - val_loss: 0.4745 - val_binary_crossentropy: 0.4724 - val_auc: 0.7756\n",
      "Epoch 12/15\n",
      "2198958/2198958 - 24s - loss: 0.4628 - binary_crossentropy: 0.4606 - auc: 0.7891 - val_loss: 0.4747 - val_binary_crossentropy: 0.4724 - val_auc: 0.7756\n",
      "Epoch 13/15\n",
      "2198958/2198958 - 24s - loss: 0.4620 - binary_crossentropy: 0.4598 - auc: 0.7901 - val_loss: 0.4747 - val_binary_crossentropy: 0.4724 - val_auc: 0.7756\n",
      "Epoch 00013: early stopping\n"
     ]
    }
   ],
   "source": [
    "all_metrics['DeepFM'] = test_model(deep_fm_model, train_model_input, test_model_input, y_train.values, y_valid, model_name='DeepFM')"
   ]
  },
  {
   "cell_type": "markdown",
   "metadata": {},
   "source": [
    "## MLR(Mixed Logistic Regression/Piece-wise Linear Model)\n",
    "<img src=\"https://deepctr-torch.readthedocs.io/en/latest/_images/MLR.png\" alt=\"drawing\" width=\"900\"/>"
   ]
  },
  {
   "cell_type": "code",
   "execution_count": 34,
   "metadata": {},
   "outputs": [],
   "source": [
    "mlr_model = MLR(linear_feature_columns, dnn_feature_columns)"
   ]
  },
  {
   "cell_type": "code",
   "execution_count": 35,
   "metadata": {},
   "outputs": [
    {
     "name": "stdout",
     "output_type": "stream",
     "text": [
      "Train on 2198958 samples, validate on 549740 samples\n",
      "Epoch 1/15\n",
      "2198958/2198958 - 31s - loss: 0.5371 - binary_crossentropy: 0.5359 - auc: 0.6695 - val_loss: 0.5047 - val_binary_crossentropy: 0.5026 - val_auc: 0.7321\n",
      "Epoch 2/15\n",
      "2198958/2198958 - 28s - loss: 0.4976 - binary_crossentropy: 0.4950 - auc: 0.7420 - val_loss: 0.4979 - val_binary_crossentropy: 0.4950 - val_auc: 0.7427\n",
      "Epoch 3/15\n",
      "2198958/2198958 - 28s - loss: 0.4929 - binary_crossentropy: 0.4898 - auc: 0.7496 - val_loss: 0.4958 - val_binary_crossentropy: 0.4926 - val_auc: 0.7464\n",
      "Epoch 4/15\n",
      "2198958/2198958 - 28s - loss: 0.4908 - binary_crossentropy: 0.4874 - auc: 0.7531 - val_loss: 0.4945 - val_binary_crossentropy: 0.4911 - val_auc: 0.7487\n",
      "Epoch 5/15\n",
      "2198958/2198958 - 28s - loss: 0.4895 - binary_crossentropy: 0.4859 - auc: 0.7553 - val_loss: 0.4937 - val_binary_crossentropy: 0.4901 - val_auc: 0.7500\n",
      "Epoch 6/15\n",
      "2198958/2198958 - 27s - loss: 0.4886 - binary_crossentropy: 0.4849 - auc: 0.7568 - val_loss: 0.4931 - val_binary_crossentropy: 0.4894 - val_auc: 0.7513\n",
      "Epoch 7/15\n",
      "2198958/2198958 - 27s - loss: 0.4879 - binary_crossentropy: 0.4842 - auc: 0.7579 - val_loss: 0.4926 - val_binary_crossentropy: 0.4889 - val_auc: 0.7520\n",
      "Epoch 8/15\n",
      "2198958/2198958 - 27s - loss: 0.4873 - binary_crossentropy: 0.4835 - auc: 0.7588 - val_loss: 0.4922 - val_binary_crossentropy: 0.4884 - val_auc: 0.7527\n",
      "Epoch 9/15\n",
      "2198958/2198958 - 28s - loss: 0.4869 - binary_crossentropy: 0.4830 - auc: 0.7596 - val_loss: 0.4918 - val_binary_crossentropy: 0.4879 - val_auc: 0.7534\n",
      "Epoch 10/15\n",
      "2198958/2198958 - 27s - loss: 0.4865 - binary_crossentropy: 0.4825 - auc: 0.7603 - val_loss: 0.4916 - val_binary_crossentropy: 0.4876 - val_auc: 0.7539\n",
      "Epoch 11/15\n",
      "2198958/2198958 - 28s - loss: 0.4861 - binary_crossentropy: 0.4821 - auc: 0.7609 - val_loss: 0.4914 - val_binary_crossentropy: 0.4873 - val_auc: 0.7544\n",
      "Epoch 12/15\n",
      "2198958/2198958 - 27s - loss: 0.4858 - binary_crossentropy: 0.4817 - auc: 0.7614 - val_loss: 0.4911 - val_binary_crossentropy: 0.4870 - val_auc: 0.7548\n",
      "Epoch 13/15\n",
      "2198958/2198958 - 28s - loss: 0.4856 - binary_crossentropy: 0.4814 - auc: 0.7619 - val_loss: 0.4911 - val_binary_crossentropy: 0.4869 - val_auc: 0.7550\n",
      "Epoch 14/15\n",
      "2198958/2198958 - 28s - loss: 0.4854 - binary_crossentropy: 0.4811 - auc: 0.7623 - val_loss: 0.4908 - val_binary_crossentropy: 0.4865 - val_auc: 0.7555\n",
      "Epoch 15/15\n",
      "2198958/2198958 - 29s - loss: 0.4852 - binary_crossentropy: 0.4808 - auc: 0.7628 - val_loss: 0.4907 - val_binary_crossentropy: 0.4863 - val_auc: 0.7559\n"
     ]
    }
   ],
   "source": [
    "all_metrics['MLR'] = test_model(mlr_model, train_model_input, test_model_input, y_train.values, y_valid, model_name='MLR')"
   ]
  },
  {
   "cell_type": "markdown",
   "metadata": {},
   "source": [
    "## NFM (Neural Factorization Machine)\n",
    "<img src=\"https://deepctr-torch.readthedocs.io/en/latest/_images/NFM.png\" alt=\"drawing\" width=\"900\"/>"
   ]
  },
  {
   "cell_type": "code",
   "execution_count": 36,
   "metadata": {},
   "outputs": [],
   "source": [
    "nfm_model = NFM(linear_feature_columns, dnn_feature_columns, dnn_dropout=0.5)"
   ]
  },
  {
   "cell_type": "code",
   "execution_count": 37,
   "metadata": {},
   "outputs": [
    {
     "name": "stdout",
     "output_type": "stream",
     "text": [
      "Train on 2198958 samples, validate on 549740 samples\n",
      "Epoch 1/15\n",
      "2198958/2198958 - 26s - loss: 0.5117 - binary_crossentropy: 0.5114 - auc: 0.7144 - val_loss: 0.4863 - val_binary_crossentropy: 0.4857 - val_auc: 0.7577\n",
      "Epoch 2/15\n",
      "2198958/2198958 - 25s - loss: 0.4825 - binary_crossentropy: 0.4817 - auc: 0.7622 - val_loss: 0.4816 - val_binary_crossentropy: 0.4808 - val_auc: 0.7650\n",
      "Epoch 3/15\n",
      "2198958/2198958 - 24s - loss: 0.4769 - binary_crossentropy: 0.4759 - auc: 0.7698 - val_loss: 0.4790 - val_binary_crossentropy: 0.4779 - val_auc: 0.7682\n",
      "Epoch 4/15\n",
      "2198958/2198958 - 24s - loss: 0.4727 - binary_crossentropy: 0.4715 - auc: 0.7754 - val_loss: 0.4779 - val_binary_crossentropy: 0.4766 - val_auc: 0.7696\n",
      "Epoch 5/15\n",
      "2198958/2198958 - 24s - loss: 0.4696 - binary_crossentropy: 0.4681 - auc: 0.7796 - val_loss: 0.4781 - val_binary_crossentropy: 0.4765 - val_auc: 0.7699\n",
      "Epoch 6/15\n",
      "2198958/2198958 - 24s - loss: 0.4673 - binary_crossentropy: 0.4657 - auc: 0.7827 - val_loss: 0.4781 - val_binary_crossentropy: 0.4764 - val_auc: 0.7704\n",
      "Epoch 7/15\n",
      "2198958/2198958 - 24s - loss: 0.4654 - binary_crossentropy: 0.4635 - auc: 0.7852 - val_loss: 0.4785 - val_binary_crossentropy: 0.4766 - val_auc: 0.7700\n",
      "Epoch 8/15\n",
      "2198958/2198958 - 24s - loss: 0.4639 - binary_crossentropy: 0.4618 - auc: 0.7872 - val_loss: 0.4783 - val_binary_crossentropy: 0.4761 - val_auc: 0.7706\n",
      "Epoch 9/15\n",
      "2198958/2198958 - 24s - loss: 0.4626 - binary_crossentropy: 0.4604 - auc: 0.7890 - val_loss: 0.4788 - val_binary_crossentropy: 0.4765 - val_auc: 0.7702\n",
      "Epoch 10/15\n",
      "2198958/2198958 - 24s - loss: 0.4614 - binary_crossentropy: 0.4591 - auc: 0.7905 - val_loss: 0.4796 - val_binary_crossentropy: 0.4772 - val_auc: 0.7700\n",
      "Epoch 00010: early stopping\n"
     ]
    }
   ],
   "source": [
    "all_metrics['NFM'] = test_model(nfm_model, train_model_input, test_model_input, y_train.values, y_valid, model_name='NFM')"
   ]
  },
  {
   "cell_type": "markdown",
   "metadata": {},
   "source": [
    "## AFM (Attentional Factorization Machine)\n",
    "<img src=\"https://deepctr-torch.readthedocs.io/en/latest/_images/AFM.png\" alt=\"drawing\" width=\"900\"/>"
   ]
  },
  {
   "cell_type": "code",
   "execution_count": 38,
   "metadata": {},
   "outputs": [
    {
     "name": "stdout",
     "output_type": "stream",
     "text": [
      "WARNING:tensorflow:From C:\\Anaconda3\\envs\\tf_fibi\\lib\\site-packages\\deepctr\\layers\\utils.py:206: calling softmax (from tensorflow.python.ops.nn_ops) with dim is deprecated and will be removed in a future version.\n",
      "Instructions for updating:\n",
      "dim is deprecated, use axis instead\n"
     ]
    }
   ],
   "source": [
    "afm_model = AFM(linear_feature_columns, sparse_features, afm_dropout=0.5)"
   ]
  },
  {
   "cell_type": "code",
   "execution_count": 39,
   "metadata": {},
   "outputs": [
    {
     "name": "stdout",
     "output_type": "stream",
     "text": [
      "Train on 2198958 samples, validate on 549740 samples\n",
      "Epoch 1/15\n",
      "2198958/2198958 - 33s - loss: 0.5468 - binary_crossentropy: 0.5465 - auc: 0.6482 - val_loss: 0.5195 - val_binary_crossentropy: 0.5189 - val_auc: 0.7114\n",
      "Epoch 2/15\n",
      "2198958/2198958 - 32s - loss: 0.5101 - binary_crossentropy: 0.5091 - auc: 0.7236 - val_loss: 0.5069 - val_binary_crossentropy: 0.5057 - val_auc: 0.7273\n",
      "Epoch 3/15\n",
      "2198958/2198958 - 32s - loss: 0.5020 - binary_crossentropy: 0.5006 - auc: 0.7343 - val_loss: 0.5031 - val_binary_crossentropy: 0.5015 - val_auc: 0.7334\n",
      "Epoch 4/15\n",
      "2198958/2198958 - 32s - loss: 0.4987 - binary_crossentropy: 0.4969 - auc: 0.7397 - val_loss: 0.5011 - val_binary_crossentropy: 0.4991 - val_auc: 0.7368\n",
      "Epoch 5/15\n",
      "2198958/2198958 - 32s - loss: 0.4966 - binary_crossentropy: 0.4945 - auc: 0.7432 - val_loss: 0.4997 - val_binary_crossentropy: 0.4975 - val_auc: 0.7392\n",
      "Epoch 6/15\n",
      "2198958/2198958 - 32s - loss: 0.4950 - binary_crossentropy: 0.4927 - auc: 0.7458 - val_loss: 0.4987 - val_binary_crossentropy: 0.4963 - val_auc: 0.7410\n",
      "Epoch 7/15\n",
      "2198958/2198958 - 32s - loss: 0.4938 - binary_crossentropy: 0.4913 - auc: 0.7478 - val_loss: 0.4978 - val_binary_crossentropy: 0.4952 - val_auc: 0.7426\n",
      "Epoch 8/15\n",
      "2198958/2198958 - 32s - loss: 0.4929 - binary_crossentropy: 0.4902 - auc: 0.7495 - val_loss: 0.4971 - val_binary_crossentropy: 0.4943 - val_auc: 0.7439\n",
      "Epoch 9/15\n",
      "2198958/2198958 - 32s - loss: 0.4921 - binary_crossentropy: 0.4893 - auc: 0.7509 - val_loss: 0.4966 - val_binary_crossentropy: 0.4937 - val_auc: 0.7450\n",
      "Epoch 10/15\n",
      "2198958/2198958 - 32s - loss: 0.4914 - binary_crossentropy: 0.4884 - auc: 0.7521 - val_loss: 0.4960 - val_binary_crossentropy: 0.4930 - val_auc: 0.7460\n",
      "Epoch 11/15\n",
      "2198958/2198958 - 32s - loss: 0.4908 - binary_crossentropy: 0.4878 - auc: 0.7531 - val_loss: 0.4955 - val_binary_crossentropy: 0.4924 - val_auc: 0.7470\n",
      "Epoch 12/15\n",
      "2198958/2198958 - 32s - loss: 0.4903 - binary_crossentropy: 0.4872 - auc: 0.7540 - val_loss: 0.4951 - val_binary_crossentropy: 0.4919 - val_auc: 0.7477\n",
      "Epoch 13/15\n",
      "2198958/2198958 - 32s - loss: 0.4899 - binary_crossentropy: 0.4867 - auc: 0.7548 - val_loss: 0.4947 - val_binary_crossentropy: 0.4915 - val_auc: 0.7484\n",
      "Epoch 14/15\n",
      "2198958/2198958 - 32s - loss: 0.4895 - binary_crossentropy: 0.4862 - auc: 0.7554 - val_loss: 0.4945 - val_binary_crossentropy: 0.4911 - val_auc: 0.7490\n",
      "Epoch 15/15\n",
      "2198958/2198958 - 32s - loss: 0.4892 - binary_crossentropy: 0.4858 - auc: 0.7561 - val_loss: 0.4942 - val_binary_crossentropy: 0.4908 - val_auc: 0.7495\n"
     ]
    }
   ],
   "source": [
    "all_metrics['AFM'] = test_model(afm_model, train_model_input, test_model_input, y_train.values, y_valid, model_name='AFM')"
   ]
  },
  {
   "cell_type": "markdown",
   "metadata": {},
   "source": [
    "## DCN (Deep & Cross Network)\n",
    "<img src=\"https://deepctr-torch.readthedocs.io/en/latest/_images/DCN.png\" alt=\"drawing\" width=\"900\"/>"
   ]
  },
  {
   "cell_type": "code",
   "execution_count": 40,
   "metadata": {},
   "outputs": [],
   "source": [
    "dcn_model = DCN(linear_feature_columns, dnn_feature_columns, dnn_dropout=0.5)"
   ]
  },
  {
   "cell_type": "code",
   "execution_count": 41,
   "metadata": {},
   "outputs": [
    {
     "name": "stdout",
     "output_type": "stream",
     "text": [
      "Train on 2198958 samples, validate on 549740 samples\n",
      "Epoch 1/15\n",
      "2198958/2198958 - 26s - loss: 0.5085 - binary_crossentropy: 0.5082 - auc: 0.7197 - val_loss: 0.4857 - val_binary_crossentropy: 0.4852 - val_auc: 0.7581\n",
      "Epoch 2/15\n",
      "2198958/2198958 - 26s - loss: 0.4823 - binary_crossentropy: 0.4817 - auc: 0.7620 - val_loss: 0.4807 - val_binary_crossentropy: 0.4800 - val_auc: 0.7652\n",
      "Epoch 3/15\n",
      "2198958/2198958 - 26s - loss: 0.4775 - binary_crossentropy: 0.4767 - auc: 0.7686 - val_loss: 0.4783 - val_binary_crossentropy: 0.4774 - val_auc: 0.7686\n",
      "Epoch 4/15\n",
      "2198958/2198958 - 26s - loss: 0.4740 - binary_crossentropy: 0.4730 - auc: 0.7734 - val_loss: 0.4769 - val_binary_crossentropy: 0.4758 - val_auc: 0.7708\n",
      "Epoch 5/15\n",
      "2198958/2198958 - 26s - loss: 0.4717 - binary_crossentropy: 0.4705 - auc: 0.7767 - val_loss: 0.4757 - val_binary_crossentropy: 0.4745 - val_auc: 0.7724\n",
      "Epoch 6/15\n",
      "2198958/2198958 - 26s - loss: 0.4696 - binary_crossentropy: 0.4682 - auc: 0.7795 - val_loss: 0.4754 - val_binary_crossentropy: 0.4740 - val_auc: 0.7731\n",
      "Epoch 7/15\n",
      "2198958/2198958 - 27s - loss: 0.4679 - binary_crossentropy: 0.4664 - auc: 0.7817 - val_loss: 0.4751 - val_binary_crossentropy: 0.4735 - val_auc: 0.7740\n",
      "Epoch 8/15\n",
      "2198958/2198958 - 27s - loss: 0.4665 - binary_crossentropy: 0.4649 - auc: 0.7837 - val_loss: 0.4752 - val_binary_crossentropy: 0.4735 - val_auc: 0.7740\n",
      "Epoch 9/15\n",
      "2198958/2198958 - 26s - loss: 0.4652 - binary_crossentropy: 0.4634 - auc: 0.7855 - val_loss: 0.4750 - val_binary_crossentropy: 0.4732 - val_auc: 0.7744\n",
      "Epoch 10/15\n",
      "2198958/2198958 - 26s - loss: 0.4641 - binary_crossentropy: 0.4622 - auc: 0.7869 - val_loss: 0.4750 - val_binary_crossentropy: 0.4730 - val_auc: 0.7744\n",
      "Epoch 11/15\n",
      "2198958/2198958 - 26s - loss: 0.4632 - binary_crossentropy: 0.4612 - auc: 0.7882 - val_loss: 0.4748 - val_binary_crossentropy: 0.4727 - val_auc: 0.7748\n",
      "Epoch 12/15\n",
      "2198958/2198958 - 25s - loss: 0.4625 - binary_crossentropy: 0.4603 - auc: 0.7892 - val_loss: 0.4749 - val_binary_crossentropy: 0.4727 - val_auc: 0.7749\n",
      "Epoch 13/15\n",
      "2198958/2198958 - 26s - loss: 0.4616 - binary_crossentropy: 0.4594 - auc: 0.7903 - val_loss: 0.4754 - val_binary_crossentropy: 0.4731 - val_auc: 0.7747\n",
      "Epoch 14/15\n",
      "2198958/2198958 - 26s - loss: 0.4611 - binary_crossentropy: 0.4588 - auc: 0.7911 - val_loss: 0.4752 - val_binary_crossentropy: 0.4728 - val_auc: 0.7749\n",
      "Epoch 15/15\n",
      "2198958/2198958 - 26s - loss: 0.4605 - binary_crossentropy: 0.4581 - auc: 0.7919 - val_loss: 0.4756 - val_binary_crossentropy: 0.4731 - val_auc: 0.7747\n"
     ]
    }
   ],
   "source": [
    "all_metrics['DCN'] = test_model(dcn_model, train_model_input, test_model_input, y_train.values, y_valid, model_name='DCN')"
   ]
  },
  {
   "cell_type": "markdown",
   "metadata": {},
   "source": [
    "## xDeepFM\n",
    "<img src=\"https://deepctr-torch.readthedocs.io/en/latest/_images/xDeepFM.png\" alt=\"drawing\" width=\"900\"/>"
   ]
  },
  {
   "cell_type": "code",
   "execution_count": 42,
   "metadata": {},
   "outputs": [],
   "source": [
    "xdeep_fm_model = xDeepFM(linear_feature_columns, dnn_feature_columns, dnn_dropout=0.5)"
   ]
  },
  {
   "cell_type": "code",
   "execution_count": 43,
   "metadata": {},
   "outputs": [
    {
     "name": "stdout",
     "output_type": "stream",
     "text": [
      "Train on 2198958 samples, validate on 549740 samples\n",
      "Epoch 1/15\n",
      "2198958/2198958 - 38s - loss: 0.5033 - binary_crossentropy: 0.5030 - auc: 0.7281 - val_loss: 0.4828 - val_binary_crossentropy: 0.4824 - val_auc: 0.7617\n",
      "Epoch 2/15\n",
      "2198958/2198958 - 36s - loss: 0.4790 - binary_crossentropy: 0.4785 - auc: 0.7660 - val_loss: 0.4782 - val_binary_crossentropy: 0.4777 - val_auc: 0.7680\n",
      "Epoch 3/15\n",
      "2198958/2198958 - 36s - loss: 0.4738 - binary_crossentropy: 0.4731 - auc: 0.7731 - val_loss: 0.4762 - val_binary_crossentropy: 0.4754 - val_auc: 0.7721\n",
      "Epoch 4/15\n",
      "2198958/2198958 - 36s - loss: 0.4700 - binary_crossentropy: 0.4691 - auc: 0.7782 - val_loss: 0.4741 - val_binary_crossentropy: 0.4732 - val_auc: 0.7744\n",
      "Epoch 5/15\n",
      "2198958/2198958 - 36s - loss: 0.4669 - binary_crossentropy: 0.4658 - auc: 0.7824 - val_loss: 0.4730 - val_binary_crossentropy: 0.4718 - val_auc: 0.7757\n",
      "Epoch 6/15\n",
      "2198958/2198958 - 36s - loss: 0.4644 - binary_crossentropy: 0.4631 - auc: 0.7856 - val_loss: 0.4725 - val_binary_crossentropy: 0.4712 - val_auc: 0.7765\n",
      "Epoch 7/15\n",
      "2198958/2198958 - 36s - loss: 0.4623 - binary_crossentropy: 0.4609 - auc: 0.7883 - val_loss: 0.4728 - val_binary_crossentropy: 0.4713 - val_auc: 0.7768\n",
      "Epoch 8/15\n",
      "2198958/2198958 - 36s - loss: 0.4604 - binary_crossentropy: 0.4589 - auc: 0.7909 - val_loss: 0.4726 - val_binary_crossentropy: 0.4710 - val_auc: 0.7769\n",
      "Epoch 9/15\n",
      "2198958/2198958 - 35s - loss: 0.4588 - binary_crossentropy: 0.4571 - auc: 0.7929 - val_loss: 0.4730 - val_binary_crossentropy: 0.4712 - val_auc: 0.7767\n",
      "Epoch 10/15\n",
      "2198958/2198958 - 36s - loss: 0.4575 - binary_crossentropy: 0.4556 - auc: 0.7947 - val_loss: 0.4729 - val_binary_crossentropy: 0.4710 - val_auc: 0.7771\n",
      "Epoch 11/15\n",
      "2198958/2198958 - 36s - loss: 0.4563 - binary_crossentropy: 0.4544 - auc: 0.7962 - val_loss: 0.4737 - val_binary_crossentropy: 0.4716 - val_auc: 0.7764\n",
      "Epoch 12/15\n",
      "2198958/2198958 - 36s - loss: 0.4551 - binary_crossentropy: 0.4530 - auc: 0.7977 - val_loss: 0.4739 - val_binary_crossentropy: 0.4717 - val_auc: 0.7768\n",
      "Epoch 00012: early stopping\n"
     ]
    }
   ],
   "source": [
    "all_metrics['xDeepFM'] = test_model(xdeep_fm_model, train_model_input, test_model_input, y_train.values, y_valid, model_name='xDeepFM')"
   ]
  },
  {
   "cell_type": "markdown",
   "metadata": {},
   "source": [
    "## AutoInt(Automatic Feature Interaction)\n",
    "<img src=\"https://deepctr-torch.readthedocs.io/en/latest/_images/AutoInt.png\" alt=\"drawing\" width=\"900\"/>"
   ]
  },
  {
   "cell_type": "code",
   "execution_count": 44,
   "metadata": {},
   "outputs": [
    {
     "name": "stdout",
     "output_type": "stream",
     "text": [
      "WARNING:tensorflow:From C:\\Anaconda3\\envs\\tf_fibi\\lib\\site-packages\\deepctr\\layers\\interaction.py:569: The name tf.keras.initializers.TruncatedNormal is deprecated. Please use tf.compat.v1.keras.initializers.TruncatedNormal instead.\n",
      "\n",
      "WARNING:tensorflow:From C:\\Anaconda3\\envs\\tf_fibi\\lib\\site-packages\\tensorflow_core\\python\\keras\\initializers.py:94: calling TruncatedNormal.__init__ (from tensorflow.python.ops.init_ops) with dtype is deprecated and will be removed in a future version.\n",
      "Instructions for updating:\n",
      "Call initializer instance with the dtype argument instead of passing it to the constructor\n"
     ]
    }
   ],
   "source": [
    "auto_int_model = AutoInt(linear_feature_columns, dnn_feature_columns, dnn_dropout=0.5)"
   ]
  },
  {
   "cell_type": "code",
   "execution_count": 45,
   "metadata": {},
   "outputs": [
    {
     "name": "stdout",
     "output_type": "stream",
     "text": [
      "Train on 2198958 samples, validate on 549740 samples\n",
      "Epoch 1/15\n",
      "2198958/2198958 - 41s - loss: 0.5055 - binary_crossentropy: 0.5052 - auc: 0.7245 - val_loss: 0.4834 - val_binary_crossentropy: 0.4830 - val_auc: 0.7608\n",
      "Epoch 2/15\n",
      "2198958/2198958 - 40s - loss: 0.4798 - binary_crossentropy: 0.4793 - auc: 0.7649 - val_loss: 0.4787 - val_binary_crossentropy: 0.4781 - val_auc: 0.7677\n",
      "Epoch 3/15\n",
      "2198958/2198958 - 40s - loss: 0.4747 - binary_crossentropy: 0.4739 - auc: 0.7721 - val_loss: 0.4761 - val_binary_crossentropy: 0.4753 - val_auc: 0.7713\n",
      "Epoch 4/15\n",
      "2198958/2198958 - 40s - loss: 0.4712 - binary_crossentropy: 0.4703 - auc: 0.7768 - val_loss: 0.4747 - val_binary_crossentropy: 0.4737 - val_auc: 0.7734\n",
      "Epoch 5/15\n",
      "2198958/2198958 - 40s - loss: 0.4682 - binary_crossentropy: 0.4671 - auc: 0.7808 - val_loss: 0.4738 - val_binary_crossentropy: 0.4726 - val_auc: 0.7751\n",
      "Epoch 6/15\n",
      "2198958/2198958 - 40s - loss: 0.4663 - binary_crossentropy: 0.4650 - auc: 0.7834 - val_loss: 0.4735 - val_binary_crossentropy: 0.4722 - val_auc: 0.7756\n",
      "Epoch 7/15\n",
      "2198958/2198958 - 40s - loss: 0.4644 - binary_crossentropy: 0.4630 - auc: 0.7859 - val_loss: 0.4734 - val_binary_crossentropy: 0.4719 - val_auc: 0.7759\n",
      "Epoch 8/15\n",
      "2198958/2198958 - 40s - loss: 0.4630 - binary_crossentropy: 0.4615 - auc: 0.7879 - val_loss: 0.4733 - val_binary_crossentropy: 0.4717 - val_auc: 0.7761\n",
      "Epoch 9/15\n",
      "2198958/2198958 - 40s - loss: 0.4618 - binary_crossentropy: 0.4601 - auc: 0.7894 - val_loss: 0.4737 - val_binary_crossentropy: 0.4720 - val_auc: 0.7761\n",
      "Epoch 10/15\n",
      "2198958/2198958 - 40s - loss: 0.4607 - binary_crossentropy: 0.4588 - auc: 0.7910 - val_loss: 0.4738 - val_binary_crossentropy: 0.4719 - val_auc: 0.7760\n",
      "Epoch 00010: early stopping\n"
     ]
    }
   ],
   "source": [
    "all_metrics['AutoInt'] = test_model(auto_int_model, train_model_input, test_model_input, y_train.values, y_valid, model_name='AutoInt')"
   ]
  },
  {
   "cell_type": "markdown",
   "metadata": {},
   "source": [
    "## FiBiNET(Feature Importance and Bilinear feature Interaction NETwork)\n",
    "<img src=\"https://deepctr-torch.readthedocs.io/en/latest/_images/FiBiNET.png\" alt=\"drawing\" width=\"900\"/>"
   ]
  },
  {
   "cell_type": "code",
   "execution_count": 46,
   "metadata": {},
   "outputs": [],
   "source": [
    "fibinet_interaction_model = FiBiNET(linear_feature_columns, dnn_feature_columns, bilinear_type='interaction', dnn_dropout=0.5)"
   ]
  },
  {
   "cell_type": "code",
   "execution_count": 47,
   "metadata": {},
   "outputs": [
    {
     "name": "stdout",
     "output_type": "stream",
     "text": [
      "Train on 2198958 samples, validate on 549740 samples\n",
      "Epoch 1/15\n",
      "2198958/2198958 - 62s - loss: 0.5118 - binary_crossentropy: 0.5114 - auc: 0.7136 - val_loss: 0.4829 - val_binary_crossentropy: 0.4823 - val_auc: 0.7623\n",
      "Epoch 2/15\n",
      "2198958/2198958 - 45s - loss: 0.4779 - binary_crossentropy: 0.4771 - auc: 0.7684 - val_loss: 0.4759 - val_binary_crossentropy: 0.4749 - val_auc: 0.7720\n",
      "Epoch 3/15\n",
      "2198958/2198958 - 46s - loss: 0.4706 - binary_crossentropy: 0.4696 - auc: 0.7784 - val_loss: 0.4739 - val_binary_crossentropy: 0.4727 - val_auc: 0.7752\n",
      "Epoch 4/15\n",
      "2198958/2198958 - 46s - loss: 0.4660 - binary_crossentropy: 0.4647 - auc: 0.7845 - val_loss: 0.4726 - val_binary_crossentropy: 0.4712 - val_auc: 0.7768\n",
      "Epoch 5/15\n",
      "2198958/2198958 - 46s - loss: 0.4626 - binary_crossentropy: 0.4611 - auc: 0.7889 - val_loss: 0.4726 - val_binary_crossentropy: 0.4709 - val_auc: 0.7771\n",
      "Epoch 6/15\n",
      "2198958/2198958 - 46s - loss: 0.4600 - binary_crossentropy: 0.4582 - auc: 0.7922 - val_loss: 0.4735 - val_binary_crossentropy: 0.4717 - val_auc: 0.7769\n",
      "Epoch 7/15\n",
      "2198958/2198958 - 45s - loss: 0.4577 - binary_crossentropy: 0.4557 - auc: 0.7952 - val_loss: 0.4732 - val_binary_crossentropy: 0.4712 - val_auc: 0.7767\n",
      "Epoch 00007: early stopping\n"
     ]
    }
   ],
   "source": [
    "all_metrics['FiBiNET-inter'] = test_model(fibinet_interaction_model, train_model_input, test_model_input, y_train.values, y_valid, model_name='FiBiNet-inter')"
   ]
  },
  {
   "cell_type": "code",
   "execution_count": 48,
   "metadata": {},
   "outputs": [],
   "source": [
    "fibinet_all_model = FiBiNET(linear_feature_columns, dnn_feature_columns, bilinear_type='all', dnn_dropout=0.5)"
   ]
  },
  {
   "cell_type": "code",
   "execution_count": 49,
   "metadata": {},
   "outputs": [
    {
     "name": "stdout",
     "output_type": "stream",
     "text": [
      "Train on 2198958 samples, validate on 549740 samples\n",
      "Epoch 1/15\n",
      "2198958/2198958 - 39s - loss: 0.5118 - binary_crossentropy: 0.5115 - auc: 0.7138 - val_loss: 0.4837 - val_binary_crossentropy: 0.4831 - val_auc: 0.7614\n",
      "Epoch 2/15\n",
      "2198958/2198958 - 35s - loss: 0.4786 - binary_crossentropy: 0.4778 - auc: 0.7674 - val_loss: 0.4765 - val_binary_crossentropy: 0.4756 - val_auc: 0.7713\n",
      "Epoch 3/15\n",
      "2198958/2198958 - 34s - loss: 0.4713 - binary_crossentropy: 0.4702 - auc: 0.7774 - val_loss: 0.4741 - val_binary_crossentropy: 0.4729 - val_auc: 0.7748\n",
      "Epoch 4/15\n",
      "2198958/2198958 - 34s - loss: 0.4665 - binary_crossentropy: 0.4652 - auc: 0.7838 - val_loss: 0.4735 - val_binary_crossentropy: 0.4721 - val_auc: 0.7761\n",
      "Epoch 5/15\n",
      "2198958/2198958 - 34s - loss: 0.4631 - binary_crossentropy: 0.4615 - auc: 0.7883 - val_loss: 0.4733 - val_binary_crossentropy: 0.4717 - val_auc: 0.7764\n",
      "Epoch 6/15\n",
      "2198958/2198958 - 34s - loss: 0.4602 - binary_crossentropy: 0.4585 - auc: 0.7919 - val_loss: 0.4733 - val_binary_crossentropy: 0.4714 - val_auc: 0.7768\n",
      "Epoch 7/15\n",
      "2198958/2198958 - 34s - loss: 0.4582 - binary_crossentropy: 0.4562 - auc: 0.7946 - val_loss: 0.4738 - val_binary_crossentropy: 0.4718 - val_auc: 0.7764\n",
      "Epoch 8/15\n",
      "2198958/2198958 - 34s - loss: 0.4564 - binary_crossentropy: 0.4542 - auc: 0.7970 - val_loss: 0.4744 - val_binary_crossentropy: 0.4721 - val_auc: 0.7766\n",
      "Epoch 00008: early stopping\n"
     ]
    }
   ],
   "source": [
    "all_metrics['FiBiNET-all'] = test_model(fibinet_all_model, train_model_input, test_model_input, y_train.values, y_valid, model_name='FiBiNet-all')"
   ]
  },
  {
   "cell_type": "code",
   "execution_count": 50,
   "metadata": {},
   "outputs": [],
   "source": [
    "fibinet_each_model = FiBiNET(linear_feature_columns, dnn_feature_columns, bilinear_type='each', dnn_dropout=0.5)"
   ]
  },
  {
   "cell_type": "code",
   "execution_count": 51,
   "metadata": {},
   "outputs": [
    {
     "name": "stdout",
     "output_type": "stream",
     "text": [
      "Train on 2198958 samples, validate on 549740 samples\n",
      "Epoch 1/15\n",
      "2198958/2198958 - 39s - loss: 0.5119 - binary_crossentropy: 0.5115 - auc: 0.7135 - val_loss: 0.4833 - val_binary_crossentropy: 0.4827 - val_auc: 0.7619\n",
      "Epoch 2/15\n",
      "2198958/2198958 - 34s - loss: 0.4783 - binary_crossentropy: 0.4775 - auc: 0.7679 - val_loss: 0.4762 - val_binary_crossentropy: 0.4753 - val_auc: 0.7716\n",
      "Epoch 3/15\n",
      "2198958/2198958 - 34s - loss: 0.4708 - binary_crossentropy: 0.4697 - auc: 0.7781 - val_loss: 0.4739 - val_binary_crossentropy: 0.4727 - val_auc: 0.7749\n",
      "Epoch 4/15\n",
      "2198958/2198958 - 34s - loss: 0.4662 - binary_crossentropy: 0.4649 - auc: 0.7843 - val_loss: 0.4730 - val_binary_crossentropy: 0.4716 - val_auc: 0.7762\n",
      "Epoch 5/15\n",
      "2198958/2198958 - 34s - loss: 0.4627 - binary_crossentropy: 0.4612 - auc: 0.7888 - val_loss: 0.4730 - val_binary_crossentropy: 0.4713 - val_auc: 0.7766\n",
      "Epoch 6/15\n",
      "2198958/2198958 - 34s - loss: 0.4602 - binary_crossentropy: 0.4584 - auc: 0.7921 - val_loss: 0.4735 - val_binary_crossentropy: 0.4716 - val_auc: 0.7764\n",
      "Epoch 7/15\n",
      "2198958/2198958 - 34s - loss: 0.4582 - binary_crossentropy: 0.4562 - auc: 0.7948 - val_loss: 0.4739 - val_binary_crossentropy: 0.4718 - val_auc: 0.7762\n",
      "Epoch 00007: early stopping\n"
     ]
    }
   ],
   "source": [
    "all_metrics['FiBiNET-each'] = test_model(fibinet_each_model, train_model_input, test_model_input, y_train.values, y_valid, model_name='FiBiNet-each')"
   ]
  },
  {
   "cell_type": "markdown",
   "metadata": {},
   "source": [
    "# Результаты"
   ]
  },
  {
   "cell_type": "code",
   "execution_count": 52,
   "metadata": {},
   "outputs": [
    {
     "data": {
      "text/html": [
       "<div>\n",
       "<style scoped>\n",
       "    .dataframe tbody tr th:only-of-type {\n",
       "        vertical-align: middle;\n",
       "    }\n",
       "\n",
       "    .dataframe tbody tr th {\n",
       "        vertical-align: top;\n",
       "    }\n",
       "\n",
       "    .dataframe thead th {\n",
       "        text-align: right;\n",
       "    }\n",
       "</style>\n",
       "<table border=\"1\" class=\"dataframe\">\n",
       "  <thead>\n",
       "    <tr style=\"text-align: right;\">\n",
       "      <th></th>\n",
       "      <th>CCPM</th>\n",
       "      <th>PNN</th>\n",
       "      <th>WDL</th>\n",
       "      <th>DeepFM</th>\n",
       "      <th>MLR</th>\n",
       "      <th>NFM</th>\n",
       "      <th>AFM</th>\n",
       "      <th>DCN</th>\n",
       "      <th>xDeepFM</th>\n",
       "      <th>AutoInt</th>\n",
       "      <th>FiBiNET-inter</th>\n",
       "      <th>FiBiNET-all</th>\n",
       "      <th>FiBiNET-each</th>\n",
       "    </tr>\n",
       "    <tr>\n",
       "      <th>metric</th>\n",
       "      <th></th>\n",
       "      <th></th>\n",
       "      <th></th>\n",
       "      <th></th>\n",
       "      <th></th>\n",
       "      <th></th>\n",
       "      <th></th>\n",
       "      <th></th>\n",
       "      <th></th>\n",
       "      <th></th>\n",
       "      <th></th>\n",
       "      <th></th>\n",
       "      <th></th>\n",
       "    </tr>\n",
       "  </thead>\n",
       "  <tbody>\n",
       "    <tr>\n",
       "      <th>roc-auc</th>\n",
       "      <td>0.751845</td>\n",
       "      <td>0.774839</td>\n",
       "      <td>0.775921</td>\n",
       "      <td>0.776180</td>\n",
       "      <td>0.757306</td>\n",
       "      <td>0.771769</td>\n",
       "      <td>0.751116</td>\n",
       "      <td>0.776207</td>\n",
       "      <td>0.778106</td>\n",
       "      <td>0.777248</td>\n",
       "      <td>0.777974</td>\n",
       "      <td>0.777417</td>\n",
       "      <td>0.777776</td>\n",
       "    </tr>\n",
       "    <tr>\n",
       "      <th>log-loss</th>\n",
       "      <td>0.488265</td>\n",
       "      <td>0.472561</td>\n",
       "      <td>0.471485</td>\n",
       "      <td>0.471306</td>\n",
       "      <td>0.484541</td>\n",
       "      <td>0.474659</td>\n",
       "      <td>0.488973</td>\n",
       "      <td>0.471184</td>\n",
       "      <td>0.469598</td>\n",
       "      <td>0.470147</td>\n",
       "      <td>0.469663</td>\n",
       "      <td>0.470280</td>\n",
       "      <td>0.469772</td>\n",
       "    </tr>\n",
       "  </tbody>\n",
       "</table>\n",
       "</div>"
      ],
      "text/plain": [
       "              CCPM       PNN       WDL    DeepFM       MLR       NFM  \\\n",
       "metric                                                                 \n",
       "roc-auc   0.751845  0.774839  0.775921  0.776180  0.757306  0.771769   \n",
       "log-loss  0.488265  0.472561  0.471485  0.471306  0.484541  0.474659   \n",
       "\n",
       "               AFM       DCN   xDeepFM   AutoInt  FiBiNET-inter  FiBiNET-all  \\\n",
       "metric                                                                         \n",
       "roc-auc   0.751116  0.776207  0.778106  0.777248       0.777974     0.777417   \n",
       "log-loss  0.488973  0.471184  0.469598  0.470147       0.469663     0.470280   \n",
       "\n",
       "          FiBiNET-each  \n",
       "metric                  \n",
       "roc-auc       0.777776  \n",
       "log-loss      0.469772  "
      ]
     },
     "execution_count": 52,
     "metadata": {},
     "output_type": "execute_result"
    }
   ],
   "source": [
    "get_metrics(all_metrics)"
   ]
  },
  {
   "cell_type": "code",
   "execution_count": 53,
   "metadata": {},
   "outputs": [
    {
     "data": {
      "text/html": [
       "<div>\n",
       "<style scoped>\n",
       "    .dataframe tbody tr th:only-of-type {\n",
       "        vertical-align: middle;\n",
       "    }\n",
       "\n",
       "    .dataframe tbody tr th {\n",
       "        vertical-align: top;\n",
       "    }\n",
       "\n",
       "    .dataframe thead th {\n",
       "        text-align: right;\n",
       "    }\n",
       "</style>\n",
       "<table border=\"1\" class=\"dataframe\">\n",
       "  <thead>\n",
       "    <tr style=\"text-align: right;\">\n",
       "      <th></th>\n",
       "      <th>CCPM</th>\n",
       "      <th>PNN</th>\n",
       "      <th>WDL</th>\n",
       "      <th>MLR</th>\n",
       "      <th>NFM</th>\n",
       "      <th>AFM</th>\n",
       "      <th>DCN</th>\n",
       "      <th>xDeepFM</th>\n",
       "      <th>AutoInt</th>\n",
       "      <th>FiBiNET-inter</th>\n",
       "      <th>FiBiNET-all</th>\n",
       "      <th>FiBiNET-each</th>\n",
       "    </tr>\n",
       "    <tr>\n",
       "      <th>metric</th>\n",
       "      <th></th>\n",
       "      <th></th>\n",
       "      <th></th>\n",
       "      <th></th>\n",
       "      <th></th>\n",
       "      <th></th>\n",
       "      <th></th>\n",
       "      <th></th>\n",
       "      <th></th>\n",
       "      <th></th>\n",
       "      <th></th>\n",
       "      <th></th>\n",
       "    </tr>\n",
       "  </thead>\n",
       "  <tbody>\n",
       "    <tr>\n",
       "      <th>roc-auc</th>\n",
       "      <td>-2.433515</td>\n",
       "      <td>-0.134030</td>\n",
       "      <td>-0.025913</td>\n",
       "      <td>-1.887416</td>\n",
       "      <td>-0.441089</td>\n",
       "      <td>-2.506413</td>\n",
       "      <td>0.002770</td>\n",
       "      <td>0.192624</td>\n",
       "      <td>0.106854</td>\n",
       "      <td>0.179450</td>\n",
       "      <td>0.123769</td>\n",
       "      <td>0.159588</td>\n",
       "    </tr>\n",
       "    <tr>\n",
       "      <th>log-loss</th>\n",
       "      <td>1.695883</td>\n",
       "      <td>0.125482</td>\n",
       "      <td>0.017977</td>\n",
       "      <td>1.323562</td>\n",
       "      <td>0.335313</td>\n",
       "      <td>1.766705</td>\n",
       "      <td>-0.012172</td>\n",
       "      <td>-0.170785</td>\n",
       "      <td>-0.115903</td>\n",
       "      <td>-0.164304</td>\n",
       "      <td>-0.102555</td>\n",
       "      <td>-0.153380</td>\n",
       "    </tr>\n",
       "  </tbody>\n",
       "</table>\n",
       "</div>"
      ],
      "text/plain": [
       "              CCPM       PNN       WDL       MLR       NFM       AFM  \\\n",
       "metric                                                                 \n",
       "roc-auc  -2.433515 -0.134030 -0.025913 -1.887416 -0.441089 -2.506413   \n",
       "log-loss  1.695883  0.125482  0.017977  1.323562  0.335313  1.766705   \n",
       "\n",
       "               DCN   xDeepFM   AutoInt  FiBiNET-inter  FiBiNET-all  \\\n",
       "metric                                                               \n",
       "roc-auc   0.002770  0.192624  0.106854       0.179450     0.123769   \n",
       "log-loss -0.012172 -0.170785 -0.115903      -0.164304    -0.102555   \n",
       "\n",
       "          FiBiNET-each  \n",
       "metric                  \n",
       "roc-auc       0.159588  \n",
       "log-loss     -0.153380  "
      ]
     },
     "execution_count": 53,
     "metadata": {},
     "output_type": "execute_result"
    }
   ],
   "source": [
    "get_ate(all_metrics, control_name='DeepFM')"
   ]
  },
  {
   "cell_type": "code",
   "execution_count": 54,
   "metadata": {},
   "outputs": [
    {
     "data": {
      "text/html": [
       "<div>\n",
       "<style scoped>\n",
       "    .dataframe tbody tr th:only-of-type {\n",
       "        vertical-align: middle;\n",
       "    }\n",
       "\n",
       "    .dataframe tbody tr th {\n",
       "        vertical-align: top;\n",
       "    }\n",
       "\n",
       "    .dataframe thead th {\n",
       "        text-align: right;\n",
       "    }\n",
       "</style>\n",
       "<table border=\"1\" class=\"dataframe\">\n",
       "  <thead>\n",
       "    <tr style=\"text-align: right;\">\n",
       "      <th></th>\n",
       "      <th>CCPM</th>\n",
       "      <th>PNN</th>\n",
       "      <th>WDL</th>\n",
       "      <th>DeepFM</th>\n",
       "      <th>MLR</th>\n",
       "      <th>NFM</th>\n",
       "      <th>AFM</th>\n",
       "      <th>DCN</th>\n",
       "      <th>xDeepFM</th>\n",
       "      <th>AutoInt</th>\n",
       "      <th>FiBiNET-all</th>\n",
       "      <th>FiBiNET-each</th>\n",
       "    </tr>\n",
       "    <tr>\n",
       "      <th>metric</th>\n",
       "      <th></th>\n",
       "      <th></th>\n",
       "      <th></th>\n",
       "      <th></th>\n",
       "      <th></th>\n",
       "      <th></th>\n",
       "      <th></th>\n",
       "      <th></th>\n",
       "      <th></th>\n",
       "      <th></th>\n",
       "      <th></th>\n",
       "      <th></th>\n",
       "    </tr>\n",
       "  </thead>\n",
       "  <tbody>\n",
       "    <tr>\n",
       "      <th>roc-auc</th>\n",
       "      <td>-2.612964</td>\n",
       "      <td>-0.313480</td>\n",
       "      <td>-0.205362</td>\n",
       "      <td>-0.179450</td>\n",
       "      <td>-2.066865</td>\n",
       "      <td>-0.620538</td>\n",
       "      <td>-2.685862</td>\n",
       "      <td>-0.176679</td>\n",
       "      <td>0.013174</td>\n",
       "      <td>-0.072596</td>\n",
       "      <td>-0.055681</td>\n",
       "      <td>-0.019861</td>\n",
       "    </tr>\n",
       "    <tr>\n",
       "      <th>log-loss</th>\n",
       "      <td>1.860188</td>\n",
       "      <td>0.289787</td>\n",
       "      <td>0.182282</td>\n",
       "      <td>0.164304</td>\n",
       "      <td>1.487867</td>\n",
       "      <td>0.499618</td>\n",
       "      <td>1.931010</td>\n",
       "      <td>0.152132</td>\n",
       "      <td>-0.006480</td>\n",
       "      <td>0.048402</td>\n",
       "      <td>0.061749</td>\n",
       "      <td>0.010925</td>\n",
       "    </tr>\n",
       "  </tbody>\n",
       "</table>\n",
       "</div>"
      ],
      "text/plain": [
       "              CCPM       PNN       WDL    DeepFM       MLR       NFM  \\\n",
       "metric                                                                 \n",
       "roc-auc  -2.612964 -0.313480 -0.205362 -0.179450 -2.066865 -0.620538   \n",
       "log-loss  1.860188  0.289787  0.182282  0.164304  1.487867  0.499618   \n",
       "\n",
       "               AFM       DCN   xDeepFM   AutoInt  FiBiNET-all  FiBiNET-each  \n",
       "metric                                                                       \n",
       "roc-auc  -2.685862 -0.176679  0.013174 -0.072596    -0.055681     -0.019861  \n",
       "log-loss  1.931010  0.152132 -0.006480  0.048402     0.061749      0.010925  "
      ]
     },
     "execution_count": 54,
     "metadata": {},
     "output_type": "execute_result"
    }
   ],
   "source": [
    "get_ate(all_metrics, control_name='FiBiNET-inter')"
   ]
  }
 ],
 "metadata": {
  "kernelspec": {
   "display_name": "Python 3",
   "language": "python",
   "name": "python3"
  },
  "language_info": {
   "codemirror_mode": {
    "name": "ipython",
    "version": 3
   },
   "file_extension": ".py",
   "mimetype": "text/x-python",
   "name": "python",
   "nbconvert_exporter": "python",
   "pygments_lexer": "ipython3",
   "version": "3.6.12"
  }
 },
 "nbformat": 4,
 "nbformat_minor": 4
}
