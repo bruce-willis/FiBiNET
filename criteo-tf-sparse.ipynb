{
 "cells": [
  {
   "cell_type": "code",
   "execution_count": 1,
   "metadata": {},
   "outputs": [],
   "source": [
    "import os\n",
    "import shutil\n",
    "import sys\n",
    "import glob\n",
    "import pickle\n",
    "import numpy as np\n",
    "import pandas as pd\n",
    "import random\n",
    "import tensorflow as tf\n",
    "from sklearn.model_selection import train_test_split\n",
    "\n",
    "from pathlib import Path"
   ]
  },
  {
   "cell_type": "code",
   "execution_count": 2,
   "metadata": {},
   "outputs": [],
   "source": [
    "SEED = 42\n",
    "if SEED is not None:\n",
    "    np.random.seed(SEED)\n",
    "    random.seed(SEED)\n",
    "    tf.random.set_random_seed(SEED)"
   ]
  },
  {
   "cell_type": "code",
   "execution_count": 3,
   "metadata": {},
   "outputs": [],
   "source": [
    "from deepctr.feature_column import SparseFeat, DenseFeat, get_feature_names"
   ]
  },
  {
   "cell_type": "markdown",
   "metadata": {},
   "source": [
    "## Чтение данных"
   ]
  },
  {
   "cell_type": "code",
   "execution_count": 4,
   "metadata": {},
   "outputs": [],
   "source": [
    "DATA_PATH = Path('data') / 'criteo-part'\n",
    "\n",
    "TRAIN_PATH = str(DATA_PATH / 'train.csv')"
   ]
  },
  {
   "cell_type": "code",
   "execution_count": 5,
   "metadata": {},
   "outputs": [],
   "source": [
    "train = pd.read_csv(TRAIN_PATH)"
   ]
  },
  {
   "cell_type": "code",
   "execution_count": 6,
   "metadata": {},
   "outputs": [
    {
     "data": {
      "text/html": [
       "<div>\n",
       "<style scoped>\n",
       "    .dataframe tbody tr th:only-of-type {\n",
       "        vertical-align: middle;\n",
       "    }\n",
       "\n",
       "    .dataframe tbody tr th {\n",
       "        vertical-align: top;\n",
       "    }\n",
       "\n",
       "    .dataframe thead th {\n",
       "        text-align: right;\n",
       "    }\n",
       "</style>\n",
       "<table border=\"1\" class=\"dataframe\">\n",
       "  <thead>\n",
       "    <tr style=\"text-align: right;\">\n",
       "      <th></th>\n",
       "      <th>_c0</th>\n",
       "      <th>_c1</th>\n",
       "      <th>_c2</th>\n",
       "      <th>_c3</th>\n",
       "      <th>_c4</th>\n",
       "      <th>_c5</th>\n",
       "      <th>_c6</th>\n",
       "      <th>_c7</th>\n",
       "      <th>_c8</th>\n",
       "      <th>_c9</th>\n",
       "      <th>...</th>\n",
       "      <th>_c31</th>\n",
       "      <th>_c32</th>\n",
       "      <th>_c33</th>\n",
       "      <th>_c34</th>\n",
       "      <th>_c35</th>\n",
       "      <th>_c36</th>\n",
       "      <th>_c37</th>\n",
       "      <th>_c38</th>\n",
       "      <th>_c39</th>\n",
       "      <th>id</th>\n",
       "    </tr>\n",
       "  </thead>\n",
       "  <tbody>\n",
       "    <tr>\n",
       "      <th>0</th>\n",
       "      <td>1</td>\n",
       "      <td>0.0</td>\n",
       "      <td>-1</td>\n",
       "      <td>NaN</td>\n",
       "      <td>NaN</td>\n",
       "      <td>1465.0</td>\n",
       "      <td>0.0</td>\n",
       "      <td>17.0</td>\n",
       "      <td>0.0</td>\n",
       "      <td>4.0</td>\n",
       "      <td>...</td>\n",
       "      <td>e5f8f18f</td>\n",
       "      <td>NaN</td>\n",
       "      <td>NaN</td>\n",
       "      <td>f3ddd519</td>\n",
       "      <td>NaN</td>\n",
       "      <td>32c7478e</td>\n",
       "      <td>b34f3128</td>\n",
       "      <td>NaN</td>\n",
       "      <td>NaN</td>\n",
       "      <td>12</td>\n",
       "    </tr>\n",
       "    <tr>\n",
       "      <th>1</th>\n",
       "      <td>1</td>\n",
       "      <td>0.0</td>\n",
       "      <td>1</td>\n",
       "      <td>20.0</td>\n",
       "      <td>16.0</td>\n",
       "      <td>1548.0</td>\n",
       "      <td>93.0</td>\n",
       "      <td>42.0</td>\n",
       "      <td>32.0</td>\n",
       "      <td>912.0</td>\n",
       "      <td>...</td>\n",
       "      <td>1f868fdd</td>\n",
       "      <td>21ddcdc9</td>\n",
       "      <td>a458ea53</td>\n",
       "      <td>7eee76d1</td>\n",
       "      <td>NaN</td>\n",
       "      <td>32c7478e</td>\n",
       "      <td>9af06ad9</td>\n",
       "      <td>9d93af03</td>\n",
       "      <td>cdfe5ab7</td>\n",
       "      <td>26</td>\n",
       "    </tr>\n",
       "    <tr>\n",
       "      <th>2</th>\n",
       "      <td>0</td>\n",
       "      <td>8.0</td>\n",
       "      <td>0</td>\n",
       "      <td>15.0</td>\n",
       "      <td>20.0</td>\n",
       "      <td>115.0</td>\n",
       "      <td>24.0</td>\n",
       "      <td>8.0</td>\n",
       "      <td>23.0</td>\n",
       "      <td>24.0</td>\n",
       "      <td>...</td>\n",
       "      <td>1304f63b</td>\n",
       "      <td>21ddcdc9</td>\n",
       "      <td>b1252a9d</td>\n",
       "      <td>07b2853e</td>\n",
       "      <td>NaN</td>\n",
       "      <td>32c7478e</td>\n",
       "      <td>94bde4f2</td>\n",
       "      <td>010f6491</td>\n",
       "      <td>09b76f8d</td>\n",
       "      <td>39</td>\n",
       "    </tr>\n",
       "    <tr>\n",
       "      <th>3</th>\n",
       "      <td>1</td>\n",
       "      <td>88.0</td>\n",
       "      <td>319</td>\n",
       "      <td>NaN</td>\n",
       "      <td>4.0</td>\n",
       "      <td>5.0</td>\n",
       "      <td>4.0</td>\n",
       "      <td>89.0</td>\n",
       "      <td>40.0</td>\n",
       "      <td>88.0</td>\n",
       "      <td>...</td>\n",
       "      <td>bbf70d82</td>\n",
       "      <td>NaN</td>\n",
       "      <td>NaN</td>\n",
       "      <td>16e2e3b3</td>\n",
       "      <td>NaN</td>\n",
       "      <td>32c7478e</td>\n",
       "      <td>d859b4dd</td>\n",
       "      <td>NaN</td>\n",
       "      <td>NaN</td>\n",
       "      <td>41</td>\n",
       "    </tr>\n",
       "    <tr>\n",
       "      <th>4</th>\n",
       "      <td>0</td>\n",
       "      <td>0.0</td>\n",
       "      <td>53</td>\n",
       "      <td>NaN</td>\n",
       "      <td>10.0</td>\n",
       "      <td>6550.0</td>\n",
       "      <td>98.0</td>\n",
       "      <td>34.0</td>\n",
       "      <td>11.0</td>\n",
       "      <td>349.0</td>\n",
       "      <td>...</td>\n",
       "      <td>fa0643ee</td>\n",
       "      <td>21ddcdc9</td>\n",
       "      <td>b1252a9d</td>\n",
       "      <td>0094bc78</td>\n",
       "      <td>NaN</td>\n",
       "      <td>32c7478e</td>\n",
       "      <td>29ece3ed</td>\n",
       "      <td>001f3601</td>\n",
       "      <td>402185f3</td>\n",
       "      <td>85</td>\n",
       "    </tr>\n",
       "  </tbody>\n",
       "</table>\n",
       "<p>5 rows × 41 columns</p>\n",
       "</div>"
      ],
      "text/plain": [
       "   _c0   _c1  _c2   _c3   _c4     _c5   _c6   _c7   _c8    _c9  ...      _c31  \\\n",
       "0    1   0.0   -1   NaN   NaN  1465.0   0.0  17.0   0.0    4.0  ...  e5f8f18f   \n",
       "1    1   0.0    1  20.0  16.0  1548.0  93.0  42.0  32.0  912.0  ...  1f868fdd   \n",
       "2    0   8.0    0  15.0  20.0   115.0  24.0   8.0  23.0   24.0  ...  1304f63b   \n",
       "3    1  88.0  319   NaN   4.0     5.0   4.0  89.0  40.0   88.0  ...  bbf70d82   \n",
       "4    0   0.0   53   NaN  10.0  6550.0  98.0  34.0  11.0  349.0  ...  fa0643ee   \n",
       "\n",
       "       _c32      _c33      _c34 _c35      _c36      _c37      _c38      _c39  \\\n",
       "0       NaN       NaN  f3ddd519  NaN  32c7478e  b34f3128       NaN       NaN   \n",
       "1  21ddcdc9  a458ea53  7eee76d1  NaN  32c7478e  9af06ad9  9d93af03  cdfe5ab7   \n",
       "2  21ddcdc9  b1252a9d  07b2853e  NaN  32c7478e  94bde4f2  010f6491  09b76f8d   \n",
       "3       NaN       NaN  16e2e3b3  NaN  32c7478e  d859b4dd       NaN       NaN   \n",
       "4  21ddcdc9  b1252a9d  0094bc78  NaN  32c7478e  29ece3ed  001f3601  402185f3   \n",
       "\n",
       "   id  \n",
       "0  12  \n",
       "1  26  \n",
       "2  39  \n",
       "3  41  \n",
       "4  85  \n",
       "\n",
       "[5 rows x 41 columns]"
      ]
     },
     "execution_count": 6,
     "metadata": {},
     "output_type": "execute_result"
    }
   ],
   "source": [
    "train.head()"
   ]
  },
  {
   "cell_type": "code",
   "execution_count": 7,
   "metadata": {},
   "outputs": [],
   "source": [
    "train = train.rename(columns=lambda x: x.replace('_', '').upper())"
   ]
  },
  {
   "cell_type": "code",
   "execution_count": 8,
   "metadata": {},
   "outputs": [
    {
     "data": {
      "text/html": [
       "<div>\n",
       "<style scoped>\n",
       "    .dataframe tbody tr th:only-of-type {\n",
       "        vertical-align: middle;\n",
       "    }\n",
       "\n",
       "    .dataframe tbody tr th {\n",
       "        vertical-align: top;\n",
       "    }\n",
       "\n",
       "    .dataframe thead th {\n",
       "        text-align: right;\n",
       "    }\n",
       "</style>\n",
       "<table border=\"1\" class=\"dataframe\">\n",
       "  <thead>\n",
       "    <tr style=\"text-align: right;\">\n",
       "      <th></th>\n",
       "      <th>C0</th>\n",
       "      <th>C1</th>\n",
       "      <th>C2</th>\n",
       "      <th>C3</th>\n",
       "      <th>C4</th>\n",
       "      <th>C5</th>\n",
       "      <th>C6</th>\n",
       "      <th>C7</th>\n",
       "      <th>C8</th>\n",
       "      <th>C9</th>\n",
       "      <th>...</th>\n",
       "      <th>C31</th>\n",
       "      <th>C32</th>\n",
       "      <th>C33</th>\n",
       "      <th>C34</th>\n",
       "      <th>C35</th>\n",
       "      <th>C36</th>\n",
       "      <th>C37</th>\n",
       "      <th>C38</th>\n",
       "      <th>C39</th>\n",
       "      <th>ID</th>\n",
       "    </tr>\n",
       "  </thead>\n",
       "  <tbody>\n",
       "    <tr>\n",
       "      <th>0</th>\n",
       "      <td>1</td>\n",
       "      <td>0.0</td>\n",
       "      <td>-1</td>\n",
       "      <td>NaN</td>\n",
       "      <td>NaN</td>\n",
       "      <td>1465.0</td>\n",
       "      <td>0.0</td>\n",
       "      <td>17.0</td>\n",
       "      <td>0.0</td>\n",
       "      <td>4.0</td>\n",
       "      <td>...</td>\n",
       "      <td>e5f8f18f</td>\n",
       "      <td>NaN</td>\n",
       "      <td>NaN</td>\n",
       "      <td>f3ddd519</td>\n",
       "      <td>NaN</td>\n",
       "      <td>32c7478e</td>\n",
       "      <td>b34f3128</td>\n",
       "      <td>NaN</td>\n",
       "      <td>NaN</td>\n",
       "      <td>12</td>\n",
       "    </tr>\n",
       "    <tr>\n",
       "      <th>1</th>\n",
       "      <td>1</td>\n",
       "      <td>0.0</td>\n",
       "      <td>1</td>\n",
       "      <td>20.0</td>\n",
       "      <td>16.0</td>\n",
       "      <td>1548.0</td>\n",
       "      <td>93.0</td>\n",
       "      <td>42.0</td>\n",
       "      <td>32.0</td>\n",
       "      <td>912.0</td>\n",
       "      <td>...</td>\n",
       "      <td>1f868fdd</td>\n",
       "      <td>21ddcdc9</td>\n",
       "      <td>a458ea53</td>\n",
       "      <td>7eee76d1</td>\n",
       "      <td>NaN</td>\n",
       "      <td>32c7478e</td>\n",
       "      <td>9af06ad9</td>\n",
       "      <td>9d93af03</td>\n",
       "      <td>cdfe5ab7</td>\n",
       "      <td>26</td>\n",
       "    </tr>\n",
       "    <tr>\n",
       "      <th>2</th>\n",
       "      <td>0</td>\n",
       "      <td>8.0</td>\n",
       "      <td>0</td>\n",
       "      <td>15.0</td>\n",
       "      <td>20.0</td>\n",
       "      <td>115.0</td>\n",
       "      <td>24.0</td>\n",
       "      <td>8.0</td>\n",
       "      <td>23.0</td>\n",
       "      <td>24.0</td>\n",
       "      <td>...</td>\n",
       "      <td>1304f63b</td>\n",
       "      <td>21ddcdc9</td>\n",
       "      <td>b1252a9d</td>\n",
       "      <td>07b2853e</td>\n",
       "      <td>NaN</td>\n",
       "      <td>32c7478e</td>\n",
       "      <td>94bde4f2</td>\n",
       "      <td>010f6491</td>\n",
       "      <td>09b76f8d</td>\n",
       "      <td>39</td>\n",
       "    </tr>\n",
       "    <tr>\n",
       "      <th>3</th>\n",
       "      <td>1</td>\n",
       "      <td>88.0</td>\n",
       "      <td>319</td>\n",
       "      <td>NaN</td>\n",
       "      <td>4.0</td>\n",
       "      <td>5.0</td>\n",
       "      <td>4.0</td>\n",
       "      <td>89.0</td>\n",
       "      <td>40.0</td>\n",
       "      <td>88.0</td>\n",
       "      <td>...</td>\n",
       "      <td>bbf70d82</td>\n",
       "      <td>NaN</td>\n",
       "      <td>NaN</td>\n",
       "      <td>16e2e3b3</td>\n",
       "      <td>NaN</td>\n",
       "      <td>32c7478e</td>\n",
       "      <td>d859b4dd</td>\n",
       "      <td>NaN</td>\n",
       "      <td>NaN</td>\n",
       "      <td>41</td>\n",
       "    </tr>\n",
       "    <tr>\n",
       "      <th>4</th>\n",
       "      <td>0</td>\n",
       "      <td>0.0</td>\n",
       "      <td>53</td>\n",
       "      <td>NaN</td>\n",
       "      <td>10.0</td>\n",
       "      <td>6550.0</td>\n",
       "      <td>98.0</td>\n",
       "      <td>34.0</td>\n",
       "      <td>11.0</td>\n",
       "      <td>349.0</td>\n",
       "      <td>...</td>\n",
       "      <td>fa0643ee</td>\n",
       "      <td>21ddcdc9</td>\n",
       "      <td>b1252a9d</td>\n",
       "      <td>0094bc78</td>\n",
       "      <td>NaN</td>\n",
       "      <td>32c7478e</td>\n",
       "      <td>29ece3ed</td>\n",
       "      <td>001f3601</td>\n",
       "      <td>402185f3</td>\n",
       "      <td>85</td>\n",
       "    </tr>\n",
       "  </tbody>\n",
       "</table>\n",
       "<p>5 rows × 41 columns</p>\n",
       "</div>"
      ],
      "text/plain": [
       "   C0    C1   C2    C3    C4      C5    C6    C7    C8     C9  ...       C31  \\\n",
       "0   1   0.0   -1   NaN   NaN  1465.0   0.0  17.0   0.0    4.0  ...  e5f8f18f   \n",
       "1   1   0.0    1  20.0  16.0  1548.0  93.0  42.0  32.0  912.0  ...  1f868fdd   \n",
       "2   0   8.0    0  15.0  20.0   115.0  24.0   8.0  23.0   24.0  ...  1304f63b   \n",
       "3   1  88.0  319   NaN   4.0     5.0   4.0  89.0  40.0   88.0  ...  bbf70d82   \n",
       "4   0   0.0   53   NaN  10.0  6550.0  98.0  34.0  11.0  349.0  ...  fa0643ee   \n",
       "\n",
       "        C32       C33       C34  C35       C36       C37       C38       C39  \\\n",
       "0       NaN       NaN  f3ddd519  NaN  32c7478e  b34f3128       NaN       NaN   \n",
       "1  21ddcdc9  a458ea53  7eee76d1  NaN  32c7478e  9af06ad9  9d93af03  cdfe5ab7   \n",
       "2  21ddcdc9  b1252a9d  07b2853e  NaN  32c7478e  94bde4f2  010f6491  09b76f8d   \n",
       "3       NaN       NaN  16e2e3b3  NaN  32c7478e  d859b4dd       NaN       NaN   \n",
       "4  21ddcdc9  b1252a9d  0094bc78  NaN  32c7478e  29ece3ed  001f3601  402185f3   \n",
       "\n",
       "   ID  \n",
       "0  12  \n",
       "1  26  \n",
       "2  39  \n",
       "3  41  \n",
       "4  85  \n",
       "\n",
       "[5 rows x 41 columns]"
      ]
     },
     "execution_count": 8,
     "metadata": {},
     "output_type": "execute_result"
    }
   ],
   "source": [
    "train.head()"
   ]
  },
  {
   "cell_type": "code",
   "execution_count": 9,
   "metadata": {},
   "outputs": [
    {
     "data": {
      "text/plain": [
       "(13, 26)"
      ]
     },
     "execution_count": 9,
     "metadata": {},
     "output_type": "execute_result"
    }
   ],
   "source": [
    "num_columns = ['C{}'.format(i) for i in range(1, 14)]\n",
    "cat_columns = ['C{}'.format(i) for i in range(14, 40)]\n",
    "target = ['C0']\n",
    "len(num_columns), len(cat_columns)"
   ]
  },
  {
   "cell_type": "code",
   "execution_count": 10,
   "metadata": {},
   "outputs": [],
   "source": [
    "X, y = train.drop(columns=['C0', 'ID']), train['C0']"
   ]
  },
  {
   "cell_type": "markdown",
   "metadata": {},
   "source": [
    "# Data preprocessing"
   ]
  },
  {
   "cell_type": "code",
   "execution_count": 11,
   "metadata": {},
   "outputs": [],
   "source": [
    "X[num_columns] = X[num_columns].fillna(0)\n",
    "X[cat_columns] = X[cat_columns].fillna('-1')"
   ]
  },
  {
   "cell_type": "code",
   "execution_count": 12,
   "metadata": {},
   "outputs": [],
   "source": [
    "from sklearn.preprocessing import MinMaxScaler\n",
    "import category_encoders as ce"
   ]
  },
  {
   "cell_type": "code",
   "execution_count": 13,
   "metadata": {},
   "outputs": [],
   "source": [
    "X_encoded = X.copy()"
   ]
  },
  {
   "cell_type": "code",
   "execution_count": 14,
   "metadata": {},
   "outputs": [],
   "source": [
    "mms = MinMaxScaler(feature_range=(0, 1))"
   ]
  },
  {
   "cell_type": "code",
   "execution_count": 15,
   "metadata": {},
   "outputs": [],
   "source": [
    "X_encoded[num_columns] = mms.fit_transform(X_encoded[num_columns])"
   ]
  },
  {
   "cell_type": "code",
   "execution_count": 16,
   "metadata": {},
   "outputs": [],
   "source": [
    "encoder = ce.OrdinalEncoder(cols=cat_columns)"
   ]
  },
  {
   "cell_type": "code",
   "execution_count": 17,
   "metadata": {},
   "outputs": [
    {
     "name": "stderr",
     "output_type": "stream",
     "text": [
      "C:\\Anaconda3\\envs\\tf_fibi\\lib\\site-packages\\category_encoders\\utils.py:21: FutureWarning: is_categorical is deprecated and will be removed in a future version.  Use is_categorical_dtype instead\n",
      "  elif pd.api.types.is_categorical(cols):\n"
     ]
    }
   ],
   "source": [
    "X_encoded = encoder.fit_transform(X_encoded)"
   ]
  },
  {
   "cell_type": "code",
   "execution_count": 18,
   "metadata": {},
   "outputs": [],
   "source": [
    "X_train_encoded, X_valid_encoded, y_train, y_valid = train_test_split(X_encoded, y, stratify=y, random_state=SEED)"
   ]
  },
  {
   "cell_type": "code",
   "execution_count": 19,
   "metadata": {},
   "outputs": [
    {
     "data": {
      "text/html": [
       "<div>\n",
       "<style scoped>\n",
       "    .dataframe tbody tr th:only-of-type {\n",
       "        vertical-align: middle;\n",
       "    }\n",
       "\n",
       "    .dataframe tbody tr th {\n",
       "        vertical-align: top;\n",
       "    }\n",
       "\n",
       "    .dataframe thead th {\n",
       "        text-align: right;\n",
       "    }\n",
       "</style>\n",
       "<table border=\"1\" class=\"dataframe\">\n",
       "  <thead>\n",
       "    <tr style=\"text-align: right;\">\n",
       "      <th></th>\n",
       "      <th>C1</th>\n",
       "      <th>C2</th>\n",
       "      <th>C3</th>\n",
       "      <th>C4</th>\n",
       "      <th>C5</th>\n",
       "      <th>C6</th>\n",
       "      <th>C7</th>\n",
       "      <th>C8</th>\n",
       "      <th>C9</th>\n",
       "      <th>C10</th>\n",
       "      <th>...</th>\n",
       "      <th>C30</th>\n",
       "      <th>C31</th>\n",
       "      <th>C32</th>\n",
       "      <th>C33</th>\n",
       "      <th>C34</th>\n",
       "      <th>C35</th>\n",
       "      <th>C36</th>\n",
       "      <th>C37</th>\n",
       "      <th>C38</th>\n",
       "      <th>C39</th>\n",
       "    </tr>\n",
       "  </thead>\n",
       "  <tbody>\n",
       "    <tr>\n",
       "      <th>597429</th>\n",
       "      <td>0.000000</td>\n",
       "      <td>0.033123</td>\n",
       "      <td>0.000427</td>\n",
       "      <td>0.000000</td>\n",
       "      <td>5.553482e-04</td>\n",
       "      <td>0.000669</td>\n",
       "      <td>0.000202</td>\n",
       "      <td>0.004752</td>\n",
       "      <td>0.001966</td>\n",
       "      <td>0.000000</td>\n",
       "      <td>...</td>\n",
       "      <td>5</td>\n",
       "      <td>213</td>\n",
       "      <td>2</td>\n",
       "      <td>4</td>\n",
       "      <td>7150</td>\n",
       "      <td>1</td>\n",
       "      <td>1</td>\n",
       "      <td>229</td>\n",
       "      <td>20</td>\n",
       "      <td>166</td>\n",
       "    </tr>\n",
       "    <tr>\n",
       "      <th>1768963</th>\n",
       "      <td>0.000000</td>\n",
       "      <td>0.000136</td>\n",
       "      <td>0.000412</td>\n",
       "      <td>0.021665</td>\n",
       "      <td>5.553482e-04</td>\n",
       "      <td>0.002609</td>\n",
       "      <td>0.000101</td>\n",
       "      <td>0.005741</td>\n",
       "      <td>0.004450</td>\n",
       "      <td>0.000000</td>\n",
       "      <td>...</td>\n",
       "      <td>9</td>\n",
       "      <td>152</td>\n",
       "      <td>20</td>\n",
       "      <td>2</td>\n",
       "      <td>94823</td>\n",
       "      <td>1</td>\n",
       "      <td>4</td>\n",
       "      <td>56</td>\n",
       "      <td>12</td>\n",
       "      <td>44</td>\n",
       "    </tr>\n",
       "    <tr>\n",
       "      <th>1913948</th>\n",
       "      <td>0.000000</td>\n",
       "      <td>0.000861</td>\n",
       "      <td>0.000137</td>\n",
       "      <td>0.007982</td>\n",
       "      <td>8.473158e-04</td>\n",
       "      <td>0.000129</td>\n",
       "      <td>0.003737</td>\n",
       "      <td>0.001386</td>\n",
       "      <td>0.002949</td>\n",
       "      <td>0.000000</td>\n",
       "      <td>...</td>\n",
       "      <td>1</td>\n",
       "      <td>232</td>\n",
       "      <td>15</td>\n",
       "      <td>3</td>\n",
       "      <td>14484</td>\n",
       "      <td>1</td>\n",
       "      <td>3</td>\n",
       "      <td>261</td>\n",
       "      <td>3</td>\n",
       "      <td>191</td>\n",
       "    </tr>\n",
       "    <tr>\n",
       "      <th>266546</th>\n",
       "      <td>0.000000</td>\n",
       "      <td>0.000181</td>\n",
       "      <td>0.000076</td>\n",
       "      <td>0.007982</td>\n",
       "      <td>2.668111e-06</td>\n",
       "      <td>0.000000</td>\n",
       "      <td>0.000000</td>\n",
       "      <td>0.001782</td>\n",
       "      <td>0.000362</td>\n",
       "      <td>0.000000</td>\n",
       "      <td>...</td>\n",
       "      <td>7</td>\n",
       "      <td>118</td>\n",
       "      <td>1</td>\n",
       "      <td>1</td>\n",
       "      <td>275</td>\n",
       "      <td>4</td>\n",
       "      <td>2</td>\n",
       "      <td>112</td>\n",
       "      <td>1</td>\n",
       "      <td>1</td>\n",
       "    </tr>\n",
       "    <tr>\n",
       "      <th>800178</th>\n",
       "      <td>0.000519</td>\n",
       "      <td>0.000181</td>\n",
       "      <td>0.000031</td>\n",
       "      <td>0.000000</td>\n",
       "      <td>7.623174e-07</td>\n",
       "      <td>0.000000</td>\n",
       "      <td>0.000303</td>\n",
       "      <td>0.000198</td>\n",
       "      <td>0.000052</td>\n",
       "      <td>0.222222</td>\n",
       "      <td>...</td>\n",
       "      <td>1</td>\n",
       "      <td>33</td>\n",
       "      <td>36</td>\n",
       "      <td>3</td>\n",
       "      <td>226291</td>\n",
       "      <td>1</td>\n",
       "      <td>1</td>\n",
       "      <td>4950</td>\n",
       "      <td>4</td>\n",
       "      <td>3822</td>\n",
       "    </tr>\n",
       "  </tbody>\n",
       "</table>\n",
       "<p>5 rows × 39 columns</p>\n",
       "</div>"
      ],
      "text/plain": [
       "               C1        C2        C3        C4            C5        C6  \\\n",
       "597429   0.000000  0.033123  0.000427  0.000000  5.553482e-04  0.000669   \n",
       "1768963  0.000000  0.000136  0.000412  0.021665  5.553482e-04  0.002609   \n",
       "1913948  0.000000  0.000861  0.000137  0.007982  8.473158e-04  0.000129   \n",
       "266546   0.000000  0.000181  0.000076  0.007982  2.668111e-06  0.000000   \n",
       "800178   0.000519  0.000181  0.000031  0.000000  7.623174e-07  0.000000   \n",
       "\n",
       "               C7        C8        C9       C10  ...  C30  C31  C32  C33  \\\n",
       "597429   0.000202  0.004752  0.001966  0.000000  ...    5  213    2    4   \n",
       "1768963  0.000101  0.005741  0.004450  0.000000  ...    9  152   20    2   \n",
       "1913948  0.003737  0.001386  0.002949  0.000000  ...    1  232   15    3   \n",
       "266546   0.000000  0.001782  0.000362  0.000000  ...    7  118    1    1   \n",
       "800178   0.000303  0.000198  0.000052  0.222222  ...    1   33   36    3   \n",
       "\n",
       "            C34  C35  C36   C37  C38   C39  \n",
       "597429     7150    1    1   229   20   166  \n",
       "1768963   94823    1    4    56   12    44  \n",
       "1913948   14484    1    3   261    3   191  \n",
       "266546      275    4    2   112    1     1  \n",
       "800178   226291    1    1  4950    4  3822  \n",
       "\n",
       "[5 rows x 39 columns]"
      ]
     },
     "execution_count": 19,
     "metadata": {},
     "output_type": "execute_result"
    }
   ],
   "source": [
    "X_train_encoded.head()"
   ]
  },
  {
   "cell_type": "code",
   "execution_count": 20,
   "metadata": {},
   "outputs": [
    {
     "name": "stdout",
     "output_type": "stream",
     "text": [
      "WARNING:tensorflow:From C:\\Anaconda3\\envs\\tf_fibi\\lib\\site-packages\\tensorflow_core\\python\\keras\\initializers.py:143: calling RandomNormal.__init__ (from tensorflow.python.ops.init_ops) with dtype is deprecated and will be removed in a future version.\n",
      "Instructions for updating:\n",
      "Call initializer instance with the dtype argument instead of passing it to the constructor\n"
     ]
    }
   ],
   "source": [
    "sparse_features = [SparseFeat(feat, X_encoded[feat].nunique() + 1) for feat in cat_columns]\n",
    "# or using hashing\n",
    "# sparse_features = [SparseFeat(feat, vocabulary_size=1000, embedding_dim=4, use_hash=True, dtype='string')  for feat in cat_columns]\n",
    "dense_features = [DenseFeat(feat, 1) for feat in num_columns]"
   ]
  },
  {
   "cell_type": "code",
   "execution_count": 21,
   "metadata": {},
   "outputs": [],
   "source": [
    "fixlen_feature_columns = sparse_features + dense_features"
   ]
  },
  {
   "cell_type": "code",
   "execution_count": 22,
   "metadata": {},
   "outputs": [],
   "source": [
    "linear_feature_columns = fixlen_feature_columns\n",
    "dnn_feature_columns = fixlen_feature_columns\n",
    "feature_names = get_feature_names(linear_feature_columns + dnn_feature_columns)"
   ]
  },
  {
   "cell_type": "code",
   "execution_count": 23,
   "metadata": {},
   "outputs": [],
   "source": [
    "train_model_input = {name:X_train_encoded[name] for name in feature_names}"
   ]
  },
  {
   "cell_type": "code",
   "execution_count": 24,
   "metadata": {},
   "outputs": [],
   "source": [
    "test_model_input = {name:X_valid_encoded[name] for name in feature_names}"
   ]
  },
  {
   "cell_type": "markdown",
   "metadata": {},
   "source": [
    "# Model training"
   ]
  },
  {
   "cell_type": "code",
   "execution_count": 25,
   "metadata": {},
   "outputs": [],
   "source": [
    "from deepctr.models import DeepFM, CCPM, PNN, WDL, MLR, NFM, AFM, DCN, xDeepFM, AutoInt, ONN, FiBiNET\n",
    "from tensorflow.python.keras.callbacks import EarlyStopping, ModelCheckpoint\n",
    "\n",
    "from sklearn.metrics import roc_auc_score, log_loss"
   ]
  },
  {
   "cell_type": "code",
   "execution_count": 26,
   "metadata": {},
   "outputs": [],
   "source": [
    "def get_metrics(groups) -> pd.DataFrame:\n",
    "    metrics =  pd.DataFrame.from_records(groups, columns=groups.keys(), index=list(all_metrics.values())[0].keys())\n",
    "    metrics.index.name = 'metric'\n",
    "    return metrics\n",
    "\n",
    "def get_ate(groups, control_name) -> pd.DataFrame:\n",
    "    \"\"\"Get Average Treatment Effect\n",
    "    groups - dictionary where keys - names of models, values - dicts of pairs <metric_name>, <metric_value>\n",
    "    control_name - name of baseline model\n",
    "    \n",
    "    return pd.DataFrame (rows corresponds to metrics, cols corresponds to models and ATE with respect to control)\n",
    "    \"\"\"\n",
    "    metrics = get_metrics(groups)\n",
    "    return metrics.subtract(metrics[control_name], axis='index').drop(columns=control_name) * 100\n",
    "\n",
    "\n",
    "all_metrics = {}"
   ]
  },
  {
   "cell_type": "code",
   "execution_count": 27,
   "metadata": {},
   "outputs": [],
   "source": [
    "def test_model(model, train_model_input, test_model_input, y_train, y_valid, batch_size=4096 * 2, model_name='model'):\n",
    "    checkpoint_path = f'models/criteo/tensorflow/sparse/{model_name}'\n",
    "    os.makedirs(checkpoint_path, exist_ok=True)\n",
    "    checkpoint_path += '/model.ckpt'\n",
    "    \n",
    "    model.compile(\"adam\", \"binary_crossentropy\",\n",
    "              metrics=[\"binary_crossentropy\", tf.keras.metrics.AUC()])\n",
    "    \n",
    "    es = EarlyStopping(monitor='val_auc', verbose=1, patience=2, mode='max')\n",
    "    mdckpt = ModelCheckpoint(filepath=checkpoint_path, monitor='val_auc', mode='max', save_best_only=True, save_weights_only=True)\n",
    "    \n",
    "    history = model.fit(train_model_input, y_train,\n",
    "                        batch_size=batch_size, epochs=15, verbose=2, validation_split=0.2, callbacks=[es, mdckpt])\n",
    "    \n",
    "    model.load_weights(checkpoint_path)\n",
    "    \n",
    "    y_valid_predicted = model.predict(test_model_input, batch_size=batch_size).squeeze()\n",
    "    \n",
    "    scores = {\n",
    "        'roc-auc': roc_auc_score(y_valid, y_valid_predicted),\n",
    "        'log-loss': log_loss(y_valid, y_valid_predicted)        \n",
    "    }\n",
    "    del model\n",
    "    tf.keras.backend.clear_session()\n",
    "    return scores"
   ]
  },
  {
   "cell_type": "markdown",
   "metadata": {},
   "source": [
    "## CCPM (Convolutional Click Prediction Model)\n",
    "<img src=\"https://deepctr-torch.readthedocs.io/en/latest/_images/CCPM.png\" alt=\"drawing\" width=\"900\"/>"
   ]
  },
  {
   "cell_type": "code",
   "execution_count": 28,
   "metadata": {
    "scrolled": true
   },
   "outputs": [
    {
     "name": "stdout",
     "output_type": "stream",
     "text": [
      "WARNING:tensorflow:From C:\\Anaconda3\\envs\\tf_fibi\\lib\\site-packages\\tensorflow_core\\python\\ops\\resource_variable_ops.py:1630: calling BaseResourceVariable.__init__ (from tensorflow.python.ops.resource_variable_ops) with constraint is deprecated and will be removed in a future version.\n",
      "Instructions for updating:\n",
      "If using Keras pass *_constraint arguments to layers.\n",
      "WARNING:tensorflow:From C:\\Anaconda3\\envs\\tf_fibi\\lib\\site-packages\\deepctr\\layers\\utils.py:167: calling reduce_sum_v1 (from tensorflow.python.ops.math_ops) with keep_dims is deprecated and will be removed in a future version.\n",
      "Instructions for updating:\n",
      "keep_dims is deprecated, use keepdims instead\n"
     ]
    }
   ],
   "source": [
    "ccpm_model = CCPM(linear_feature_columns, sparse_features, dnn_dropout=0.5)"
   ]
  },
  {
   "cell_type": "code",
   "execution_count": 29,
   "metadata": {},
   "outputs": [
    {
     "name": "stdout",
     "output_type": "stream",
     "text": [
      "WARNING:tensorflow:From C:\\Anaconda3\\envs\\tf_fibi\\lib\\site-packages\\tensorflow_core\\python\\ops\\math_grad.py:1424: where (from tensorflow.python.ops.array_ops) is deprecated and will be removed in a future version.\n",
      "Instructions for updating:\n",
      "Use tf.where in 2.0, which has the same broadcast rule as np.where\n",
      "Train on 2198958 samples, validate on 549740 samples\n",
      "Epoch 1/15\n",
      "2198958/2198958 - 101s - loss: 0.5191 - binary_crossentropy: 0.5159 - auc: 0.7063 - val_loss: 0.4942 - val_binary_crossentropy: 0.4864 - val_auc: 0.7560\n",
      "Epoch 2/15\n",
      "2198958/2198958 - 98s - loss: 0.4838 - binary_crossentropy: 0.4709 - auc: 0.7761 - val_loss: 0.5004 - val_binary_crossentropy: 0.4838 - val_auc: 0.7595\n",
      "Epoch 3/15\n",
      "2198958/2198958 - 98s - loss: 0.4565 - binary_crossentropy: 0.4339 - auc: 0.8179 - val_loss: 0.5283 - val_binary_crossentropy: 0.5000 - val_auc: 0.7466\n",
      "Epoch 4/15\n",
      "2198958/2198958 - 98s - loss: 0.3953 - binary_crossentropy: 0.3669 - auc: 0.8731 - val_loss: 0.5610 - val_binary_crossentropy: 0.5309 - val_auc: 0.7346\n",
      "Epoch 00004: early stopping\n"
     ]
    }
   ],
   "source": [
    "all_metrics['CCPM'] = test_model(ccpm_model, train_model_input, test_model_input, y_train.values, y_valid, model_name='CCPM')"
   ]
  },
  {
   "cell_type": "markdown",
   "metadata": {},
   "source": [
    "## PNN (Product-based Neural Network)\n",
    "<!-- ![pic](https://deepctr-torch.readthedocs.io/en/latest/_images/PNN.png) -->\n",
    "<img src=\"https://deepctr-torch.readthedocs.io/en/latest/_images/PNN.png\" alt=\"drawing\" width=\"900\"/>"
   ]
  },
  {
   "cell_type": "code",
   "execution_count": 30,
   "metadata": {},
   "outputs": [],
   "source": [
    "pnn_model = PNN(dnn_feature_columns, dnn_dropout=0.5)"
   ]
  },
  {
   "cell_type": "code",
   "execution_count": 31,
   "metadata": {},
   "outputs": [
    {
     "name": "stdout",
     "output_type": "stream",
     "text": [
      "Train on 2198958 samples, validate on 549740 samples\n",
      "Epoch 1/15\n",
      "2198958/2198958 - 14s - loss: 0.5097 - binary_crossentropy: 0.5061 - auc: 0.7236 - val_loss: 0.4828 - val_binary_crossentropy: 0.4756 - val_auc: 0.7711\n",
      "Epoch 2/15\n",
      "2198958/2198958 - 12s - loss: 0.4573 - binary_crossentropy: 0.4422 - auc: 0.8110 - val_loss: 0.5067 - val_binary_crossentropy: 0.4840 - val_auc: 0.7633\n",
      "Epoch 3/15\n",
      "2198958/2198958 - 12s - loss: 0.3688 - binary_crossentropy: 0.3473 - auc: 0.8870 - val_loss: 0.5413 - val_binary_crossentropy: 0.5202 - val_auc: 0.7526\n",
      "Epoch 00003: early stopping\n"
     ]
    }
   ],
   "source": [
    "all_metrics['PNN'] = test_model(pnn_model, train_model_input, test_model_input, y_train.values, y_valid,  model_name='PNN')"
   ]
  },
  {
   "cell_type": "markdown",
   "metadata": {},
   "source": [
    "## Wide & Deep\n",
    "<!-- ![pic](https://deepctr-torch.readthedocs.io/en/latest/_images/WDL.png) -->\n",
    "<img src=\"https://deepctr-torch.readthedocs.io/en/latest/_images/WDL.png\" alt=\"drawing\" width=\"900\"/>"
   ]
  },
  {
   "cell_type": "code",
   "execution_count": 32,
   "metadata": {},
   "outputs": [],
   "source": [
    "wdl_model = WDL(linear_feature_columns, dnn_feature_columns, dnn_dropout=0.5)"
   ]
  },
  {
   "cell_type": "code",
   "execution_count": 33,
   "metadata": {},
   "outputs": [
    {
     "name": "stdout",
     "output_type": "stream",
     "text": [
      "Train on 2198958 samples, validate on 549740 samples\n",
      "Epoch 1/15\n",
      "2198958/2198958 - 13s - loss: 0.5047 - binary_crossentropy: 0.5007 - auc: 0.7322 - val_loss: 0.4831 - val_binary_crossentropy: 0.4750 - val_auc: 0.7719\n",
      "Epoch 2/15\n",
      "2198958/2198958 - 11s - loss: 0.4595 - binary_crossentropy: 0.4432 - auc: 0.8103 - val_loss: 0.5049 - val_binary_crossentropy: 0.4807 - val_auc: 0.7659\n",
      "Epoch 3/15\n",
      "2198958/2198958 - 11s - loss: 0.3712 - binary_crossentropy: 0.3485 - auc: 0.8859 - val_loss: 0.5446 - val_binary_crossentropy: 0.5225 - val_auc: 0.7487\n",
      "Epoch 00003: early stopping\n"
     ]
    }
   ],
   "source": [
    "all_metrics['WDL'] = test_model(wdl_model, train_model_input, test_model_input, y_train.values, y_valid, model_name='WDL')"
   ]
  },
  {
   "cell_type": "markdown",
   "metadata": {},
   "source": [
    "## DeepFM\n",
    "<img src=\"https://deepctr-torch.readthedocs.io/en/latest/_images/DeepFM.png\" alt=\"drawing\" width=\"900\"/>"
   ]
  },
  {
   "cell_type": "code",
   "execution_count": 34,
   "metadata": {
    "scrolled": true
   },
   "outputs": [],
   "source": [
    "deep_fm_model = DeepFM(linear_feature_columns, dnn_feature_columns, dnn_dropout=0.5)"
   ]
  },
  {
   "cell_type": "code",
   "execution_count": 35,
   "metadata": {},
   "outputs": [
    {
     "name": "stdout",
     "output_type": "stream",
     "text": [
      "Train on 2198958 samples, validate on 549740 samples\n",
      "Epoch 1/15\n",
      "2198958/2198958 - 13s - loss: 0.5048 - binary_crossentropy: 0.5007 - auc: 0.7320 - val_loss: 0.4832 - val_binary_crossentropy: 0.4750 - val_auc: 0.7719\n",
      "Epoch 2/15\n",
      "2198958/2198958 - 12s - loss: 0.4616 - binary_crossentropy: 0.4453 - auc: 0.8079 - val_loss: 0.5043 - val_binary_crossentropy: 0.4803 - val_auc: 0.7663\n",
      "Epoch 3/15\n",
      "2198958/2198958 - 11s - loss: 0.3726 - binary_crossentropy: 0.3498 - auc: 0.8855 - val_loss: 0.5426 - val_binary_crossentropy: 0.5201 - val_auc: 0.7508\n",
      "Epoch 00003: early stopping\n"
     ]
    }
   ],
   "source": [
    "all_metrics['DeepFM'] = test_model(deep_fm_model, train_model_input, test_model_input, y_train.values, y_valid, model_name='DeepFM')"
   ]
  },
  {
   "cell_type": "markdown",
   "metadata": {},
   "source": [
    "## MLR(Mixed Logistic Regression/Piece-wise Linear Model)\n",
    "<img src=\"https://deepctr-torch.readthedocs.io/en/latest/_images/MLR.png\" alt=\"drawing\" width=\"900\"/>"
   ]
  },
  {
   "cell_type": "code",
   "execution_count": 36,
   "metadata": {},
   "outputs": [],
   "source": [
    "mlr_model = MLR(linear_feature_columns, dnn_feature_columns)"
   ]
  },
  {
   "cell_type": "code",
   "execution_count": 37,
   "metadata": {},
   "outputs": [
    {
     "name": "stdout",
     "output_type": "stream",
     "text": [
      "Train on 2198958 samples, validate on 549740 samples\n",
      "Epoch 1/15\n",
      "2198958/2198958 - 20s - loss: 0.5362 - binary_crossentropy: 0.5337 - auc: 0.6770 - val_loss: 0.5053 - val_binary_crossentropy: 0.5013 - val_auc: 0.7408\n",
      "Epoch 2/15\n",
      "2198958/2198958 - 16s - loss: 0.4956 - binary_crossentropy: 0.4903 - auc: 0.7550 - val_loss: 0.4976 - val_binary_crossentropy: 0.4915 - val_auc: 0.7510\n",
      "Epoch 3/15\n",
      "2198958/2198958 - 15s - loss: 0.4894 - binary_crossentropy: 0.4823 - auc: 0.7646 - val_loss: 0.4953 - val_binary_crossentropy: 0.4879 - val_auc: 0.7552\n",
      "Epoch 4/15\n",
      "2198958/2198958 - 16s - loss: 0.4867 - binary_crossentropy: 0.4786 - auc: 0.7690 - val_loss: 0.4941 - val_binary_crossentropy: 0.4859 - val_auc: 0.7578\n",
      "Epoch 5/15\n",
      "2198958/2198958 - 16s - loss: 0.4851 - binary_crossentropy: 0.4764 - auc: 0.7718 - val_loss: 0.4934 - val_binary_crossentropy: 0.4846 - val_auc: 0.7596\n",
      "Epoch 6/15\n",
      "2198958/2198958 - 16s - loss: 0.4841 - binary_crossentropy: 0.4748 - auc: 0.7738 - val_loss: 0.4928 - val_binary_crossentropy: 0.4835 - val_auc: 0.7607\n",
      "Epoch 7/15\n",
      "2198958/2198958 - 16s - loss: 0.4833 - binary_crossentropy: 0.4737 - auc: 0.7751 - val_loss: 0.4923 - val_binary_crossentropy: 0.4828 - val_auc: 0.7617\n",
      "Epoch 8/15\n",
      "2198958/2198958 - 16s - loss: 0.4827 - binary_crossentropy: 0.4729 - auc: 0.7762 - val_loss: 0.4919 - val_binary_crossentropy: 0.4822 - val_auc: 0.7626\n",
      "Epoch 9/15\n",
      "2198958/2198958 - 16s - loss: 0.4822 - binary_crossentropy: 0.4722 - auc: 0.7771 - val_loss: 0.4916 - val_binary_crossentropy: 0.4817 - val_auc: 0.7632\n",
      "Epoch 10/15\n",
      "2198958/2198958 - 16s - loss: 0.4818 - binary_crossentropy: 0.4716 - auc: 0.7778 - val_loss: 0.4913 - val_binary_crossentropy: 0.4813 - val_auc: 0.7637\n",
      "Epoch 11/15\n",
      "2198958/2198958 - 16s - loss: 0.4815 - binary_crossentropy: 0.4712 - auc: 0.7782 - val_loss: 0.4910 - val_binary_crossentropy: 0.4809 - val_auc: 0.7643\n",
      "Epoch 12/15\n",
      "2198958/2198958 - 16s - loss: 0.4812 - binary_crossentropy: 0.4708 - auc: 0.7787 - val_loss: 0.4908 - val_binary_crossentropy: 0.4806 - val_auc: 0.7647\n",
      "Epoch 13/15\n",
      "2198958/2198958 - 16s - loss: 0.4810 - binary_crossentropy: 0.4705 - auc: 0.7791 - val_loss: 0.4907 - val_binary_crossentropy: 0.4804 - val_auc: 0.7650\n",
      "Epoch 14/15\n",
      "2198958/2198958 - 15s - loss: 0.4808 - binary_crossentropy: 0.4703 - auc: 0.7794 - val_loss: 0.4906 - val_binary_crossentropy: 0.4802 - val_auc: 0.7653\n",
      "Epoch 15/15\n",
      "2198958/2198958 - 16s - loss: 0.4807 - binary_crossentropy: 0.4701 - auc: 0.7797 - val_loss: 0.4904 - val_binary_crossentropy: 0.4800 - val_auc: 0.7656\n"
     ]
    }
   ],
   "source": [
    "all_metrics['MLR'] = test_model(mlr_model, train_model_input, test_model_input, y_train.values, y_valid, model_name='MLR')"
   ]
  },
  {
   "cell_type": "markdown",
   "metadata": {},
   "source": [
    "## NFM (Neural Factorization Machine)\n",
    "<img src=\"https://deepctr-torch.readthedocs.io/en/latest/_images/NFM.png\" alt=\"drawing\" width=\"900\"/>"
   ]
  },
  {
   "cell_type": "code",
   "execution_count": 38,
   "metadata": {},
   "outputs": [],
   "source": [
    "nfm_model = NFM(linear_feature_columns, dnn_feature_columns, dnn_dropout=0.5)"
   ]
  },
  {
   "cell_type": "code",
   "execution_count": 39,
   "metadata": {},
   "outputs": [
    {
     "name": "stdout",
     "output_type": "stream",
     "text": [
      "Train on 2198958 samples, validate on 549740 samples\n",
      "Epoch 1/15\n",
      "2198958/2198958 - 13s - loss: 0.5078 - binary_crossentropy: 0.5037 - auc: 0.7276 - val_loss: 0.4847 - val_binary_crossentropy: 0.4760 - val_auc: 0.7710\n",
      "Epoch 2/15\n",
      "2198958/2198958 - 12s - loss: 0.4703 - binary_crossentropy: 0.4567 - auc: 0.7946 - val_loss: 0.4912 - val_binary_crossentropy: 0.4739 - val_auc: 0.7738\n",
      "Epoch 3/15\n",
      "2198958/2198958 - 12s - loss: 0.4389 - binary_crossentropy: 0.4167 - auc: 0.8351 - val_loss: 0.5224 - val_binary_crossentropy: 0.4949 - val_auc: 0.7595\n",
      "Epoch 4/15\n",
      "2198958/2198958 - 12s - loss: 0.3886 - binary_crossentropy: 0.3610 - auc: 0.8779 - val_loss: 0.5678 - val_binary_crossentropy: 0.5386 - val_auc: 0.7446\n",
      "Epoch 00004: early stopping\n"
     ]
    }
   ],
   "source": [
    "all_metrics['NFM'] = test_model(nfm_model, train_model_input, test_model_input, y_train.values, y_valid, model_name='NFM')"
   ]
  },
  {
   "cell_type": "markdown",
   "metadata": {},
   "source": [
    "## AFM (Attentional Factorization Machine)\n",
    "<img src=\"https://deepctr-torch.readthedocs.io/en/latest/_images/AFM.png\" alt=\"drawing\" width=\"900\"/>"
   ]
  },
  {
   "cell_type": "code",
   "execution_count": 40,
   "metadata": {},
   "outputs": [
    {
     "name": "stdout",
     "output_type": "stream",
     "text": [
      "WARNING:tensorflow:From C:\\Anaconda3\\envs\\tf_fibi\\lib\\site-packages\\deepctr\\layers\\utils.py:206: calling softmax (from tensorflow.python.ops.nn_ops) with dim is deprecated and will be removed in a future version.\n",
      "Instructions for updating:\n",
      "dim is deprecated, use axis instead\n"
     ]
    }
   ],
   "source": [
    "afm_model = AFM(linear_feature_columns, sparse_features, afm_dropout=0.5)"
   ]
  },
  {
   "cell_type": "code",
   "execution_count": 41,
   "metadata": {},
   "outputs": [
    {
     "name": "stdout",
     "output_type": "stream",
     "text": [
      "Train on 2198958 samples, validate on 549740 samples\n",
      "Epoch 1/15\n",
      "2198958/2198958 - 20s - loss: 0.5428 - binary_crossentropy: 0.5414 - auc: 0.6623 - val_loss: 0.5132 - val_binary_crossentropy: 0.5102 - val_auc: 0.7290\n",
      "Epoch 2/15\n",
      "2198958/2198958 - 19s - loss: 0.5016 - binary_crossentropy: 0.4971 - auc: 0.7470 - val_loss: 0.5019 - val_binary_crossentropy: 0.4964 - val_auc: 0.7441\n",
      "Epoch 3/15\n",
      "2198958/2198958 - 18s - loss: 0.4932 - binary_crossentropy: 0.4867 - auc: 0.7584 - val_loss: 0.4985 - val_binary_crossentropy: 0.4915 - val_auc: 0.7501\n",
      "Epoch 4/15\n",
      "2198958/2198958 - 19s - loss: 0.4899 - binary_crossentropy: 0.4822 - auc: 0.7643 - val_loss: 0.4969 - val_binary_crossentropy: 0.4890 - val_auc: 0.7533\n",
      "Epoch 5/15\n",
      "2198958/2198958 - 18s - loss: 0.4879 - binary_crossentropy: 0.4794 - auc: 0.7678 - val_loss: 0.4958 - val_binary_crossentropy: 0.4873 - val_auc: 0.7556\n",
      "Epoch 6/15\n",
      "2198958/2198958 - 19s - loss: 0.4865 - binary_crossentropy: 0.4775 - auc: 0.7702 - val_loss: 0.4950 - val_binary_crossentropy: 0.4860 - val_auc: 0.7572\n",
      "Epoch 7/15\n",
      "2198958/2198958 - 19s - loss: 0.4855 - binary_crossentropy: 0.4760 - auc: 0.7720 - val_loss: 0.4943 - val_binary_crossentropy: 0.4850 - val_auc: 0.7586\n",
      "Epoch 8/15\n",
      "2198958/2198958 - 19s - loss: 0.4846 - binary_crossentropy: 0.4749 - auc: 0.7735 - val_loss: 0.4937 - val_binary_crossentropy: 0.4841 - val_auc: 0.7597\n",
      "Epoch 9/15\n",
      "2198958/2198958 - 19s - loss: 0.4839 - binary_crossentropy: 0.4740 - auc: 0.7746 - val_loss: 0.4931 - val_binary_crossentropy: 0.4834 - val_auc: 0.7608\n",
      "Epoch 10/15\n",
      "2198958/2198958 - 18s - loss: 0.4833 - binary_crossentropy: 0.4733 - auc: 0.7756 - val_loss: 0.4926 - val_binary_crossentropy: 0.4828 - val_auc: 0.7616\n",
      "Epoch 11/15\n",
      "2198958/2198958 - 18s - loss: 0.4828 - binary_crossentropy: 0.4726 - auc: 0.7764 - val_loss: 0.4922 - val_binary_crossentropy: 0.4823 - val_auc: 0.7623\n",
      "Epoch 12/15\n",
      "2198958/2198958 - 19s - loss: 0.4823 - binary_crossentropy: 0.4721 - auc: 0.7771 - val_loss: 0.4918 - val_binary_crossentropy: 0.4818 - val_auc: 0.7630\n",
      "Epoch 13/15\n",
      "2198958/2198958 - 19s - loss: 0.4819 - binary_crossentropy: 0.4716 - auc: 0.7777 - val_loss: 0.4915 - val_binary_crossentropy: 0.4815 - val_auc: 0.7634\n",
      "Epoch 14/15\n",
      "2198958/2198958 - 19s - loss: 0.4816 - binary_crossentropy: 0.4712 - auc: 0.7782 - val_loss: 0.4913 - val_binary_crossentropy: 0.4811 - val_auc: 0.7640\n",
      "Epoch 15/15\n",
      "2198958/2198958 - 18s - loss: 0.4813 - binary_crossentropy: 0.4709 - auc: 0.7787 - val_loss: 0.4910 - val_binary_crossentropy: 0.4808 - val_auc: 0.7644\n"
     ]
    }
   ],
   "source": [
    "all_metrics['AFM'] = test_model(afm_model, train_model_input, test_model_input, y_train.values, y_valid, model_name='AFM')"
   ]
  },
  {
   "cell_type": "markdown",
   "metadata": {},
   "source": [
    "## DCN (Deep & Cross Network)\n",
    "<img src=\"https://deepctr-torch.readthedocs.io/en/latest/_images/DCN.png\" alt=\"drawing\" width=\"900\"/>"
   ]
  },
  {
   "cell_type": "code",
   "execution_count": 42,
   "metadata": {},
   "outputs": [],
   "source": [
    "dcn_model = DCN(linear_feature_columns, dnn_feature_columns, dnn_dropout=0.5)"
   ]
  },
  {
   "cell_type": "code",
   "execution_count": 43,
   "metadata": {},
   "outputs": [
    {
     "name": "stdout",
     "output_type": "stream",
     "text": [
      "Train on 2198958 samples, validate on 549740 samples\n",
      "Epoch 1/15\n",
      "2198958/2198958 - 15s - loss: 0.5033 - binary_crossentropy: 0.4994 - auc: 0.7342 - val_loss: 0.4832 - val_binary_crossentropy: 0.4752 - val_auc: 0.7718\n",
      "Epoch 2/15\n",
      "2198958/2198958 - 13s - loss: 0.4628 - binary_crossentropy: 0.4471 - auc: 0.8064 - val_loss: 0.5025 - val_binary_crossentropy: 0.4798 - val_auc: 0.7673\n",
      "Epoch 3/15\n",
      "2198958/2198958 - 13s - loss: 0.3696 - binary_crossentropy: 0.3481 - auc: 0.8865 - val_loss: 0.5356 - val_binary_crossentropy: 0.5142 - val_auc: 0.7532\n",
      "Epoch 00003: early stopping\n"
     ]
    }
   ],
   "source": [
    "all_metrics['DCN'] = test_model(dcn_model, train_model_input, test_model_input, y_train.values, y_valid, model_name='DCN')"
   ]
  },
  {
   "cell_type": "markdown",
   "metadata": {},
   "source": [
    "## xDeepFM\n",
    "<img src=\"https://deepctr-torch.readthedocs.io/en/latest/_images/xDeepFM.png\" alt=\"drawing\" width=\"900\"/>"
   ]
  },
  {
   "cell_type": "code",
   "execution_count": 44,
   "metadata": {},
   "outputs": [],
   "source": [
    "xdeep_fm_model = xDeepFM(linear_feature_columns, dnn_feature_columns, dnn_dropout=0.5)"
   ]
  },
  {
   "cell_type": "code",
   "execution_count": 45,
   "metadata": {},
   "outputs": [
    {
     "name": "stdout",
     "output_type": "stream",
     "text": [
      "Train on 2198958 samples, validate on 549740 samples\n",
      "Epoch 1/15\n",
      "2198958/2198958 - 25s - loss: 0.4983 - binary_crossentropy: 0.4944 - auc: 0.7417 - val_loss: 0.4805 - val_binary_crossentropy: 0.4725 - val_auc: 0.7750\n",
      "Epoch 2/15\n",
      "2198958/2198958 - 22s - loss: 0.4331 - binary_crossentropy: 0.4171 - auc: 0.8351 - val_loss: 0.5180 - val_binary_crossentropy: 0.4942 - val_auc: 0.7611\n",
      "Epoch 3/15\n",
      "2198958/2198958 - 22s - loss: 0.3598 - binary_crossentropy: 0.3381 - auc: 0.8916 - val_loss: 0.5429 - val_binary_crossentropy: 0.5225 - val_auc: 0.7507\n",
      "Epoch 00003: early stopping\n"
     ]
    }
   ],
   "source": [
    "all_metrics['xDeepFM'] = test_model(xdeep_fm_model, train_model_input, test_model_input, y_train.values, y_valid, model_name='xDeepFM')"
   ]
  },
  {
   "cell_type": "markdown",
   "metadata": {},
   "source": [
    "## AutoInt(Automatic Feature Interaction)\n",
    "<img src=\"https://deepctr-torch.readthedocs.io/en/latest/_images/AutoInt.png\" alt=\"drawing\" width=\"900\"/>"
   ]
  },
  {
   "cell_type": "code",
   "execution_count": 46,
   "metadata": {},
   "outputs": [
    {
     "name": "stdout",
     "output_type": "stream",
     "text": [
      "WARNING:tensorflow:From C:\\Anaconda3\\envs\\tf_fibi\\lib\\site-packages\\deepctr\\layers\\interaction.py:569: The name tf.keras.initializers.TruncatedNormal is deprecated. Please use tf.compat.v1.keras.initializers.TruncatedNormal instead.\n",
      "\n",
      "WARNING:tensorflow:From C:\\Anaconda3\\envs\\tf_fibi\\lib\\site-packages\\tensorflow_core\\python\\keras\\initializers.py:94: calling TruncatedNormal.__init__ (from tensorflow.python.ops.init_ops) with dtype is deprecated and will be removed in a future version.\n",
      "Instructions for updating:\n",
      "Call initializer instance with the dtype argument instead of passing it to the constructor\n"
     ]
    }
   ],
   "source": [
    "auto_int_model = AutoInt(linear_feature_columns, dnn_feature_columns, dnn_dropout=0.5)"
   ]
  },
  {
   "cell_type": "code",
   "execution_count": 47,
   "metadata": {},
   "outputs": [
    {
     "name": "stdout",
     "output_type": "stream",
     "text": [
      "Train on 2198958 samples, validate on 549740 samples\n",
      "Epoch 1/15\n",
      "2198958/2198958 - 29s - loss: 0.5011 - binary_crossentropy: 0.4972 - auc: 0.7375 - val_loss: 0.4815 - val_binary_crossentropy: 0.4735 - val_auc: 0.7737\n",
      "Epoch 2/15\n",
      "2198958/2198958 - 27s - loss: 0.4414 - binary_crossentropy: 0.4251 - auc: 0.8280 - val_loss: 0.5189 - val_binary_crossentropy: 0.4940 - val_auc: 0.7582\n",
      "Epoch 3/15\n",
      "2198958/2198958 - 27s - loss: 0.3665 - binary_crossentropy: 0.3434 - auc: 0.8880 - val_loss: 0.5654 - val_binary_crossentropy: 0.5436 - val_auc: 0.7367\n",
      "Epoch 00003: early stopping\n"
     ]
    }
   ],
   "source": [
    "all_metrics['AutoInt'] = test_model(auto_int_model, train_model_input, test_model_input, y_train.values, y_valid, model_name='AutoInt')"
   ]
  },
  {
   "cell_type": "markdown",
   "metadata": {},
   "source": [
    "## FiBiNET(Feature Importance and Bilinear feature Interaction NETwork)\n",
    "<img src=\"https://deepctr-torch.readthedocs.io/en/latest/_images/FiBiNET.png\" alt=\"drawing\" width=\"900\"/>"
   ]
  },
  {
   "cell_type": "code",
   "execution_count": 48,
   "metadata": {},
   "outputs": [],
   "source": [
    "fibinet_interaction_model = FiBiNET(linear_feature_columns, dnn_feature_columns, bilinear_type='interaction', dnn_dropout=0.5)"
   ]
  },
  {
   "cell_type": "code",
   "execution_count": 49,
   "metadata": {},
   "outputs": [
    {
     "name": "stdout",
     "output_type": "stream",
     "text": [
      "Train on 2198958 samples, validate on 549740 samples\n",
      "Epoch 1/15\n",
      "2198958/2198958 - 49s - loss: 0.5079 - binary_crossentropy: 0.5045 - auc: 0.7257 - val_loss: 0.4805 - val_binary_crossentropy: 0.4734 - val_auc: 0.7746\n",
      "Epoch 2/15\n",
      "2198958/2198958 - 32s - loss: 0.4587 - binary_crossentropy: 0.4449 - auc: 0.8084 - val_loss: 0.5014 - val_binary_crossentropy: 0.4813 - val_auc: 0.7690\n",
      "Epoch 3/15\n",
      "2198958/2198958 - 32s - loss: 0.3650 - binary_crossentropy: 0.3453 - auc: 0.8885 - val_loss: 0.5386 - val_binary_crossentropy: 0.5179 - val_auc: 0.7537\n",
      "Epoch 00003: early stopping\n"
     ]
    }
   ],
   "source": [
    "all_metrics['FiBiNET-inter'] = test_model(fibinet_interaction_model, train_model_input, test_model_input, y_train.values, y_valid, model_name='FiBiNet-inter')"
   ]
  },
  {
   "cell_type": "code",
   "execution_count": 50,
   "metadata": {},
   "outputs": [],
   "source": [
    "fibinet_all_model = FiBiNET(linear_feature_columns, dnn_feature_columns, bilinear_type='all', dnn_dropout=0.5)"
   ]
  },
  {
   "cell_type": "code",
   "execution_count": 51,
   "metadata": {},
   "outputs": [
    {
     "name": "stdout",
     "output_type": "stream",
     "text": [
      "Train on 2198958 samples, validate on 549740 samples\n",
      "Epoch 1/15\n",
      "2198958/2198958 - 26s - loss: 0.5080 - binary_crossentropy: 0.5047 - auc: 0.7253 - val_loss: 0.4811 - val_binary_crossentropy: 0.4742 - val_auc: 0.7732\n",
      "Epoch 2/15\n",
      "2198958/2198958 - 20s - loss: 0.4609 - binary_crossentropy: 0.4471 - auc: 0.8059 - val_loss: 0.4974 - val_binary_crossentropy: 0.4771 - val_auc: 0.7712\n",
      "Epoch 3/15\n",
      "2198958/2198958 - 20s - loss: 0.3685 - binary_crossentropy: 0.3480 - auc: 0.8870 - val_loss: 0.5328 - val_binary_crossentropy: 0.5112 - val_auc: 0.7560\n",
      "Epoch 00003: early stopping\n"
     ]
    }
   ],
   "source": [
    "all_metrics['FiBiNET-all'] = test_model(fibinet_all_model, train_model_input, test_model_input, y_train.values, y_valid, model_name='FiBiNet-all')"
   ]
  },
  {
   "cell_type": "code",
   "execution_count": 52,
   "metadata": {},
   "outputs": [],
   "source": [
    "fibinet_each_model = FiBiNET(linear_feature_columns, dnn_feature_columns, bilinear_type='each', dnn_dropout=0.5)"
   ]
  },
  {
   "cell_type": "code",
   "execution_count": 53,
   "metadata": {},
   "outputs": [
    {
     "name": "stdout",
     "output_type": "stream",
     "text": [
      "Train on 2198958 samples, validate on 549740 samples\n",
      "Epoch 1/15\n",
      "2198958/2198958 - 26s - loss: 0.5080 - binary_crossentropy: 0.5046 - auc: 0.7253 - val_loss: 0.4806 - val_binary_crossentropy: 0.4736 - val_auc: 0.7747\n",
      "Epoch 2/15\n",
      "2198958/2198958 - 20s - loss: 0.4632 - binary_crossentropy: 0.4495 - auc: 0.8033 - val_loss: 0.4950 - val_binary_crossentropy: 0.4754 - val_auc: 0.7731\n",
      "Epoch 3/15\n",
      "2198958/2198958 - 20s - loss: 0.3705 - binary_crossentropy: 0.3509 - auc: 0.8853 - val_loss: 0.5272 - val_binary_crossentropy: 0.5066 - val_auc: 0.7581\n",
      "Epoch 00003: early stopping\n"
     ]
    }
   ],
   "source": [
    "all_metrics['FiBiNET-each'] = test_model(fibinet_each_model, train_model_input, test_model_input, y_train.values, y_valid, model_name='FiBiNet-each')"
   ]
  },
  {
   "cell_type": "markdown",
   "metadata": {},
   "source": [
    "# Результаты"
   ]
  },
  {
   "cell_type": "code",
   "execution_count": 54,
   "metadata": {},
   "outputs": [
    {
     "data": {
      "text/html": [
       "<div>\n",
       "<style scoped>\n",
       "    .dataframe tbody tr th:only-of-type {\n",
       "        vertical-align: middle;\n",
       "    }\n",
       "\n",
       "    .dataframe tbody tr th {\n",
       "        vertical-align: top;\n",
       "    }\n",
       "\n",
       "    .dataframe thead th {\n",
       "        text-align: right;\n",
       "    }\n",
       "</style>\n",
       "<table border=\"1\" class=\"dataframe\">\n",
       "  <thead>\n",
       "    <tr style=\"text-align: right;\">\n",
       "      <th></th>\n",
       "      <th>CCPM</th>\n",
       "      <th>PNN</th>\n",
       "      <th>WDL</th>\n",
       "      <th>DeepFM</th>\n",
       "      <th>MLR</th>\n",
       "      <th>NFM</th>\n",
       "      <th>AFM</th>\n",
       "      <th>DCN</th>\n",
       "      <th>xDeepFM</th>\n",
       "      <th>AutoInt</th>\n",
       "      <th>FiBiNET-inter</th>\n",
       "      <th>FiBiNET-all</th>\n",
       "      <th>FiBiNET-each</th>\n",
       "    </tr>\n",
       "    <tr>\n",
       "      <th>metric</th>\n",
       "      <th></th>\n",
       "      <th></th>\n",
       "      <th></th>\n",
       "      <th></th>\n",
       "      <th></th>\n",
       "      <th></th>\n",
       "      <th></th>\n",
       "      <th></th>\n",
       "      <th></th>\n",
       "      <th></th>\n",
       "      <th></th>\n",
       "      <th></th>\n",
       "      <th></th>\n",
       "    </tr>\n",
       "  </thead>\n",
       "  <tbody>\n",
       "    <tr>\n",
       "      <th>roc-auc</th>\n",
       "      <td>0.760732</td>\n",
       "      <td>0.772439</td>\n",
       "      <td>0.773036</td>\n",
       "      <td>0.773102</td>\n",
       "      <td>0.767278</td>\n",
       "      <td>0.774848</td>\n",
       "      <td>0.766106</td>\n",
       "      <td>0.772785</td>\n",
       "      <td>0.776003</td>\n",
       "      <td>0.774557</td>\n",
       "      <td>0.775675</td>\n",
       "      <td>0.774398</td>\n",
       "      <td>0.775636</td>\n",
       "    </tr>\n",
       "    <tr>\n",
       "      <th>log-loss</th>\n",
       "      <td>0.482173</td>\n",
       "      <td>0.473998</td>\n",
       "      <td>0.473490</td>\n",
       "      <td>0.473316</td>\n",
       "      <td>0.478206</td>\n",
       "      <td>0.472445</td>\n",
       "      <td>0.478988</td>\n",
       "      <td>0.473727</td>\n",
       "      <td>0.471138</td>\n",
       "      <td>0.472109</td>\n",
       "      <td>0.471906</td>\n",
       "      <td>0.472636</td>\n",
       "      <td>0.472175</td>\n",
       "    </tr>\n",
       "  </tbody>\n",
       "</table>\n",
       "</div>"
      ],
      "text/plain": [
       "              CCPM       PNN       WDL    DeepFM       MLR       NFM  \\\n",
       "metric                                                                 \n",
       "roc-auc   0.760732  0.772439  0.773036  0.773102  0.767278  0.774848   \n",
       "log-loss  0.482173  0.473998  0.473490  0.473316  0.478206  0.472445   \n",
       "\n",
       "               AFM       DCN   xDeepFM   AutoInt  FiBiNET-inter  FiBiNET-all  \\\n",
       "metric                                                                         \n",
       "roc-auc   0.766106  0.772785  0.776003  0.774557       0.775675     0.774398   \n",
       "log-loss  0.478988  0.473727  0.471138  0.472109       0.471906     0.472636   \n",
       "\n",
       "          FiBiNET-each  \n",
       "metric                  \n",
       "roc-auc       0.775636  \n",
       "log-loss      0.472175  "
      ]
     },
     "execution_count": 54,
     "metadata": {},
     "output_type": "execute_result"
    }
   ],
   "source": [
    "get_metrics(all_metrics)"
   ]
  },
  {
   "cell_type": "code",
   "execution_count": 55,
   "metadata": {},
   "outputs": [
    {
     "data": {
      "text/html": [
       "<div>\n",
       "<style scoped>\n",
       "    .dataframe tbody tr th:only-of-type {\n",
       "        vertical-align: middle;\n",
       "    }\n",
       "\n",
       "    .dataframe tbody tr th {\n",
       "        vertical-align: top;\n",
       "    }\n",
       "\n",
       "    .dataframe thead th {\n",
       "        text-align: right;\n",
       "    }\n",
       "</style>\n",
       "<table border=\"1\" class=\"dataframe\">\n",
       "  <thead>\n",
       "    <tr style=\"text-align: right;\">\n",
       "      <th></th>\n",
       "      <th>CCPM</th>\n",
       "      <th>PNN</th>\n",
       "      <th>WDL</th>\n",
       "      <th>MLR</th>\n",
       "      <th>NFM</th>\n",
       "      <th>AFM</th>\n",
       "      <th>DCN</th>\n",
       "      <th>xDeepFM</th>\n",
       "      <th>AutoInt</th>\n",
       "      <th>FiBiNET-inter</th>\n",
       "      <th>FiBiNET-all</th>\n",
       "      <th>FiBiNET-each</th>\n",
       "    </tr>\n",
       "    <tr>\n",
       "      <th>metric</th>\n",
       "      <th></th>\n",
       "      <th></th>\n",
       "      <th></th>\n",
       "      <th></th>\n",
       "      <th></th>\n",
       "      <th></th>\n",
       "      <th></th>\n",
       "      <th></th>\n",
       "      <th></th>\n",
       "      <th></th>\n",
       "      <th></th>\n",
       "      <th></th>\n",
       "    </tr>\n",
       "  </thead>\n",
       "  <tbody>\n",
       "    <tr>\n",
       "      <th>roc-auc</th>\n",
       "      <td>-1.237039</td>\n",
       "      <td>-0.066382</td>\n",
       "      <td>-0.006662</td>\n",
       "      <td>-0.582453</td>\n",
       "      <td>0.174585</td>\n",
       "      <td>-0.699617</td>\n",
       "      <td>-0.031779</td>\n",
       "      <td>0.290032</td>\n",
       "      <td>0.14542</td>\n",
       "      <td>0.257312</td>\n",
       "      <td>0.129543</td>\n",
       "      <td>0.253338</td>\n",
       "    </tr>\n",
       "    <tr>\n",
       "      <th>log-loss</th>\n",
       "      <td>0.885681</td>\n",
       "      <td>0.068183</td>\n",
       "      <td>0.017370</td>\n",
       "      <td>0.488952</td>\n",
       "      <td>-0.087124</td>\n",
       "      <td>0.567238</td>\n",
       "      <td>0.041056</td>\n",
       "      <td>-0.217757</td>\n",
       "      <td>-0.12069</td>\n",
       "      <td>-0.141011</td>\n",
       "      <td>-0.068035</td>\n",
       "      <td>-0.114085</td>\n",
       "    </tr>\n",
       "  </tbody>\n",
       "</table>\n",
       "</div>"
      ],
      "text/plain": [
       "              CCPM       PNN       WDL       MLR       NFM       AFM  \\\n",
       "metric                                                                 \n",
       "roc-auc  -1.237039 -0.066382 -0.006662 -0.582453  0.174585 -0.699617   \n",
       "log-loss  0.885681  0.068183  0.017370  0.488952 -0.087124  0.567238   \n",
       "\n",
       "               DCN   xDeepFM  AutoInt  FiBiNET-inter  FiBiNET-all  \\\n",
       "metric                                                              \n",
       "roc-auc  -0.031779  0.290032  0.14542       0.257312     0.129543   \n",
       "log-loss  0.041056 -0.217757 -0.12069      -0.141011    -0.068035   \n",
       "\n",
       "          FiBiNET-each  \n",
       "metric                  \n",
       "roc-auc       0.253338  \n",
       "log-loss     -0.114085  "
      ]
     },
     "execution_count": 55,
     "metadata": {},
     "output_type": "execute_result"
    }
   ],
   "source": [
    "get_ate(all_metrics, control_name='DeepFM')"
   ]
  },
  {
   "cell_type": "code",
   "execution_count": 56,
   "metadata": {},
   "outputs": [
    {
     "data": {
      "text/html": [
       "<div>\n",
       "<style scoped>\n",
       "    .dataframe tbody tr th:only-of-type {\n",
       "        vertical-align: middle;\n",
       "    }\n",
       "\n",
       "    .dataframe tbody tr th {\n",
       "        vertical-align: top;\n",
       "    }\n",
       "\n",
       "    .dataframe thead th {\n",
       "        text-align: right;\n",
       "    }\n",
       "</style>\n",
       "<table border=\"1\" class=\"dataframe\">\n",
       "  <thead>\n",
       "    <tr style=\"text-align: right;\">\n",
       "      <th></th>\n",
       "      <th>CCPM</th>\n",
       "      <th>PNN</th>\n",
       "      <th>WDL</th>\n",
       "      <th>DeepFM</th>\n",
       "      <th>MLR</th>\n",
       "      <th>NFM</th>\n",
       "      <th>AFM</th>\n",
       "      <th>DCN</th>\n",
       "      <th>xDeepFM</th>\n",
       "      <th>AutoInt</th>\n",
       "      <th>FiBiNET-all</th>\n",
       "      <th>FiBiNET-each</th>\n",
       "    </tr>\n",
       "    <tr>\n",
       "      <th>metric</th>\n",
       "      <th></th>\n",
       "      <th></th>\n",
       "      <th></th>\n",
       "      <th></th>\n",
       "      <th></th>\n",
       "      <th></th>\n",
       "      <th></th>\n",
       "      <th></th>\n",
       "      <th></th>\n",
       "      <th></th>\n",
       "      <th></th>\n",
       "      <th></th>\n",
       "    </tr>\n",
       "  </thead>\n",
       "  <tbody>\n",
       "    <tr>\n",
       "      <th>roc-auc</th>\n",
       "      <td>-1.494351</td>\n",
       "      <td>-0.323694</td>\n",
       "      <td>-0.263974</td>\n",
       "      <td>-0.257312</td>\n",
       "      <td>-0.839765</td>\n",
       "      <td>-0.082727</td>\n",
       "      <td>-0.956929</td>\n",
       "      <td>-0.289091</td>\n",
       "      <td>0.032720</td>\n",
       "      <td>-0.111892</td>\n",
       "      <td>-0.127769</td>\n",
       "      <td>-0.003974</td>\n",
       "    </tr>\n",
       "    <tr>\n",
       "      <th>log-loss</th>\n",
       "      <td>1.026692</td>\n",
       "      <td>0.209194</td>\n",
       "      <td>0.158381</td>\n",
       "      <td>0.141011</td>\n",
       "      <td>0.629964</td>\n",
       "      <td>0.053887</td>\n",
       "      <td>0.708250</td>\n",
       "      <td>0.182068</td>\n",
       "      <td>-0.076746</td>\n",
       "      <td>0.020321</td>\n",
       "      <td>0.072977</td>\n",
       "      <td>0.026927</td>\n",
       "    </tr>\n",
       "  </tbody>\n",
       "</table>\n",
       "</div>"
      ],
      "text/plain": [
       "              CCPM       PNN       WDL    DeepFM       MLR       NFM  \\\n",
       "metric                                                                 \n",
       "roc-auc  -1.494351 -0.323694 -0.263974 -0.257312 -0.839765 -0.082727   \n",
       "log-loss  1.026692  0.209194  0.158381  0.141011  0.629964  0.053887   \n",
       "\n",
       "               AFM       DCN   xDeepFM   AutoInt  FiBiNET-all  FiBiNET-each  \n",
       "metric                                                                       \n",
       "roc-auc  -0.956929 -0.289091  0.032720 -0.111892    -0.127769     -0.003974  \n",
       "log-loss  0.708250  0.182068 -0.076746  0.020321     0.072977      0.026927  "
      ]
     },
     "execution_count": 56,
     "metadata": {},
     "output_type": "execute_result"
    }
   ],
   "source": [
    "get_ate(all_metrics, control_name='FiBiNET-inter')"
   ]
  }
 ],
 "metadata": {
  "kernelspec": {
   "display_name": "Python 3",
   "language": "python",
   "name": "python3"
  },
  "language_info": {
   "codemirror_mode": {
    "name": "ipython",
    "version": 3
   },
   "file_extension": ".py",
   "mimetype": "text/x-python",
   "name": "python",
   "nbconvert_exporter": "python",
   "pygments_lexer": "ipython3",
   "version": "3.6.12"
  }
 },
 "nbformat": 4,
 "nbformat_minor": 4
}
