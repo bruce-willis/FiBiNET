{
 "cells": [
  {
   "cell_type": "code",
   "execution_count": 1,
   "metadata": {},
   "outputs": [],
   "source": [
    "import os\n",
    "import shutil\n",
    "import sys\n",
    "import glob\n",
    "import pickle\n",
    "import numpy as np\n",
    "import pandas as pd\n",
    "import random\n",
    "import torch\n",
    "from sklearn.model_selection import train_test_split\n",
    "\n",
    "from pathlib import Path"
   ]
  },
  {
   "cell_type": "code",
   "execution_count": 2,
   "metadata": {},
   "outputs": [],
   "source": [
    "SEED = 42\n",
    "if SEED is not None:\n",
    "    np.random.seed(SEED)\n",
    "    random.seed(SEED)\n",
    "    torch.manual_seed(SEED)"
   ]
  },
  {
   "cell_type": "code",
   "execution_count": 3,
   "metadata": {},
   "outputs": [],
   "source": [
    "from deepctr_torch.inputs import SparseFeat, DenseFeat,get_feature_names"
   ]
  },
  {
   "cell_type": "markdown",
   "metadata": {},
   "source": [
    "## Чтение данных"
   ]
  },
  {
   "cell_type": "code",
   "execution_count": 4,
   "metadata": {},
   "outputs": [],
   "source": [
    "DATA_PATH = Path('data') / 'criteo-part'\n",
    "\n",
    "TRAIN_PATH = str(DATA_PATH / 'train.csv')"
   ]
  },
  {
   "cell_type": "code",
   "execution_count": 5,
   "metadata": {},
   "outputs": [],
   "source": [
    "train = pd.read_csv(TRAIN_PATH)"
   ]
  },
  {
   "cell_type": "code",
   "execution_count": 6,
   "metadata": {},
   "outputs": [
    {
     "data": {
      "text/html": [
       "<div>\n",
       "<style scoped>\n",
       "    .dataframe tbody tr th:only-of-type {\n",
       "        vertical-align: middle;\n",
       "    }\n",
       "\n",
       "    .dataframe tbody tr th {\n",
       "        vertical-align: top;\n",
       "    }\n",
       "\n",
       "    .dataframe thead th {\n",
       "        text-align: right;\n",
       "    }\n",
       "</style>\n",
       "<table border=\"1\" class=\"dataframe\">\n",
       "  <thead>\n",
       "    <tr style=\"text-align: right;\">\n",
       "      <th></th>\n",
       "      <th>_c0</th>\n",
       "      <th>_c1</th>\n",
       "      <th>_c2</th>\n",
       "      <th>_c3</th>\n",
       "      <th>_c4</th>\n",
       "      <th>_c5</th>\n",
       "      <th>_c6</th>\n",
       "      <th>_c7</th>\n",
       "      <th>_c8</th>\n",
       "      <th>_c9</th>\n",
       "      <th>...</th>\n",
       "      <th>_c31</th>\n",
       "      <th>_c32</th>\n",
       "      <th>_c33</th>\n",
       "      <th>_c34</th>\n",
       "      <th>_c35</th>\n",
       "      <th>_c36</th>\n",
       "      <th>_c37</th>\n",
       "      <th>_c38</th>\n",
       "      <th>_c39</th>\n",
       "      <th>id</th>\n",
       "    </tr>\n",
       "  </thead>\n",
       "  <tbody>\n",
       "    <tr>\n",
       "      <th>0</th>\n",
       "      <td>1</td>\n",
       "      <td>0.0</td>\n",
       "      <td>-1</td>\n",
       "      <td>NaN</td>\n",
       "      <td>NaN</td>\n",
       "      <td>1465.0</td>\n",
       "      <td>0.0</td>\n",
       "      <td>17.0</td>\n",
       "      <td>0.0</td>\n",
       "      <td>4.0</td>\n",
       "      <td>...</td>\n",
       "      <td>e5f8f18f</td>\n",
       "      <td>NaN</td>\n",
       "      <td>NaN</td>\n",
       "      <td>f3ddd519</td>\n",
       "      <td>NaN</td>\n",
       "      <td>32c7478e</td>\n",
       "      <td>b34f3128</td>\n",
       "      <td>NaN</td>\n",
       "      <td>NaN</td>\n",
       "      <td>12</td>\n",
       "    </tr>\n",
       "    <tr>\n",
       "      <th>1</th>\n",
       "      <td>1</td>\n",
       "      <td>0.0</td>\n",
       "      <td>1</td>\n",
       "      <td>20.0</td>\n",
       "      <td>16.0</td>\n",
       "      <td>1548.0</td>\n",
       "      <td>93.0</td>\n",
       "      <td>42.0</td>\n",
       "      <td>32.0</td>\n",
       "      <td>912.0</td>\n",
       "      <td>...</td>\n",
       "      <td>1f868fdd</td>\n",
       "      <td>21ddcdc9</td>\n",
       "      <td>a458ea53</td>\n",
       "      <td>7eee76d1</td>\n",
       "      <td>NaN</td>\n",
       "      <td>32c7478e</td>\n",
       "      <td>9af06ad9</td>\n",
       "      <td>9d93af03</td>\n",
       "      <td>cdfe5ab7</td>\n",
       "      <td>26</td>\n",
       "    </tr>\n",
       "    <tr>\n",
       "      <th>2</th>\n",
       "      <td>0</td>\n",
       "      <td>8.0</td>\n",
       "      <td>0</td>\n",
       "      <td>15.0</td>\n",
       "      <td>20.0</td>\n",
       "      <td>115.0</td>\n",
       "      <td>24.0</td>\n",
       "      <td>8.0</td>\n",
       "      <td>23.0</td>\n",
       "      <td>24.0</td>\n",
       "      <td>...</td>\n",
       "      <td>1304f63b</td>\n",
       "      <td>21ddcdc9</td>\n",
       "      <td>b1252a9d</td>\n",
       "      <td>07b2853e</td>\n",
       "      <td>NaN</td>\n",
       "      <td>32c7478e</td>\n",
       "      <td>94bde4f2</td>\n",
       "      <td>010f6491</td>\n",
       "      <td>09b76f8d</td>\n",
       "      <td>39</td>\n",
       "    </tr>\n",
       "    <tr>\n",
       "      <th>3</th>\n",
       "      <td>1</td>\n",
       "      <td>88.0</td>\n",
       "      <td>319</td>\n",
       "      <td>NaN</td>\n",
       "      <td>4.0</td>\n",
       "      <td>5.0</td>\n",
       "      <td>4.0</td>\n",
       "      <td>89.0</td>\n",
       "      <td>40.0</td>\n",
       "      <td>88.0</td>\n",
       "      <td>...</td>\n",
       "      <td>bbf70d82</td>\n",
       "      <td>NaN</td>\n",
       "      <td>NaN</td>\n",
       "      <td>16e2e3b3</td>\n",
       "      <td>NaN</td>\n",
       "      <td>32c7478e</td>\n",
       "      <td>d859b4dd</td>\n",
       "      <td>NaN</td>\n",
       "      <td>NaN</td>\n",
       "      <td>41</td>\n",
       "    </tr>\n",
       "    <tr>\n",
       "      <th>4</th>\n",
       "      <td>0</td>\n",
       "      <td>0.0</td>\n",
       "      <td>53</td>\n",
       "      <td>NaN</td>\n",
       "      <td>10.0</td>\n",
       "      <td>6550.0</td>\n",
       "      <td>98.0</td>\n",
       "      <td>34.0</td>\n",
       "      <td>11.0</td>\n",
       "      <td>349.0</td>\n",
       "      <td>...</td>\n",
       "      <td>fa0643ee</td>\n",
       "      <td>21ddcdc9</td>\n",
       "      <td>b1252a9d</td>\n",
       "      <td>0094bc78</td>\n",
       "      <td>NaN</td>\n",
       "      <td>32c7478e</td>\n",
       "      <td>29ece3ed</td>\n",
       "      <td>001f3601</td>\n",
       "      <td>402185f3</td>\n",
       "      <td>85</td>\n",
       "    </tr>\n",
       "  </tbody>\n",
       "</table>\n",
       "<p>5 rows × 41 columns</p>\n",
       "</div>"
      ],
      "text/plain": [
       "   _c0   _c1  _c2   _c3   _c4     _c5   _c6   _c7   _c8    _c9  ...      _c31  \\\n",
       "0    1   0.0   -1   NaN   NaN  1465.0   0.0  17.0   0.0    4.0  ...  e5f8f18f   \n",
       "1    1   0.0    1  20.0  16.0  1548.0  93.0  42.0  32.0  912.0  ...  1f868fdd   \n",
       "2    0   8.0    0  15.0  20.0   115.0  24.0   8.0  23.0   24.0  ...  1304f63b   \n",
       "3    1  88.0  319   NaN   4.0     5.0   4.0  89.0  40.0   88.0  ...  bbf70d82   \n",
       "4    0   0.0   53   NaN  10.0  6550.0  98.0  34.0  11.0  349.0  ...  fa0643ee   \n",
       "\n",
       "       _c32      _c33      _c34 _c35      _c36      _c37      _c38      _c39  \\\n",
       "0       NaN       NaN  f3ddd519  NaN  32c7478e  b34f3128       NaN       NaN   \n",
       "1  21ddcdc9  a458ea53  7eee76d1  NaN  32c7478e  9af06ad9  9d93af03  cdfe5ab7   \n",
       "2  21ddcdc9  b1252a9d  07b2853e  NaN  32c7478e  94bde4f2  010f6491  09b76f8d   \n",
       "3       NaN       NaN  16e2e3b3  NaN  32c7478e  d859b4dd       NaN       NaN   \n",
       "4  21ddcdc9  b1252a9d  0094bc78  NaN  32c7478e  29ece3ed  001f3601  402185f3   \n",
       "\n",
       "   id  \n",
       "0  12  \n",
       "1  26  \n",
       "2  39  \n",
       "3  41  \n",
       "4  85  \n",
       "\n",
       "[5 rows x 41 columns]"
      ]
     },
     "execution_count": 6,
     "metadata": {},
     "output_type": "execute_result"
    }
   ],
   "source": [
    "train.head()"
   ]
  },
  {
   "cell_type": "code",
   "execution_count": 7,
   "metadata": {},
   "outputs": [],
   "source": [
    "train = train.rename(columns=lambda x: x.replace('_', '').upper())"
   ]
  },
  {
   "cell_type": "code",
   "execution_count": 8,
   "metadata": {},
   "outputs": [
    {
     "data": {
      "text/html": [
       "<div>\n",
       "<style scoped>\n",
       "    .dataframe tbody tr th:only-of-type {\n",
       "        vertical-align: middle;\n",
       "    }\n",
       "\n",
       "    .dataframe tbody tr th {\n",
       "        vertical-align: top;\n",
       "    }\n",
       "\n",
       "    .dataframe thead th {\n",
       "        text-align: right;\n",
       "    }\n",
       "</style>\n",
       "<table border=\"1\" class=\"dataframe\">\n",
       "  <thead>\n",
       "    <tr style=\"text-align: right;\">\n",
       "      <th></th>\n",
       "      <th>C0</th>\n",
       "      <th>C1</th>\n",
       "      <th>C2</th>\n",
       "      <th>C3</th>\n",
       "      <th>C4</th>\n",
       "      <th>C5</th>\n",
       "      <th>C6</th>\n",
       "      <th>C7</th>\n",
       "      <th>C8</th>\n",
       "      <th>C9</th>\n",
       "      <th>...</th>\n",
       "      <th>C31</th>\n",
       "      <th>C32</th>\n",
       "      <th>C33</th>\n",
       "      <th>C34</th>\n",
       "      <th>C35</th>\n",
       "      <th>C36</th>\n",
       "      <th>C37</th>\n",
       "      <th>C38</th>\n",
       "      <th>C39</th>\n",
       "      <th>ID</th>\n",
       "    </tr>\n",
       "  </thead>\n",
       "  <tbody>\n",
       "    <tr>\n",
       "      <th>0</th>\n",
       "      <td>1</td>\n",
       "      <td>0.0</td>\n",
       "      <td>-1</td>\n",
       "      <td>NaN</td>\n",
       "      <td>NaN</td>\n",
       "      <td>1465.0</td>\n",
       "      <td>0.0</td>\n",
       "      <td>17.0</td>\n",
       "      <td>0.0</td>\n",
       "      <td>4.0</td>\n",
       "      <td>...</td>\n",
       "      <td>e5f8f18f</td>\n",
       "      <td>NaN</td>\n",
       "      <td>NaN</td>\n",
       "      <td>f3ddd519</td>\n",
       "      <td>NaN</td>\n",
       "      <td>32c7478e</td>\n",
       "      <td>b34f3128</td>\n",
       "      <td>NaN</td>\n",
       "      <td>NaN</td>\n",
       "      <td>12</td>\n",
       "    </tr>\n",
       "    <tr>\n",
       "      <th>1</th>\n",
       "      <td>1</td>\n",
       "      <td>0.0</td>\n",
       "      <td>1</td>\n",
       "      <td>20.0</td>\n",
       "      <td>16.0</td>\n",
       "      <td>1548.0</td>\n",
       "      <td>93.0</td>\n",
       "      <td>42.0</td>\n",
       "      <td>32.0</td>\n",
       "      <td>912.0</td>\n",
       "      <td>...</td>\n",
       "      <td>1f868fdd</td>\n",
       "      <td>21ddcdc9</td>\n",
       "      <td>a458ea53</td>\n",
       "      <td>7eee76d1</td>\n",
       "      <td>NaN</td>\n",
       "      <td>32c7478e</td>\n",
       "      <td>9af06ad9</td>\n",
       "      <td>9d93af03</td>\n",
       "      <td>cdfe5ab7</td>\n",
       "      <td>26</td>\n",
       "    </tr>\n",
       "    <tr>\n",
       "      <th>2</th>\n",
       "      <td>0</td>\n",
       "      <td>8.0</td>\n",
       "      <td>0</td>\n",
       "      <td>15.0</td>\n",
       "      <td>20.0</td>\n",
       "      <td>115.0</td>\n",
       "      <td>24.0</td>\n",
       "      <td>8.0</td>\n",
       "      <td>23.0</td>\n",
       "      <td>24.0</td>\n",
       "      <td>...</td>\n",
       "      <td>1304f63b</td>\n",
       "      <td>21ddcdc9</td>\n",
       "      <td>b1252a9d</td>\n",
       "      <td>07b2853e</td>\n",
       "      <td>NaN</td>\n",
       "      <td>32c7478e</td>\n",
       "      <td>94bde4f2</td>\n",
       "      <td>010f6491</td>\n",
       "      <td>09b76f8d</td>\n",
       "      <td>39</td>\n",
       "    </tr>\n",
       "    <tr>\n",
       "      <th>3</th>\n",
       "      <td>1</td>\n",
       "      <td>88.0</td>\n",
       "      <td>319</td>\n",
       "      <td>NaN</td>\n",
       "      <td>4.0</td>\n",
       "      <td>5.0</td>\n",
       "      <td>4.0</td>\n",
       "      <td>89.0</td>\n",
       "      <td>40.0</td>\n",
       "      <td>88.0</td>\n",
       "      <td>...</td>\n",
       "      <td>bbf70d82</td>\n",
       "      <td>NaN</td>\n",
       "      <td>NaN</td>\n",
       "      <td>16e2e3b3</td>\n",
       "      <td>NaN</td>\n",
       "      <td>32c7478e</td>\n",
       "      <td>d859b4dd</td>\n",
       "      <td>NaN</td>\n",
       "      <td>NaN</td>\n",
       "      <td>41</td>\n",
       "    </tr>\n",
       "    <tr>\n",
       "      <th>4</th>\n",
       "      <td>0</td>\n",
       "      <td>0.0</td>\n",
       "      <td>53</td>\n",
       "      <td>NaN</td>\n",
       "      <td>10.0</td>\n",
       "      <td>6550.0</td>\n",
       "      <td>98.0</td>\n",
       "      <td>34.0</td>\n",
       "      <td>11.0</td>\n",
       "      <td>349.0</td>\n",
       "      <td>...</td>\n",
       "      <td>fa0643ee</td>\n",
       "      <td>21ddcdc9</td>\n",
       "      <td>b1252a9d</td>\n",
       "      <td>0094bc78</td>\n",
       "      <td>NaN</td>\n",
       "      <td>32c7478e</td>\n",
       "      <td>29ece3ed</td>\n",
       "      <td>001f3601</td>\n",
       "      <td>402185f3</td>\n",
       "      <td>85</td>\n",
       "    </tr>\n",
       "  </tbody>\n",
       "</table>\n",
       "<p>5 rows × 41 columns</p>\n",
       "</div>"
      ],
      "text/plain": [
       "   C0    C1   C2    C3    C4      C5    C6    C7    C8     C9  ...       C31  \\\n",
       "0   1   0.0   -1   NaN   NaN  1465.0   0.0  17.0   0.0    4.0  ...  e5f8f18f   \n",
       "1   1   0.0    1  20.0  16.0  1548.0  93.0  42.0  32.0  912.0  ...  1f868fdd   \n",
       "2   0   8.0    0  15.0  20.0   115.0  24.0   8.0  23.0   24.0  ...  1304f63b   \n",
       "3   1  88.0  319   NaN   4.0     5.0   4.0  89.0  40.0   88.0  ...  bbf70d82   \n",
       "4   0   0.0   53   NaN  10.0  6550.0  98.0  34.0  11.0  349.0  ...  fa0643ee   \n",
       "\n",
       "        C32       C33       C34  C35       C36       C37       C38       C39  \\\n",
       "0       NaN       NaN  f3ddd519  NaN  32c7478e  b34f3128       NaN       NaN   \n",
       "1  21ddcdc9  a458ea53  7eee76d1  NaN  32c7478e  9af06ad9  9d93af03  cdfe5ab7   \n",
       "2  21ddcdc9  b1252a9d  07b2853e  NaN  32c7478e  94bde4f2  010f6491  09b76f8d   \n",
       "3       NaN       NaN  16e2e3b3  NaN  32c7478e  d859b4dd       NaN       NaN   \n",
       "4  21ddcdc9  b1252a9d  0094bc78  NaN  32c7478e  29ece3ed  001f3601  402185f3   \n",
       "\n",
       "   ID  \n",
       "0  12  \n",
       "1  26  \n",
       "2  39  \n",
       "3  41  \n",
       "4  85  \n",
       "\n",
       "[5 rows x 41 columns]"
      ]
     },
     "execution_count": 8,
     "metadata": {},
     "output_type": "execute_result"
    }
   ],
   "source": [
    "train.head()"
   ]
  },
  {
   "cell_type": "code",
   "execution_count": 9,
   "metadata": {},
   "outputs": [
    {
     "data": {
      "text/plain": [
       "(13, 26)"
      ]
     },
     "execution_count": 9,
     "metadata": {},
     "output_type": "execute_result"
    }
   ],
   "source": [
    "num_columns = ['C{}'.format(i) for i in range(1, 14)]\n",
    "cat_columns = ['C{}'.format(i) for i in range(14, 40)]\n",
    "target = ['C0']\n",
    "len(num_columns), len(cat_columns)"
   ]
  },
  {
   "cell_type": "code",
   "execution_count": 10,
   "metadata": {},
   "outputs": [],
   "source": [
    "X, y = train.drop(columns=['C0', 'ID']), train['C0']"
   ]
  },
  {
   "cell_type": "markdown",
   "metadata": {},
   "source": [
    "# Data preprocessing"
   ]
  },
  {
   "cell_type": "code",
   "execution_count": 11,
   "metadata": {},
   "outputs": [],
   "source": [
    "X[num_columns] = X[num_columns].fillna(0)\n",
    "X[cat_columns] = X[cat_columns].fillna('-1')"
   ]
  },
  {
   "cell_type": "code",
   "execution_count": 12,
   "metadata": {},
   "outputs": [],
   "source": [
    "from sklearn.preprocessing import MinMaxScaler\n",
    "import category_encoders as ce"
   ]
  },
  {
   "cell_type": "code",
   "execution_count": 13,
   "metadata": {},
   "outputs": [],
   "source": [
    "X_encoded = X.copy()"
   ]
  },
  {
   "cell_type": "code",
   "execution_count": 14,
   "metadata": {},
   "outputs": [],
   "source": [
    "mms = MinMaxScaler(feature_range=(0, 1))"
   ]
  },
  {
   "cell_type": "code",
   "execution_count": 15,
   "metadata": {},
   "outputs": [],
   "source": [
    "X_encoded[num_columns] = mms.fit_transform(X_encoded[num_columns])"
   ]
  },
  {
   "cell_type": "code",
   "execution_count": 16,
   "metadata": {},
   "outputs": [],
   "source": [
    "encoder = ce.OrdinalEncoder(cols=cat_columns)"
   ]
  },
  {
   "cell_type": "code",
   "execution_count": 17,
   "metadata": {},
   "outputs": [
    {
     "name": "stderr",
     "output_type": "stream",
     "text": [
      "C:\\Anaconda3\\envs\\fibi\\lib\\site-packages\\category_encoders\\utils.py:21: FutureWarning: is_categorical is deprecated and will be removed in a future version.  Use is_categorical_dtype instead\n",
      "  elif pd.api.types.is_categorical(cols):\n"
     ]
    }
   ],
   "source": [
    "X_encoded = encoder.fit_transform(X_encoded)"
   ]
  },
  {
   "cell_type": "code",
   "execution_count": 18,
   "metadata": {},
   "outputs": [],
   "source": [
    "X_train_encoded, X_valid_encoded, y_train, y_valid = train_test_split(X_encoded, y, stratify=y, random_state=SEED)"
   ]
  },
  {
   "cell_type": "code",
   "execution_count": 19,
   "metadata": {},
   "outputs": [
    {
     "data": {
      "text/html": [
       "<div>\n",
       "<style scoped>\n",
       "    .dataframe tbody tr th:only-of-type {\n",
       "        vertical-align: middle;\n",
       "    }\n",
       "\n",
       "    .dataframe tbody tr th {\n",
       "        vertical-align: top;\n",
       "    }\n",
       "\n",
       "    .dataframe thead th {\n",
       "        text-align: right;\n",
       "    }\n",
       "</style>\n",
       "<table border=\"1\" class=\"dataframe\">\n",
       "  <thead>\n",
       "    <tr style=\"text-align: right;\">\n",
       "      <th></th>\n",
       "      <th>C1</th>\n",
       "      <th>C2</th>\n",
       "      <th>C3</th>\n",
       "      <th>C4</th>\n",
       "      <th>C5</th>\n",
       "      <th>C6</th>\n",
       "      <th>C7</th>\n",
       "      <th>C8</th>\n",
       "      <th>C9</th>\n",
       "      <th>C10</th>\n",
       "      <th>...</th>\n",
       "      <th>C30</th>\n",
       "      <th>C31</th>\n",
       "      <th>C32</th>\n",
       "      <th>C33</th>\n",
       "      <th>C34</th>\n",
       "      <th>C35</th>\n",
       "      <th>C36</th>\n",
       "      <th>C37</th>\n",
       "      <th>C38</th>\n",
       "      <th>C39</th>\n",
       "    </tr>\n",
       "  </thead>\n",
       "  <tbody>\n",
       "    <tr>\n",
       "      <th>597429</th>\n",
       "      <td>0.000000</td>\n",
       "      <td>0.033123</td>\n",
       "      <td>0.000427</td>\n",
       "      <td>0.000000</td>\n",
       "      <td>5.553482e-04</td>\n",
       "      <td>0.000669</td>\n",
       "      <td>0.000202</td>\n",
       "      <td>0.004752</td>\n",
       "      <td>0.001966</td>\n",
       "      <td>0.000000</td>\n",
       "      <td>...</td>\n",
       "      <td>5</td>\n",
       "      <td>213</td>\n",
       "      <td>2</td>\n",
       "      <td>4</td>\n",
       "      <td>7150</td>\n",
       "      <td>1</td>\n",
       "      <td>1</td>\n",
       "      <td>229</td>\n",
       "      <td>20</td>\n",
       "      <td>166</td>\n",
       "    </tr>\n",
       "    <tr>\n",
       "      <th>1768963</th>\n",
       "      <td>0.000000</td>\n",
       "      <td>0.000136</td>\n",
       "      <td>0.000412</td>\n",
       "      <td>0.021665</td>\n",
       "      <td>5.553482e-04</td>\n",
       "      <td>0.002609</td>\n",
       "      <td>0.000101</td>\n",
       "      <td>0.005741</td>\n",
       "      <td>0.004450</td>\n",
       "      <td>0.000000</td>\n",
       "      <td>...</td>\n",
       "      <td>9</td>\n",
       "      <td>152</td>\n",
       "      <td>20</td>\n",
       "      <td>2</td>\n",
       "      <td>94823</td>\n",
       "      <td>1</td>\n",
       "      <td>4</td>\n",
       "      <td>56</td>\n",
       "      <td>12</td>\n",
       "      <td>44</td>\n",
       "    </tr>\n",
       "    <tr>\n",
       "      <th>1913948</th>\n",
       "      <td>0.000000</td>\n",
       "      <td>0.000861</td>\n",
       "      <td>0.000137</td>\n",
       "      <td>0.007982</td>\n",
       "      <td>8.473158e-04</td>\n",
       "      <td>0.000129</td>\n",
       "      <td>0.003737</td>\n",
       "      <td>0.001386</td>\n",
       "      <td>0.002949</td>\n",
       "      <td>0.000000</td>\n",
       "      <td>...</td>\n",
       "      <td>1</td>\n",
       "      <td>232</td>\n",
       "      <td>15</td>\n",
       "      <td>3</td>\n",
       "      <td>14484</td>\n",
       "      <td>1</td>\n",
       "      <td>3</td>\n",
       "      <td>261</td>\n",
       "      <td>3</td>\n",
       "      <td>191</td>\n",
       "    </tr>\n",
       "    <tr>\n",
       "      <th>266546</th>\n",
       "      <td>0.000000</td>\n",
       "      <td>0.000181</td>\n",
       "      <td>0.000076</td>\n",
       "      <td>0.007982</td>\n",
       "      <td>2.668111e-06</td>\n",
       "      <td>0.000000</td>\n",
       "      <td>0.000000</td>\n",
       "      <td>0.001782</td>\n",
       "      <td>0.000362</td>\n",
       "      <td>0.000000</td>\n",
       "      <td>...</td>\n",
       "      <td>7</td>\n",
       "      <td>118</td>\n",
       "      <td>1</td>\n",
       "      <td>1</td>\n",
       "      <td>275</td>\n",
       "      <td>4</td>\n",
       "      <td>2</td>\n",
       "      <td>112</td>\n",
       "      <td>1</td>\n",
       "      <td>1</td>\n",
       "    </tr>\n",
       "    <tr>\n",
       "      <th>800178</th>\n",
       "      <td>0.000519</td>\n",
       "      <td>0.000181</td>\n",
       "      <td>0.000031</td>\n",
       "      <td>0.000000</td>\n",
       "      <td>7.623174e-07</td>\n",
       "      <td>0.000000</td>\n",
       "      <td>0.000303</td>\n",
       "      <td>0.000198</td>\n",
       "      <td>0.000052</td>\n",
       "      <td>0.222222</td>\n",
       "      <td>...</td>\n",
       "      <td>1</td>\n",
       "      <td>33</td>\n",
       "      <td>36</td>\n",
       "      <td>3</td>\n",
       "      <td>226291</td>\n",
       "      <td>1</td>\n",
       "      <td>1</td>\n",
       "      <td>4950</td>\n",
       "      <td>4</td>\n",
       "      <td>3822</td>\n",
       "    </tr>\n",
       "  </tbody>\n",
       "</table>\n",
       "<p>5 rows × 39 columns</p>\n",
       "</div>"
      ],
      "text/plain": [
       "               C1        C2        C3        C4            C5        C6  \\\n",
       "597429   0.000000  0.033123  0.000427  0.000000  5.553482e-04  0.000669   \n",
       "1768963  0.000000  0.000136  0.000412  0.021665  5.553482e-04  0.002609   \n",
       "1913948  0.000000  0.000861  0.000137  0.007982  8.473158e-04  0.000129   \n",
       "266546   0.000000  0.000181  0.000076  0.007982  2.668111e-06  0.000000   \n",
       "800178   0.000519  0.000181  0.000031  0.000000  7.623174e-07  0.000000   \n",
       "\n",
       "               C7        C8        C9       C10  ...  C30  C31  C32  C33  \\\n",
       "597429   0.000202  0.004752  0.001966  0.000000  ...    5  213    2    4   \n",
       "1768963  0.000101  0.005741  0.004450  0.000000  ...    9  152   20    2   \n",
       "1913948  0.003737  0.001386  0.002949  0.000000  ...    1  232   15    3   \n",
       "266546   0.000000  0.001782  0.000362  0.000000  ...    7  118    1    1   \n",
       "800178   0.000303  0.000198  0.000052  0.222222  ...    1   33   36    3   \n",
       "\n",
       "            C34  C35  C36   C37  C38   C39  \n",
       "597429     7150    1    1   229   20   166  \n",
       "1768963   94823    1    4    56   12    44  \n",
       "1913948   14484    1    3   261    3   191  \n",
       "266546      275    4    2   112    1     1  \n",
       "800178   226291    1    1  4950    4  3822  \n",
       "\n",
       "[5 rows x 39 columns]"
      ]
     },
     "execution_count": 19,
     "metadata": {},
     "output_type": "execute_result"
    }
   ],
   "source": [
    "X_train_encoded.head()"
   ]
  },
  {
   "cell_type": "code",
   "execution_count": 20,
   "metadata": {},
   "outputs": [],
   "source": [
    "sparse_features = [SparseFeat(feat, X_encoded[feat].nunique() + 1) for feat in cat_columns]\n",
    "# or using hashing\n",
    "# sparse_features = [SparseFeat(feat, vocabulary_size=1000, embedding_dim=4, use_hash=True)  for feat in cat_columns]\n",
    "dense_features = [DenseFeat(feat, 1) for feat in num_columns]"
   ]
  },
  {
   "cell_type": "code",
   "execution_count": 21,
   "metadata": {},
   "outputs": [],
   "source": [
    "fixlen_feature_columns = sparse_features + dense_features"
   ]
  },
  {
   "cell_type": "code",
   "execution_count": 22,
   "metadata": {},
   "outputs": [],
   "source": [
    "linear_feature_columns = fixlen_feature_columns\n",
    "dnn_feature_columns = fixlen_feature_columns\n",
    "feature_names = get_feature_names(linear_feature_columns + dnn_feature_columns)"
   ]
  },
  {
   "cell_type": "code",
   "execution_count": 23,
   "metadata": {},
   "outputs": [],
   "source": [
    "train_model_input = {name:X_train_encoded[name] for name in feature_names}"
   ]
  },
  {
   "cell_type": "code",
   "execution_count": 24,
   "metadata": {},
   "outputs": [],
   "source": [
    "test_model_input = {name:X_valid_encoded[name] for name in feature_names}"
   ]
  },
  {
   "cell_type": "markdown",
   "metadata": {},
   "source": [
    "# Model training"
   ]
  },
  {
   "cell_type": "code",
   "execution_count": 25,
   "metadata": {},
   "outputs": [],
   "source": [
    "from deepctr_torch.models import DeepFM, CCPM, PNN, WDL, MLR, NFM, AFM, DCN, DCNMix, xDeepFM, AutoInt, ONN, FiBiNET\n",
    "from deepctr_torch.callbacks import EarlyStopping, ModelCheckpoint\n",
    "\n",
    "from sklearn.metrics import roc_auc_score, log_loss"
   ]
  },
  {
   "cell_type": "code",
   "execution_count": 26,
   "metadata": {},
   "outputs": [],
   "source": [
    "def get_metrics(groups) -> pd.DataFrame:\n",
    "    metrics =  pd.DataFrame.from_records(groups, columns=groups.keys(), index=list(all_metrics.values())[0].keys())\n",
    "    metrics.index.name = 'metric'\n",
    "    return metrics\n",
    "\n",
    "def get_ate(groups, control_name) -> pd.DataFrame:\n",
    "    \"\"\"Get Average Treatment Effect\n",
    "    groups - dictionary where keys - names of models, values - dicts of pairs <metric_name>, <metric_value>\n",
    "    control_name - name of baseline model\n",
    "    \n",
    "    return pd.DataFrame (rows corresponds to metrics, cols corresponds to models and ATE with respect to control)\n",
    "    \"\"\"\n",
    "    metrics = get_metrics(groups)\n",
    "    return metrics.subtract(metrics[control_name], axis='index').drop(columns=control_name) * 100\n",
    "\n",
    "\n",
    "all_metrics = {}"
   ]
  },
  {
   "cell_type": "code",
   "execution_count": 27,
   "metadata": {},
   "outputs": [],
   "source": [
    "def test_model(model, train_model_input, test_model_input, y_train, y_valid, batch_size=4096 * 2):\n",
    "    model_name = model.__class__.__name__\n",
    "    \n",
    "    model.compile(\"adam\", \"binary_crossentropy\",\n",
    "              metrics=[\"binary_crossentropy\", \"auc\"])\n",
    "    \n",
    "    es = EarlyStopping(monitor='val_auc', min_delta=0.03, verbose=1, patience=1, mode='max')\n",
    "    mdckpt = ModelCheckpoint(filepath = f'{model_name}.ckpt', monitor='val_auc', mode='max', save_best_only=True, save_weights_only=True)\n",
    "    \n",
    "    history = model.fit(train_model_input, y_train,\n",
    "                        batch_size=batch_size, epochs=15, verbose=2, validation_split=0.2, callbacks=[es, mdckpt])\n",
    "    \n",
    "    model.load_state_dict(torch.load(f'{model_name}.ckpt'))\n",
    "    \n",
    "    y_valid_predicted = model.predict(test_model_input, batch_size=batch_size).squeeze()\n",
    "    \n",
    "    return {\n",
    "        'roc-auc': roc_auc_score(y_valid, y_valid_predicted),\n",
    "        'log-loss': log_loss(y_valid, y_valid_predicted)        \n",
    "    }"
   ]
  },
  {
   "cell_type": "code",
   "execution_count": 28,
   "metadata": {},
   "outputs": [],
   "source": [
    "device = 'cuda:0'"
   ]
  },
  {
   "cell_type": "markdown",
   "metadata": {},
   "source": [
    "## CCPM (Convolutional Click Prediction Model)\n",
    "<img src=\"https://deepctr-torch.readthedocs.io/en/latest/_images/CCPM.png\" alt=\"drawing\" width=\"900\"/>"
   ]
  },
  {
   "cell_type": "code",
   "execution_count": 29,
   "metadata": {},
   "outputs": [],
   "source": [
    "ccpm_model = CCPM(linear_feature_columns, sparse_features, dnn_dropout=0.5, device=device)"
   ]
  },
  {
   "cell_type": "code",
   "execution_count": 30,
   "metadata": {},
   "outputs": [
    {
     "name": "stdout",
     "output_type": "stream",
     "text": [
      "cuda:0\n",
      "Train on 2198958 samples, validate on 549740 samples, 269 steps per epoch\n",
      "Epoch 1/15\n",
      "44s - loss:  0.5213 - binary_crossentropy:  0.5212 - auc:  0.7058 - val_binary_crossentropy:  0.4903 - val_auc:  0.7505\n",
      "Epoch 2/15\n",
      "43s - loss:  0.4642 - binary_crossentropy:  0.4642 - auc:  0.7855 - val_binary_crossentropy:  0.4889 - val_auc:  0.7540\n",
      "Epoch 00002: early stopping\n"
     ]
    }
   ],
   "source": [
    "all_metrics['CCPM'] = test_model(ccpm_model, train_model_input, test_model_input, y_train.values, y_valid)"
   ]
  },
  {
   "cell_type": "markdown",
   "metadata": {},
   "source": [
    "## PNN (Product-based Neural Network)\n",
    "<!-- ![pic](https://deepctr-torch.readthedocs.io/en/latest/_images/PNN.png) -->\n",
    "<img src=\"https://deepctr-torch.readthedocs.io/en/latest/_images/PNN.png\" alt=\"drawing\" width=\"900\"/>"
   ]
  },
  {
   "cell_type": "code",
   "execution_count": 31,
   "metadata": {},
   "outputs": [],
   "source": [
    "pnn_model = PNN(dnn_feature_columns, dnn_dropout=0.5, device=device)"
   ]
  },
  {
   "cell_type": "code",
   "execution_count": 32,
   "metadata": {},
   "outputs": [
    {
     "name": "stdout",
     "output_type": "stream",
     "text": [
      "cuda:0\n",
      "Train on 2198958 samples, validate on 549740 samples, 269 steps per epoch\n",
      "Epoch 1/15\n",
      "33s - loss:  0.5254 - binary_crossentropy:  0.5254 - auc:  0.6984 - val_binary_crossentropy:  0.4867 - val_auc:  0.7626\n",
      "Epoch 2/15\n",
      "33s - loss:  0.4251 - binary_crossentropy:  0.4251 - auc:  0.8303 - val_binary_crossentropy:  0.5072 - val_auc:  0.7432\n",
      "Epoch 00002: early stopping\n"
     ]
    }
   ],
   "source": [
    "all_metrics['PNN'] = test_model(pnn_model, train_model_input, test_model_input, y_train.values, y_valid)"
   ]
  },
  {
   "cell_type": "markdown",
   "metadata": {},
   "source": [
    "## Wide & Deep\n",
    "<!-- ![pic](https://deepctr-torch.readthedocs.io/en/latest/_images/WDL.png) -->\n",
    "<img src=\"https://deepctr-torch.readthedocs.io/en/latest/_images/WDL.png\" alt=\"drawing\" width=\"900\"/>"
   ]
  },
  {
   "cell_type": "code",
   "execution_count": 33,
   "metadata": {},
   "outputs": [],
   "source": [
    "wdl_model = WDL(linear_feature_columns, dnn_feature_columns, dnn_dropout=0.5, device=device)"
   ]
  },
  {
   "cell_type": "code",
   "execution_count": 34,
   "metadata": {},
   "outputs": [
    {
     "name": "stdout",
     "output_type": "stream",
     "text": [
      "cuda:0\n",
      "Train on 2198958 samples, validate on 549740 samples, 269 steps per epoch\n",
      "Epoch 1/15\n",
      "37s - loss:  0.5074 - binary_crossentropy:  0.5074 - auc:  0.7259 - val_binary_crossentropy:  0.4793 - val_auc:  0.7673\n",
      "Epoch 2/15\n",
      "35s - loss:  0.4115 - binary_crossentropy:  0.4114 - auc:  0.8412 - val_binary_crossentropy:  0.5093 - val_auc:  0.7426\n",
      "Epoch 00002: early stopping\n"
     ]
    }
   ],
   "source": [
    "all_metrics['WDL'] = test_model(wdl_model, train_model_input, test_model_input, y_train.values, y_valid)"
   ]
  },
  {
   "cell_type": "markdown",
   "metadata": {},
   "source": [
    "## DeepFM\n",
    "<img src=\"https://deepctr-torch.readthedocs.io/en/latest/_images/DeepFM.png\" alt=\"drawing\" width=\"900\"/>"
   ]
  },
  {
   "cell_type": "code",
   "execution_count": 35,
   "metadata": {},
   "outputs": [],
   "source": [
    "deep_fm_model = DeepFM(linear_feature_columns, dnn_feature_columns, dnn_dropout=0.5, device=device)"
   ]
  },
  {
   "cell_type": "code",
   "execution_count": 36,
   "metadata": {},
   "outputs": [
    {
     "name": "stdout",
     "output_type": "stream",
     "text": [
      "cuda:0\n",
      "Train on 2198958 samples, validate on 549740 samples, 269 steps per epoch\n",
      "Epoch 1/15\n",
      "36s - loss:  0.5040 - binary_crossentropy:  0.5039 - auc:  0.7285 - val_binary_crossentropy:  0.4783 - val_auc:  0.7680\n",
      "Epoch 2/15\n",
      "36s - loss:  0.4145 - binary_crossentropy:  0.4145 - auc:  0.8380 - val_binary_crossentropy:  0.5050 - val_auc:  0.7463\n",
      "Epoch 00002: early stopping\n"
     ]
    }
   ],
   "source": [
    "all_metrics['DeepFM'] = test_model(deep_fm_model, train_model_input, test_model_input, y_train.values, y_valid)"
   ]
  },
  {
   "cell_type": "markdown",
   "metadata": {},
   "source": [
    "## MLR(Mixed Logistic Regression/Piece-wise Linear Model)\n",
    "<img src=\"https://deepctr-torch.readthedocs.io/en/latest/_images/MLR.png\" alt=\"drawing\" width=\"900\"/>"
   ]
  },
  {
   "cell_type": "code",
   "execution_count": 37,
   "metadata": {},
   "outputs": [],
   "source": [
    "mlr_model = MLR(linear_feature_columns, dnn_feature_columns, device=device)"
   ]
  },
  {
   "cell_type": "code",
   "execution_count": 38,
   "metadata": {},
   "outputs": [
    {
     "name": "stdout",
     "output_type": "stream",
     "text": [
      "cuda:0\n",
      "Train on 2198958 samples, validate on 549740 samples, 269 steps per epoch\n",
      "Epoch 1/15\n",
      "55s - loss:  0.5399 - binary_crossentropy:  0.5398 - auc:  0.7000 - val_binary_crossentropy:  0.5079 - val_auc:  0.7343\n",
      "Epoch 2/15\n",
      "55s - loss:  0.4903 - binary_crossentropy:  0.4903 - auc:  0.7612 - val_binary_crossentropy:  0.4938 - val_auc:  0.7490\n",
      "Epoch 00002: early stopping\n"
     ]
    }
   ],
   "source": [
    "all_metrics['MLR'] = test_model(mlr_model, train_model_input, test_model_input, y_train.values, y_valid)"
   ]
  },
  {
   "cell_type": "markdown",
   "metadata": {},
   "source": [
    "## NFM (Neural Factorization Machine)\n",
    "<img src=\"https://deepctr-torch.readthedocs.io/en/latest/_images/NFM.png\" alt=\"drawing\" width=\"900\"/>"
   ]
  },
  {
   "cell_type": "code",
   "execution_count": 39,
   "metadata": {},
   "outputs": [],
   "source": [
    "nfm_model = NFM(linear_feature_columns, dnn_feature_columns, dnn_dropout=0.5, device=device)"
   ]
  },
  {
   "cell_type": "code",
   "execution_count": 40,
   "metadata": {},
   "outputs": [
    {
     "name": "stdout",
     "output_type": "stream",
     "text": [
      "cuda:0\n",
      "Train on 2198958 samples, validate on 549740 samples, 269 steps per epoch\n",
      "Epoch 1/15\n",
      "36s - loss:  0.5149 - binary_crossentropy:  0.5148 - auc:  0.7137 - val_binary_crossentropy:  0.4853 - val_auc:  0.7604\n",
      "Epoch 2/15\n",
      "35s - loss:  0.4489 - binary_crossentropy:  0.4488 - auc:  0.8057 - val_binary_crossentropy:  0.4864 - val_auc:  0.7615\n",
      "Epoch 00002: early stopping\n"
     ]
    }
   ],
   "source": [
    "all_metrics['NFM'] = test_model(nfm_model, train_model_input, test_model_input, y_train.values, y_valid)"
   ]
  },
  {
   "cell_type": "markdown",
   "metadata": {},
   "source": [
    "## AFM (Attentional Factorization Machine)\n",
    "<img src=\"https://deepctr-torch.readthedocs.io/en/latest/_images/AFM.png\" alt=\"drawing\" width=\"900\"/>"
   ]
  },
  {
   "cell_type": "code",
   "execution_count": 41,
   "metadata": {},
   "outputs": [],
   "source": [
    "afm_model = AFM(linear_feature_columns, sparse_features, afm_dropout=0.5, device=device)"
   ]
  },
  {
   "cell_type": "code",
   "execution_count": 42,
   "metadata": {},
   "outputs": [
    {
     "name": "stdout",
     "output_type": "stream",
     "text": [
      "cuda:0\n",
      "Train on 2198958 samples, validate on 549740 samples, 269 steps per epoch\n",
      "Epoch 1/15\n",
      "39s - loss:  0.5387 - binary_crossentropy:  0.5387 - auc:  0.7013 - val_binary_crossentropy:  0.5057 - val_auc:  0.7365\n",
      "Epoch 2/15\n",
      "39s - loss:  0.4857 - binary_crossentropy:  0.4857 - auc:  0.7629 - val_binary_crossentropy:  0.4897 - val_auc:  0.7521\n",
      "Epoch 00002: early stopping\n"
     ]
    }
   ],
   "source": [
    "all_metrics['AFM'] = test_model(afm_model, train_model_input, test_model_input, y_train.values, y_valid)"
   ]
  },
  {
   "cell_type": "markdown",
   "metadata": {},
   "source": [
    "## DCN (Deep & Cross Network)\n",
    "<img src=\"https://deepctr-torch.readthedocs.io/en/latest/_images/DCN.png\" alt=\"drawing\" width=\"900\"/>"
   ]
  },
  {
   "cell_type": "code",
   "execution_count": 43,
   "metadata": {},
   "outputs": [],
   "source": [
    "dcn_model = DCN(linear_feature_columns, dnn_feature_columns, dnn_dropout=0.5, device=device)"
   ]
  },
  {
   "cell_type": "code",
   "execution_count": 44,
   "metadata": {},
   "outputs": [
    {
     "name": "stdout",
     "output_type": "stream",
     "text": [
      "cuda:0\n",
      "Train on 2198958 samples, validate on 549740 samples, 269 steps per epoch\n"
     ]
    },
    {
     "name": "stderr",
     "output_type": "stream",
     "text": [
      "C:\\Anaconda3\\envs\\fibi\\lib\\site-packages\\torch\\nn\\modules\\container.py:435: UserWarning: Setting attributes on ParameterList is not supported.\n",
      "  warnings.warn(\"Setting attributes on ParameterList is not supported.\")\n",
      "C:\\Anaconda3\\envs\\fibi\\lib\\site-packages\\torch\\nn\\modules\\container.py:435: UserWarning: Setting attributes on ParameterList is not supported.\n",
      "  warnings.warn(\"Setting attributes on ParameterList is not supported.\")\n"
     ]
    },
    {
     "name": "stdout",
     "output_type": "stream",
     "text": [
      "Epoch 1/15\n",
      "37s - loss:  0.5069 - binary_crossentropy:  0.5068 - auc:  0.7281 - val_binary_crossentropy:  0.4796 - val_auc:  0.7654\n"
     ]
    },
    {
     "name": "stderr",
     "output_type": "stream",
     "text": [
      "C:\\Anaconda3\\envs\\fibi\\lib\\site-packages\\torch\\nn\\modules\\container.py:435: UserWarning: Setting attributes on ParameterList is not supported.\n",
      "  warnings.warn(\"Setting attributes on ParameterList is not supported.\")\n"
     ]
    },
    {
     "name": "stdout",
     "output_type": "stream",
     "text": [
      "Epoch 2/15\n",
      "37s - loss:  0.4240 - binary_crossentropy:  0.4240 - auc:  0.8299 - val_binary_crossentropy:  0.5102 - val_auc:  0.7417\n",
      "Epoch 00002: early stopping\n"
     ]
    },
    {
     "name": "stderr",
     "output_type": "stream",
     "text": [
      "C:\\Anaconda3\\envs\\fibi\\lib\\site-packages\\torch\\nn\\modules\\container.py:435: UserWarning: Setting attributes on ParameterList is not supported.\n",
      "  warnings.warn(\"Setting attributes on ParameterList is not supported.\")\n"
     ]
    }
   ],
   "source": [
    "all_metrics['DCN'] = test_model(dcn_model, train_model_input, test_model_input, y_train.values, y_valid)"
   ]
  },
  {
   "cell_type": "markdown",
   "metadata": {},
   "source": [
    "## DCN-Mix (Improved Deep & Cross Network with mix of experts and matrix kernel)\n",
    "<img src=\"https://deepctr-torch.readthedocs.io/en/latest/_images/DCN-Mix.png\" alt=\"drawing\" width=\"900\"/>"
   ]
  },
  {
   "cell_type": "code",
   "execution_count": 45,
   "metadata": {},
   "outputs": [],
   "source": [
    "dcn_mix_model = DCNMix(linear_feature_columns, dnn_feature_columns, dnn_dropout=0.5, device=device)"
   ]
  },
  {
   "cell_type": "code",
   "execution_count": 46,
   "metadata": {},
   "outputs": [
    {
     "name": "stdout",
     "output_type": "stream",
     "text": [
      "cuda:0\n",
      "Train on 2198958 samples, validate on 549740 samples, 269 steps per epoch\n"
     ]
    },
    {
     "name": "stderr",
     "output_type": "stream",
     "text": [
      "C:\\Anaconda3\\envs\\fibi\\lib\\site-packages\\torch\\nn\\modules\\container.py:435: UserWarning: Setting attributes on ParameterList is not supported.\n",
      "  warnings.warn(\"Setting attributes on ParameterList is not supported.\")\n",
      "C:\\Anaconda3\\envs\\fibi\\lib\\site-packages\\torch\\nn\\modules\\container.py:435: UserWarning: Setting attributes on ParameterList is not supported.\n",
      "  warnings.warn(\"Setting attributes on ParameterList is not supported.\")\n"
     ]
    },
    {
     "name": "stdout",
     "output_type": "stream",
     "text": [
      "Epoch 1/15\n",
      "38s - loss:  0.5059 - binary_crossentropy:  0.5058 - auc:  0.7301 - val_binary_crossentropy:  0.4776 - val_auc:  0.7683\n"
     ]
    },
    {
     "name": "stderr",
     "output_type": "stream",
     "text": [
      "C:\\Anaconda3\\envs\\fibi\\lib\\site-packages\\torch\\nn\\modules\\container.py:435: UserWarning: Setting attributes on ParameterList is not supported.\n",
      "  warnings.warn(\"Setting attributes on ParameterList is not supported.\")\n"
     ]
    },
    {
     "name": "stdout",
     "output_type": "stream",
     "text": [
      "Epoch 2/15\n",
      "38s - loss:  0.3972 - binary_crossentropy:  0.3971 - auc:  0.8523 - val_binary_crossentropy:  0.5070 - val_auc:  0.7449\n",
      "Epoch 00002: early stopping\n"
     ]
    },
    {
     "name": "stderr",
     "output_type": "stream",
     "text": [
      "C:\\Anaconda3\\envs\\fibi\\lib\\site-packages\\torch\\nn\\modules\\container.py:435: UserWarning: Setting attributes on ParameterList is not supported.\n",
      "  warnings.warn(\"Setting attributes on ParameterList is not supported.\")\n"
     ]
    }
   ],
   "source": [
    "all_metrics['DCNMix'] = test_model(dcn_mix_model, train_model_input, test_model_input, y_train.values, y_valid)"
   ]
  },
  {
   "cell_type": "markdown",
   "metadata": {},
   "source": [
    "## xDeepFM\n",
    "<img src=\"https://deepctr-torch.readthedocs.io/en/latest/_images/xDeepFM.png\" alt=\"drawing\" width=\"900\"/>"
   ]
  },
  {
   "cell_type": "code",
   "execution_count": 47,
   "metadata": {},
   "outputs": [],
   "source": [
    "xdeep_fm_model = xDeepFM(linear_feature_columns, dnn_feature_columns, dnn_dropout=0.5, device=device)"
   ]
  },
  {
   "cell_type": "code",
   "execution_count": 48,
   "metadata": {},
   "outputs": [
    {
     "name": "stdout",
     "output_type": "stream",
     "text": [
      "cuda:0\n",
      "Train on 2198958 samples, validate on 549740 samples, 269 steps per epoch\n",
      "Epoch 1/15\n",
      "61s - loss:  0.5006 - binary_crossentropy:  0.5006 - auc:  0.7346 - val_binary_crossentropy:  0.4772 - val_auc:  0.7693\n",
      "Epoch 2/15\n",
      "61s - loss:  0.3923 - binary_crossentropy:  0.3922 - auc:  0.8571 - val_binary_crossentropy:  0.5171 - val_auc:  0.7424\n",
      "Epoch 00002: early stopping\n"
     ]
    }
   ],
   "source": [
    "all_metrics['xDeepFM'] = test_model(xdeep_fm_model, train_model_input, test_model_input, y_train.values, y_valid)"
   ]
  },
  {
   "cell_type": "markdown",
   "metadata": {},
   "source": [
    "## AutoInt(Automatic Feature Interaction)\n",
    "<img src=\"https://deepctr-torch.readthedocs.io/en/latest/_images/AutoInt.png\" alt=\"drawing\" width=\"900\"/>"
   ]
  },
  {
   "cell_type": "code",
   "execution_count": 49,
   "metadata": {},
   "outputs": [],
   "source": [
    "auto_int_model = AutoInt(linear_feature_columns, dnn_feature_columns, dnn_dropout=0.5, device=device)"
   ]
  },
  {
   "cell_type": "code",
   "execution_count": 50,
   "metadata": {},
   "outputs": [
    {
     "name": "stdout",
     "output_type": "stream",
     "text": [
      "cuda:0\n",
      "Train on 2198958 samples, validate on 549740 samples, 269 steps per epoch\n",
      "Epoch 1/15\n",
      "41s - loss:  0.5083 - binary_crossentropy:  0.5083 - auc:  0.7274 - val_binary_crossentropy:  0.4789 - val_auc:  0.7670\n",
      "Epoch 2/15\n",
      "41s - loss:  0.4062 - binary_crossentropy:  0.4061 - auc:  0.8444 - val_binary_crossentropy:  0.5085 - val_auc:  0.7442\n",
      "Epoch 00002: early stopping\n"
     ]
    }
   ],
   "source": [
    "all_metrics['AutoInt'] = test_model(auto_int_model, train_model_input, test_model_input, y_train.values, y_valid)"
   ]
  },
  {
   "cell_type": "markdown",
   "metadata": {},
   "source": [
    "## FiBiNET(Feature Importance and Bilinear feature Interaction NETwork)\n",
    "<img src=\"https://deepctr-torch.readthedocs.io/en/latest/_images/FiBiNET.png\" alt=\"drawing\" width=\"900\"/>"
   ]
  },
  {
   "cell_type": "code",
   "execution_count": 53,
   "metadata": {},
   "outputs": [],
   "source": [
    "fibinet_interaction_model = FiBiNET(linear_feature_columns, dnn_feature_columns, bilinear_type='interaction', dnn_dropout=0.5, device=device)"
   ]
  },
  {
   "cell_type": "code",
   "execution_count": 54,
   "metadata": {},
   "outputs": [
    {
     "name": "stdout",
     "output_type": "stream",
     "text": [
      "cuda:0\n",
      "Train on 2198958 samples, validate on 549740 samples, 269 steps per epoch\n",
      "Epoch 1/15\n",
      "94s - loss:  0.5137 - binary_crossentropy:  0.5136 - auc:  0.7216 - val_binary_crossentropy:  0.4804 - val_auc:  0.7668\n",
      "Epoch 2/15\n",
      "93s - loss:  0.4161 - binary_crossentropy:  0.4161 - auc:  0.8393 - val_binary_crossentropy:  0.5001 - val_auc:  0.7519\n",
      "Epoch 00002: early stopping\n"
     ]
    }
   ],
   "source": [
    "all_metrics['FiBiNET-inter'] = test_model(fibinet_interaction_model, train_model_input, test_model_input, y_train.values, y_valid)"
   ]
  },
  {
   "cell_type": "code",
   "execution_count": 55,
   "metadata": {},
   "outputs": [],
   "source": [
    "fibinet_all_model = FiBiNET(linear_feature_columns, dnn_feature_columns, bilinear_type='all', dnn_dropout=0.5, device=device)"
   ]
  },
  {
   "cell_type": "code",
   "execution_count": 56,
   "metadata": {},
   "outputs": [
    {
     "name": "stdout",
     "output_type": "stream",
     "text": [
      "cuda:0\n",
      "Train on 2198958 samples, validate on 549740 samples, 269 steps per epoch\n",
      "Epoch 1/15\n",
      "85s - loss:  0.5123 - binary_crossentropy:  0.5122 - auc:  0.7232 - val_binary_crossentropy:  0.4798 - val_auc:  0.7673\n",
      "Epoch 2/15\n",
      "86s - loss:  0.4145 - binary_crossentropy:  0.4144 - auc:  0.8404 - val_binary_crossentropy:  0.5032 - val_auc:  0.7498\n",
      "Epoch 00002: early stopping\n"
     ]
    }
   ],
   "source": [
    "all_metrics['FiBiNET-all'] = test_model(fibinet_all_model, train_model_input, test_model_input, y_train.values, y_valid)"
   ]
  },
  {
   "cell_type": "code",
   "execution_count": 57,
   "metadata": {},
   "outputs": [],
   "source": [
    "fibinet_each_model = FiBiNET(linear_feature_columns, dnn_feature_columns, bilinear_type='each', dnn_dropout=0.5, device=device)"
   ]
  },
  {
   "cell_type": "code",
   "execution_count": 58,
   "metadata": {},
   "outputs": [
    {
     "name": "stdout",
     "output_type": "stream",
     "text": [
      "cuda:0\n",
      "Train on 2198958 samples, validate on 549740 samples, 269 steps per epoch\n",
      "Epoch 1/15\n",
      "86s - loss:  0.5142 - binary_crossentropy:  0.5141 - auc:  0.7214 - val_binary_crossentropy:  0.4806 - val_auc:  0.7666\n",
      "Epoch 2/15\n",
      "86s - loss:  0.4170 - binary_crossentropy:  0.4170 - auc:  0.8384 - val_binary_crossentropy:  0.5028 - val_auc:  0.7506\n",
      "Epoch 00002: early stopping\n"
     ]
    }
   ],
   "source": [
    "all_metrics['FiBiNET-each'] = test_model(fibinet_each_model, train_model_input, test_model_input, y_train.values, y_valid)"
   ]
  },
  {
   "cell_type": "markdown",
   "metadata": {},
   "source": [
    "# Результаты"
   ]
  },
  {
   "cell_type": "code",
   "execution_count": 59,
   "metadata": {},
   "outputs": [
    {
     "data": {
      "text/html": [
       "<div>\n",
       "<style scoped>\n",
       "    .dataframe tbody tr th:only-of-type {\n",
       "        vertical-align: middle;\n",
       "    }\n",
       "\n",
       "    .dataframe tbody tr th {\n",
       "        vertical-align: top;\n",
       "    }\n",
       "\n",
       "    .dataframe thead th {\n",
       "        text-align: right;\n",
       "    }\n",
       "</style>\n",
       "<table border=\"1\" class=\"dataframe\">\n",
       "  <thead>\n",
       "    <tr style=\"text-align: right;\">\n",
       "      <th></th>\n",
       "      <th>CCPM</th>\n",
       "      <th>PNN</th>\n",
       "      <th>WDL</th>\n",
       "      <th>DeepFM</th>\n",
       "      <th>MLR</th>\n",
       "      <th>NFM</th>\n",
       "      <th>AFM</th>\n",
       "      <th>DCN</th>\n",
       "      <th>DCNMix</th>\n",
       "      <th>xDeepFM</th>\n",
       "      <th>AutoInt</th>\n",
       "      <th>FiBiNET-inter</th>\n",
       "      <th>FiBiNET-all</th>\n",
       "      <th>FiBiNET-each</th>\n",
       "    </tr>\n",
       "    <tr>\n",
       "      <th>metric</th>\n",
       "      <th></th>\n",
       "      <th></th>\n",
       "      <th></th>\n",
       "      <th></th>\n",
       "      <th></th>\n",
       "      <th></th>\n",
       "      <th></th>\n",
       "      <th></th>\n",
       "      <th></th>\n",
       "      <th></th>\n",
       "      <th></th>\n",
       "      <th></th>\n",
       "      <th></th>\n",
       "      <th></th>\n",
       "    </tr>\n",
       "  </thead>\n",
       "  <tbody>\n",
       "    <tr>\n",
       "      <th>roc-auc</th>\n",
       "      <td>0.755444</td>\n",
       "      <td>0.764055</td>\n",
       "      <td>0.768638</td>\n",
       "      <td>0.769213</td>\n",
       "      <td>0.750845</td>\n",
       "      <td>0.762868</td>\n",
       "      <td>0.753727</td>\n",
       "      <td>0.766760</td>\n",
       "      <td>0.769508</td>\n",
       "      <td>0.770449</td>\n",
       "      <td>0.768322</td>\n",
       "      <td>0.768353</td>\n",
       "      <td>0.768803</td>\n",
       "      <td>0.768037</td>\n",
       "    </tr>\n",
       "    <tr>\n",
       "      <th>log-loss</th>\n",
       "      <td>0.487051</td>\n",
       "      <td>0.485082</td>\n",
       "      <td>0.477694</td>\n",
       "      <td>0.476714</td>\n",
       "      <td>0.492128</td>\n",
       "      <td>0.484571</td>\n",
       "      <td>0.487891</td>\n",
       "      <td>0.477922</td>\n",
       "      <td>0.476031</td>\n",
       "      <td>0.475585</td>\n",
       "      <td>0.477263</td>\n",
       "      <td>0.478585</td>\n",
       "      <td>0.478062</td>\n",
       "      <td>0.478823</td>\n",
       "    </tr>\n",
       "  </tbody>\n",
       "</table>\n",
       "</div>"
      ],
      "text/plain": [
       "              CCPM       PNN       WDL    DeepFM       MLR       NFM  \\\n",
       "metric                                                                 \n",
       "roc-auc   0.755444  0.764055  0.768638  0.769213  0.750845  0.762868   \n",
       "log-loss  0.487051  0.485082  0.477694  0.476714  0.492128  0.484571   \n",
       "\n",
       "               AFM       DCN    DCNMix   xDeepFM   AutoInt  FiBiNET-inter  \\\n",
       "metric                                                                      \n",
       "roc-auc   0.753727  0.766760  0.769508  0.770449  0.768322       0.768353   \n",
       "log-loss  0.487891  0.477922  0.476031  0.475585  0.477263       0.478585   \n",
       "\n",
       "          FiBiNET-all  FiBiNET-each  \n",
       "metric                               \n",
       "roc-auc      0.768803      0.768037  \n",
       "log-loss     0.478062      0.478823  "
      ]
     },
     "execution_count": 59,
     "metadata": {},
     "output_type": "execute_result"
    }
   ],
   "source": [
    "get_metrics(all_metrics)"
   ]
  },
  {
   "cell_type": "code",
   "execution_count": 60,
   "metadata": {},
   "outputs": [
    {
     "data": {
      "text/html": [
       "<div>\n",
       "<style scoped>\n",
       "    .dataframe tbody tr th:only-of-type {\n",
       "        vertical-align: middle;\n",
       "    }\n",
       "\n",
       "    .dataframe tbody tr th {\n",
       "        vertical-align: top;\n",
       "    }\n",
       "\n",
       "    .dataframe thead th {\n",
       "        text-align: right;\n",
       "    }\n",
       "</style>\n",
       "<table border=\"1\" class=\"dataframe\">\n",
       "  <thead>\n",
       "    <tr style=\"text-align: right;\">\n",
       "      <th></th>\n",
       "      <th>CCPM</th>\n",
       "      <th>PNN</th>\n",
       "      <th>WDL</th>\n",
       "      <th>MLR</th>\n",
       "      <th>NFM</th>\n",
       "      <th>AFM</th>\n",
       "      <th>DCN</th>\n",
       "      <th>DCNMix</th>\n",
       "      <th>xDeepFM</th>\n",
       "      <th>AutoInt</th>\n",
       "      <th>FiBiNET-inter</th>\n",
       "      <th>FiBiNET-all</th>\n",
       "      <th>FiBiNET-each</th>\n",
       "    </tr>\n",
       "    <tr>\n",
       "      <th>metric</th>\n",
       "      <th></th>\n",
       "      <th></th>\n",
       "      <th></th>\n",
       "      <th></th>\n",
       "      <th></th>\n",
       "      <th></th>\n",
       "      <th></th>\n",
       "      <th></th>\n",
       "      <th></th>\n",
       "      <th></th>\n",
       "      <th></th>\n",
       "      <th></th>\n",
       "      <th></th>\n",
       "    </tr>\n",
       "  </thead>\n",
       "  <tbody>\n",
       "    <tr>\n",
       "      <th>roc-auc</th>\n",
       "      <td>-1.376905</td>\n",
       "      <td>-0.515805</td>\n",
       "      <td>-0.057509</td>\n",
       "      <td>-1.836797</td>\n",
       "      <td>-0.634478</td>\n",
       "      <td>-1.548611</td>\n",
       "      <td>-0.245365</td>\n",
       "      <td>0.029485</td>\n",
       "      <td>0.123626</td>\n",
       "      <td>-0.089078</td>\n",
       "      <td>-0.086008</td>\n",
       "      <td>-0.040978</td>\n",
       "      <td>-0.117594</td>\n",
       "    </tr>\n",
       "    <tr>\n",
       "      <th>log-loss</th>\n",
       "      <td>1.033721</td>\n",
       "      <td>0.836858</td>\n",
       "      <td>0.098019</td>\n",
       "      <td>1.541409</td>\n",
       "      <td>0.785764</td>\n",
       "      <td>1.117735</td>\n",
       "      <td>0.120876</td>\n",
       "      <td>-0.068253</td>\n",
       "      <td>-0.112821</td>\n",
       "      <td>0.054898</td>\n",
       "      <td>0.187136</td>\n",
       "      <td>0.134855</td>\n",
       "      <td>0.210907</td>\n",
       "    </tr>\n",
       "  </tbody>\n",
       "</table>\n",
       "</div>"
      ],
      "text/plain": [
       "              CCPM       PNN       WDL       MLR       NFM       AFM  \\\n",
       "metric                                                                 \n",
       "roc-auc  -1.376905 -0.515805 -0.057509 -1.836797 -0.634478 -1.548611   \n",
       "log-loss  1.033721  0.836858  0.098019  1.541409  0.785764  1.117735   \n",
       "\n",
       "               DCN    DCNMix   xDeepFM   AutoInt  FiBiNET-inter  FiBiNET-all  \\\n",
       "metric                                                                         \n",
       "roc-auc  -0.245365  0.029485  0.123626 -0.089078      -0.086008    -0.040978   \n",
       "log-loss  0.120876 -0.068253 -0.112821  0.054898       0.187136     0.134855   \n",
       "\n",
       "          FiBiNET-each  \n",
       "metric                  \n",
       "roc-auc      -0.117594  \n",
       "log-loss      0.210907  "
      ]
     },
     "execution_count": 60,
     "metadata": {},
     "output_type": "execute_result"
    }
   ],
   "source": [
    "get_ate(all_metrics, control_name='DeepFM')"
   ]
  },
  {
   "cell_type": "code",
   "execution_count": 61,
   "metadata": {},
   "outputs": [
    {
     "data": {
      "text/html": [
       "<div>\n",
       "<style scoped>\n",
       "    .dataframe tbody tr th:only-of-type {\n",
       "        vertical-align: middle;\n",
       "    }\n",
       "\n",
       "    .dataframe tbody tr th {\n",
       "        vertical-align: top;\n",
       "    }\n",
       "\n",
       "    .dataframe thead th {\n",
       "        text-align: right;\n",
       "    }\n",
       "</style>\n",
       "<table border=\"1\" class=\"dataframe\">\n",
       "  <thead>\n",
       "    <tr style=\"text-align: right;\">\n",
       "      <th></th>\n",
       "      <th>CCPM</th>\n",
       "      <th>PNN</th>\n",
       "      <th>WDL</th>\n",
       "      <th>DeepFM</th>\n",
       "      <th>MLR</th>\n",
       "      <th>NFM</th>\n",
       "      <th>AFM</th>\n",
       "      <th>DCN</th>\n",
       "      <th>DCNMix</th>\n",
       "      <th>xDeepFM</th>\n",
       "      <th>AutoInt</th>\n",
       "      <th>FiBiNET-inter</th>\n",
       "      <th>FiBiNET-each</th>\n",
       "    </tr>\n",
       "    <tr>\n",
       "      <th>metric</th>\n",
       "      <th></th>\n",
       "      <th></th>\n",
       "      <th></th>\n",
       "      <th></th>\n",
       "      <th></th>\n",
       "      <th></th>\n",
       "      <th></th>\n",
       "      <th></th>\n",
       "      <th></th>\n",
       "      <th></th>\n",
       "      <th></th>\n",
       "      <th></th>\n",
       "      <th></th>\n",
       "    </tr>\n",
       "  </thead>\n",
       "  <tbody>\n",
       "    <tr>\n",
       "      <th>roc-auc</th>\n",
       "      <td>-1.335889</td>\n",
       "      <td>-0.474789</td>\n",
       "      <td>-0.016493</td>\n",
       "      <td>0.041016</td>\n",
       "      <td>-1.795781</td>\n",
       "      <td>-0.593462</td>\n",
       "      <td>-1.507595</td>\n",
       "      <td>-0.204349</td>\n",
       "      <td>0.070501</td>\n",
       "      <td>0.164642</td>\n",
       "      <td>-0.048062</td>\n",
       "      <td>-0.0450</td>\n",
       "      <td>-0.0766</td>\n",
       "    </tr>\n",
       "    <tr>\n",
       "      <th>log-loss</th>\n",
       "      <td>0.898888</td>\n",
       "      <td>0.702025</td>\n",
       "      <td>-0.036814</td>\n",
       "      <td>-0.134833</td>\n",
       "      <td>1.406576</td>\n",
       "      <td>0.650931</td>\n",
       "      <td>0.982902</td>\n",
       "      <td>-0.013957</td>\n",
       "      <td>-0.203086</td>\n",
       "      <td>-0.247654</td>\n",
       "      <td>-0.079935</td>\n",
       "      <td>0.0523</td>\n",
       "      <td>0.0761</td>\n",
       "    </tr>\n",
       "  </tbody>\n",
       "</table>\n",
       "</div>"
      ],
      "text/plain": [
       "              CCPM       PNN       WDL    DeepFM       MLR       NFM  \\\n",
       "metric                                                                 \n",
       "roc-auc  -1.335889 -0.474789 -0.016493  0.041016 -1.795781 -0.593462   \n",
       "log-loss  0.898888  0.702025 -0.036814 -0.134833  1.406576  0.650931   \n",
       "\n",
       "               AFM       DCN    DCNMix   xDeepFM   AutoInt  FiBiNET-inter  \\\n",
       "metric                                                                      \n",
       "roc-auc  -1.507595 -0.204349  0.070501  0.164642 -0.048062        -0.0450   \n",
       "log-loss  0.982902 -0.013957 -0.203086 -0.247654 -0.079935         0.0523   \n",
       "\n",
       "          FiBiNET-each  \n",
       "metric                  \n",
       "roc-auc        -0.0766  \n",
       "log-loss        0.0761  "
      ]
     },
     "execution_count": 61,
     "metadata": {},
     "output_type": "execute_result"
    }
   ],
   "source": [
    "get_ate(all_metrics, control_name='FiBiNET-all')"
   ]
  }
 ],
 "metadata": {
  "kernelspec": {
   "display_name": "Python 3",
   "language": "python",
   "name": "python3"
  },
  "language_info": {
   "codemirror_mode": {
    "name": "ipython",
    "version": 3
   },
   "file_extension": ".py",
   "mimetype": "text/x-python",
   "name": "python",
   "nbconvert_exporter": "python",
   "pygments_lexer": "ipython3",
   "version": "3.6.12"
  }
 },
 "nbformat": 4,
 "nbformat_minor": 4
}
